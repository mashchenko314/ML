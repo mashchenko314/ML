{
 "cells": [
  {
   "cell_type": "markdown",
   "metadata": {},
   "source": [
    "# ЛР №3. Подготовка обучающей и тестовой выборки, кросс-валидация и подбор гиперпараметров на примере метода ближайших соседей.\n",
    "\n",
    "В качестве набора данных мы будем использовать набор данных по распознаванию вин из ЛР №1 - https://scikit-learn.org/stable/datasets/toy_dataset.html."
   ]
  },
  {
   "cell_type": "code",
   "execution_count": 1,
   "metadata": {},
   "outputs": [],
   "source": [
    "import numpy as np\n",
    "import pandas as pd\n",
    "import seaborn as sns\n",
    "from sklearn.datasets import *\n",
    "from IPython.display import Image\n",
    "from sklearn.model_selection import train_test_split\n",
    "from sklearn.neighbors import KNeighborsRegressor, KNeighborsClassifier\n",
    "from sklearn.model_selection import cross_val_score, cross_validate\n",
    "from sklearn.model_selection import KFold, RepeatedKFold, LeaveOneOut, LeavePOut, ShuffleSplit, StratifiedKFold\n",
    "from sklearn.metrics import accuracy_score, balanced_accuracy_score\n",
    "from sklearn.metrics import precision_score, recall_score, f1_score, classification_report\n",
    "from sklearn.metrics import confusion_matrix\n",
    "from sklearn.metrics import mean_absolute_error, mean_squared_error, mean_squared_log_error, median_absolute_error, r2_score \n",
    "from sklearn.metrics import roc_curve, roc_auc_score\n",
    "from sklearn.model_selection import GridSearchCV, RandomizedSearchCV\n",
    "from sklearn.model_selection import learning_curve, validation_curve\n",
    "import seaborn as sns\n",
    "import matplotlib.pyplot as plt\n",
    "%matplotlib inline \n",
    "sns.set(style=\"ticks\")"
   ]
  },
  {
   "cell_type": "code",
   "execution_count": 7,
   "metadata": {},
   "outputs": [],
   "source": [
    "wine = load_wine()"
   ]
  },
  {
   "cell_type": "code",
   "execution_count": 9,
   "metadata": {},
   "outputs": [
    {
     "data": {
      "text/plain": [
       "array([0, 0, 0, 0, 0, 0, 0, 0, 0, 0, 0, 0, 0, 0, 0, 0, 0, 0, 0, 0, 0, 0,\n",
       "       0, 0, 0, 0, 0, 0, 0, 0, 0, 0, 0, 0, 0, 0, 0, 0, 0, 0, 0, 0, 0, 0,\n",
       "       0, 0, 0, 0, 0, 0, 0, 0, 0, 0, 0, 0, 0, 0, 0, 1, 1, 1, 1, 1, 1, 1,\n",
       "       1, 1, 1, 1, 1, 1, 1, 1, 1, 1, 1, 1, 1, 1, 1, 1, 1, 1, 1, 1, 1, 1,\n",
       "       1, 1, 1, 1, 1, 1, 1, 1, 1, 1, 1, 1, 1, 1, 1, 1, 1, 1, 1, 1, 1, 1,\n",
       "       1, 1, 1, 1, 1, 1, 1, 1, 1, 1, 1, 1, 1, 1, 1, 1, 1, 1, 1, 1, 2, 2,\n",
       "       2, 2, 2, 2, 2, 2, 2, 2, 2, 2, 2, 2, 2, 2, 2, 2, 2, 2, 2, 2, 2, 2,\n",
       "       2, 2, 2, 2, 2, 2, 2, 2, 2, 2, 2, 2, 2, 2, 2, 2, 2, 2, 2, 2, 2, 2,\n",
       "       2, 2])"
      ]
     },
     "execution_count": 9,
     "metadata": {},
     "output_type": "execute_result"
    }
   ],
   "source": [
    "wine['target']"
   ]
  },
  {
   "cell_type": "markdown",
   "metadata": {},
   "source": [
    "## Разделение выборки на обучающую и тестовую"
   ]
  },
  {
   "cell_type": "code",
   "execution_count": 4,
   "metadata": {},
   "outputs": [],
   "source": [
    "wine_X_train, wine_X_test, wine_y_train, wine_y_test = train_test_split(\n",
    "    wine.data, wine.target, test_size=0.5, random_state=1)"
   ]
  },
  {
   "cell_type": "code",
   "execution_count": 5,
   "metadata": {},
   "outputs": [
    {
     "data": {
      "text/plain": [
       "((89, 13), (89,))"
      ]
     },
     "execution_count": 5,
     "metadata": {},
     "output_type": "execute_result"
    }
   ],
   "source": [
    "# Размер обучающей выборки\n",
    "wine_X_train.shape, wine_y_train.shape"
   ]
  },
  {
   "cell_type": "code",
   "execution_count": 10,
   "metadata": {},
   "outputs": [
    {
     "data": {
      "text/plain": [
       "((89, 13), (89,))"
      ]
     },
     "execution_count": 10,
     "metadata": {},
     "output_type": "execute_result"
    }
   ],
   "source": [
    "# Размер тестовой выборки\n",
    "wine_X_test.shape, wine_y_test.shape"
   ]
  },
  {
   "cell_type": "markdown",
   "metadata": {},
   "source": [
    "## Обучение модели k ближайших соседей"
   ]
  },
  {
   "cell_type": "code",
   "execution_count": 97,
   "metadata": {},
   "outputs": [
    {
     "data": {
      "text/plain": [
       "(89,\n",
       " array([0, 1, 2, 1, 0, 1, 2, 0, 2, 1, 0, 2, 1, 0, 2, 1, 1, 2, 1, 0, 0, 1,\n",
       "        2, 0, 0, 2, 0, 0, 0, 1, 1, 1, 1, 0, 2, 1, 1, 2, 1, 0, 0, 1, 2, 0,\n",
       "        0, 2, 0, 0, 0, 0, 1, 2, 2, 0, 1, 0, 2, 1, 1, 1, 1, 0, 1, 1, 2, 0,\n",
       "        1, 0, 1, 2, 1, 1, 2, 2, 1, 1, 2, 2, 0, 2, 0, 0, 1, 0, 2, 2, 1, 0,\n",
       "        1]))"
      ]
     },
     "execution_count": 97,
     "metadata": {},
     "output_type": "execute_result"
    }
   ],
   "source": [
    "# 3 ближайших соседа\n",
    "cl1_1 = KNeighborsClassifier(n_neighbors=3)\n",
    "cl1_1.fit(wine_X_train, wine_y_train)\n",
    "target1_1 = cl1_1.predict(wine_X_test)\n",
    "len(target1_1), target1_1"
   ]
  },
  {
   "cell_type": "code",
   "execution_count": 87,
   "metadata": {},
   "outputs": [
    {
     "data": {
      "text/plain": [
       "(89,\n",
       " array([1, 1, 2, 1, 0, 1, 1, 0, 1, 1, 0, 1, 1, 0, 1, 1, 1, 0, 1, 0, 0, 1,\n",
       "        2, 0, 2, 1, 0, 0, 0, 2, 1, 2, 1, 0, 2, 1, 1, 1, 1, 0, 0, 1, 1, 2,\n",
       "        0, 2, 2, 0, 0, 0, 1, 1, 1, 0, 1, 0, 0, 1, 1, 1, 1, 0, 2, 2, 1, 0,\n",
       "        1, 0, 1, 2, 1, 1, 1, 2, 1, 1, 2, 1, 0, 2, 1, 0, 1, 0, 1, 1, 1, 0,\n",
       "        1]))"
      ]
     },
     "execution_count": 87,
     "metadata": {},
     "output_type": "execute_result"
    }
   ],
   "source": [
    "# 10 ближайших соседей\n",
    "cl1_2 = KNeighborsClassifier(n_neighbors=10)\n",
    "cl1_2.fit(wine_X_train, wine_y_train)\n",
    "target1_2 = cl1_2.predict(wine_X_test)\n",
    "len(target1_2), target1_2"
   ]
  },
  {
   "cell_type": "markdown",
   "metadata": {},
   "source": [
    "### Метрики качества регрессии\n",
    "\n",
    "1) Accuracy"
   ]
  },
  {
   "cell_type": "code",
   "execution_count": 98,
   "metadata": {},
   "outputs": [
    {
     "data": {
      "text/plain": [
       "0.6966292134831461"
      ]
     },
     "execution_count": 98,
     "metadata": {},
     "output_type": "execute_result"
    }
   ],
   "source": [
    "# 3 ближайших соседа\n",
    "accuracy_score(wine_y_test, target1_1)"
   ]
  },
  {
   "cell_type": "code",
   "execution_count": 89,
   "metadata": {},
   "outputs": [
    {
     "data": {
      "text/plain": [
       "0.6629213483146067"
      ]
     },
     "execution_count": 89,
     "metadata": {},
     "output_type": "execute_result"
    }
   ],
   "source": [
    "# 10 ближайших соседей\n",
    "accuracy_score(wine_y_test, target1_2)"
   ]
  },
  {
   "cell_type": "markdown",
   "metadata": {},
   "source": [
    "2) Матрица ошибок или Confusion Matrix"
   ]
  },
  {
   "cell_type": "code",
   "execution_count": 90,
   "metadata": {},
   "outputs": [],
   "source": [
    "# Конвертация целевого признака в бинарный\n",
    "def convert_target_to_binary(array:np.ndarray, target:int) -> np.ndarray:\n",
    "    # Если целевой признак совпадает с указанным, то 1 иначе 0\n",
    "    res = [1 if x==target else 0 for x in array]\n",
    "    return res"
   ]
  },
  {
   "cell_type": "code",
   "execution_count": 91,
   "metadata": {},
   "outputs": [
    {
     "data": {
      "text/plain": [
       "[(1, 0),\n",
       " (1, 0),\n",
       " (0, 0),\n",
       " (1, 0),\n",
       " (1, 0),\n",
       " (1, 0),\n",
       " (2, 1),\n",
       " (1, 0),\n",
       " (1, 0),\n",
       " (1, 0)]"
      ]
     },
     "execution_count": 91,
     "metadata": {},
     "output_type": "execute_result"
    }
   ],
   "source": [
    "# Если целевой признак ==2, \n",
    "# то будем считать этот случай 1 в бинарном признаке\n",
    "bin_wine_y_train = convert_target_to_binary(wine_y_train, 2)\n",
    "list(zip(wine_y_train, bin_wine_y_train))[:10]"
   ]
  },
  {
   "cell_type": "code",
   "execution_count": 92,
   "metadata": {},
   "outputs": [
    {
     "data": {
      "text/plain": [
       "[(2, 1),\n",
       " (1, 0),\n",
       " (0, 0),\n",
       " (1, 0),\n",
       " (0, 0),\n",
       " (2, 1),\n",
       " (1, 0),\n",
       " (0, 0),\n",
       " (2, 1),\n",
       " (1, 0)]"
      ]
     },
     "execution_count": 92,
     "metadata": {},
     "output_type": "execute_result"
    }
   ],
   "source": [
    "bin_wine_y_test = convert_target_to_binary(wine_y_test, 2)\n",
    "list(zip(wine_y_test, bin_wine_y_test))[:10]"
   ]
  },
  {
   "cell_type": "code",
   "execution_count": 93,
   "metadata": {},
   "outputs": [],
   "source": [
    "# Конвертация предсказанных признаков\n",
    "bin_target1_1 = convert_target_to_binary(target1_1, 2)\n",
    "bin_target1_2 = convert_target_to_binary(target1_2, 2)"
   ]
  },
  {
   "cell_type": "code",
   "execution_count": 94,
   "metadata": {},
   "outputs": [
    {
     "data": {
      "text/plain": [
       "array([[54, 13],\n",
       "       [11, 11]], dtype=int64)"
      ]
     },
     "execution_count": 94,
     "metadata": {},
     "output_type": "execute_result"
    }
   ],
   "source": [
    "confusion_matrix(bin_wine_y_test, bin_target1_1, labels=[0, 1])"
   ]
  },
  {
   "cell_type": "code",
   "execution_count": 95,
   "metadata": {},
   "outputs": [
    {
     "data": {
      "text/plain": [
       "(54, 13, 11, 11)"
      ]
     },
     "execution_count": 95,
     "metadata": {},
     "output_type": "execute_result"
    }
   ],
   "source": [
    "tn, fp, fn, tp = confusion_matrix(bin_wine_y_test, bin_target1_1).ravel()\n",
    "tn, fp, fn, tp"
   ]
  },
  {
   "cell_type": "code",
   "execution_count": 30,
   "metadata": {},
   "outputs": [
    {
     "data": {
      "text/plain": [
       "array([[26,  0,  7],\n",
       "       [ 3, 25,  6],\n",
       "       [ 2,  9, 11]], dtype=int64)"
      ]
     },
     "execution_count": 30,
     "metadata": {},
     "output_type": "execute_result"
    }
   ],
   "source": [
    "# Пример для небинарной классификации\n",
    "confusion_matrix(wine_y_test, target1_1, labels=[0, 1, 2])"
   ]
  },
  {
   "cell_type": "code",
   "execution_count": 31,
   "metadata": {},
   "outputs": [
    {
     "data": {
      "text/plain": [
       "<sklearn.metrics._plot.confusion_matrix.ConfusionMatrixDisplay at 0x22499974f40>"
      ]
     },
     "execution_count": 31,
     "metadata": {},
     "output_type": "execute_result"
    },
    {
     "data": {
      "image/png": "[encoded data removed]",
      "text/plain": [
       "<Figure size 432x288 with 2 Axes>"
      ]
     },
     "metadata": {},
     "output_type": "display_data"
    }
   ],
   "source": [
    "from sklearn.metrics import confusion_matrix\n",
    "from sklearn.metrics import plot_confusion_matrix\n",
    "plot_confusion_matrix(cl1_1, wine_X_test, wine_y_test, \n",
    "                      display_labels=wine.target_names, cmap=plt.cm.Blues)"
   ]
  },
  {
   "cell_type": "code",
   "execution_count": 32,
   "metadata": {},
   "outputs": [
    {
     "data": {
      "text/plain": [
       "<sklearn.metrics._plot.confusion_matrix.ConfusionMatrixDisplay at 0x2249f424fd0>"
      ]
     },
     "execution_count": 32,
     "metadata": {},
     "output_type": "execute_result"
    },
    {
     "data": {
      "image/png": "[encoded data removed]",
      "text/plain": [
       "<Figure size 432x288 with 2 Axes>"
      ]
     },
     "metadata": {},
     "output_type": "display_data"
    }
   ],
   "source": [
    "plot_confusion_matrix(cl1_1, wine_X_test, wine_y_test, \n",
    "                      display_labels=wine.target_names, \n",
    "                      cmap=plt.cm.Blues, normalize='true')"
   ]
  },
  {
   "cell_type": "code",
   "execution_count": 33,
   "metadata": {},
   "outputs": [
    {
     "data": {
      "text/plain": [
       "<sklearn.metrics._plot.confusion_matrix.ConfusionMatrixDisplay at 0x2249f46e1c0>"
      ]
     },
     "execution_count": 33,
     "metadata": {},
     "output_type": "execute_result"
    },
    {
     "data": {
      "image/png": "[encoded data removed]",
      "text/plain": [
       "<Figure size 432x288 with 2 Axes>"
      ]
     },
     "metadata": {},
     "output_type": "display_data"
    }
   ],
   "source": [
    "plot_confusion_matrix(cl1_2, wine_X_test, wine_y_test, \n",
    "                      display_labels=wine.target_names, \n",
    "                      cmap=plt.cm.Blues, normalize='true')"
   ]
  },
  {
   "cell_type": "markdown",
   "metadata": {},
   "source": [
    "3) Precision, recall и F-мера"
   ]
  },
  {
   "cell_type": "code",
   "execution_count": 34,
   "metadata": {},
   "outputs": [
    {
     "data": {
      "text/plain": [
       "(0.4583333333333333, 0.5)"
      ]
     },
     "execution_count": 34,
     "metadata": {},
     "output_type": "execute_result"
    }
   ],
   "source": [
    "# Для 3 ближайших соседей\n",
    "precision_score(bin_wine_y_test, bin_target1_1), recall_score(bin_wine_y_test, bin_target1_1)"
   ]
  },
  {
   "cell_type": "code",
   "execution_count": 35,
   "metadata": {},
   "outputs": [
    {
     "data": {
      "text/plain": [
       "(0.3333333333333333, 0.22727272727272727)"
      ]
     },
     "execution_count": 35,
     "metadata": {},
     "output_type": "execute_result"
    }
   ],
   "source": [
    "# Для 10 ближайших соседей\n",
    "precision_score(bin_wine_y_test, bin_target1_2), recall_score(bin_wine_y_test, bin_target1_2)"
   ]
  },
  {
   "cell_type": "code",
   "execution_count": 36,
   "metadata": {},
   "outputs": [
    {
     "data": {
      "text/plain": [
       "0.6966292134831461"
      ]
     },
     "execution_count": 36,
     "metadata": {},
     "output_type": "execute_result"
    }
   ],
   "source": [
    "# Параметры TP, TN, FP, FN считаются как сумма по всем классам\n",
    "precision_score(wine_y_test, target1_1, average='micro')"
   ]
  },
  {
   "cell_type": "code",
   "execution_count": 37,
   "metadata": {},
   "outputs": [
    {
     "data": {
      "text/plain": [
       "0.6774457094665824"
      ]
     },
     "execution_count": 37,
     "metadata": {},
     "output_type": "execute_result"
    }
   ],
   "source": [
    "# Параметры TP, TN, FP, FN считаются отдельно для каждого класса \n",
    "# и берется среднее значение, дисбаланс классов не учитывается.\n",
    "precision_score(wine_y_test, target1_1, average='macro')"
   ]
  },
  {
   "cell_type": "code",
   "execution_count": 38,
   "metadata": {},
   "outputs": [
    {
     "data": {
      "text/plain": [
       "0.7051769964963152"
      ]
     },
     "execution_count": 38,
     "metadata": {},
     "output_type": "execute_result"
    }
   ],
   "source": [
    "# Параметры TP, TN, FP, FN считаются отдельно для каждого класса \n",
    "# и берется средневзвешенное значение, дисбаланс классов учитывается \n",
    "# в виде веса классов (вес - количество истинных значений каждого класса).\n",
    "precision_score(wine_y_test, target1_1, average='weighted')"
   ]
  },
  {
   "cell_type": "code",
   "execution_count": 39,
   "metadata": {},
   "outputs": [
    {
     "data": {
      "text/plain": [
       "0.27027027027027023"
      ]
     },
     "execution_count": 39,
     "metadata": {},
     "output_type": "execute_result"
    }
   ],
   "source": [
    "f1_score(bin_wine_y_test, bin_target1_2)"
   ]
  },
  {
   "cell_type": "code",
   "execution_count": 40,
   "metadata": {},
   "outputs": [
    {
     "data": {
      "text/plain": [
       "0.6966292134831461"
      ]
     },
     "execution_count": 40,
     "metadata": {},
     "output_type": "execute_result"
    }
   ],
   "source": [
    "f1_score(wine_y_test, target1_1, average='micro')"
   ]
  },
  {
   "cell_type": "code",
   "execution_count": 41,
   "metadata": {},
   "outputs": [
    {
     "data": {
      "text/plain": [
       "0.6966292134831461"
      ]
     },
     "execution_count": 41,
     "metadata": {},
     "output_type": "execute_result"
    }
   ],
   "source": [
    "recall_score(wine_y_test, target1_1, average='micro')"
   ]
  },
  {
   "cell_type": "code",
   "execution_count": 42,
   "metadata": {},
   "outputs": [
    {
     "data": {
      "text/plain": [
       "{'class_0': {'precision': 0.8387096774193549,\n",
       "  'recall': 0.7878787878787878,\n",
       "  'f1-score': 0.8125,\n",
       "  'support': 33},\n",
       " 'class_1': {'precision': 0.7352941176470589,\n",
       "  'recall': 0.7352941176470589,\n",
       "  'f1-score': 0.735294117647059,\n",
       "  'support': 34},\n",
       " 'class_2': {'precision': 0.4583333333333333,\n",
       "  'recall': 0.5,\n",
       "  'f1-score': 0.4782608695652174,\n",
       "  'support': 22},\n",
       " 'accuracy': 0.6966292134831461,\n",
       " 'macro avg': {'precision': 0.6774457094665824,\n",
       "  'recall': 0.6743909685086157,\n",
       "  'f1-score': 0.6753516624040921,\n",
       "  'support': 89},\n",
       " 'weighted avg': {'precision': 0.7051769964963152,\n",
       "  'recall': 0.6966292134831461,\n",
       "  'f1-score': 0.7003847093307279,\n",
       "  'support': 89}}"
      ]
     },
     "execution_count": 42,
     "metadata": {},
     "output_type": "execute_result"
    }
   ],
   "source": [
    "# Значения точности, полноты и F-меры для всех классов выборки\n",
    "classification_report(wine_y_test, target1_1, \n",
    "                      target_names=wine.target_names, output_dict=True)"
   ]
  },
  {
   "cell_type": "markdown",
   "metadata": {},
   "source": [
    "4) ROC-кривая и ROC AUC"
   ]
  },
  {
   "cell_type": "code",
   "execution_count": 43,
   "metadata": {},
   "outputs": [
    {
     "data": {
      "text/plain": [
       "array([0, 0, 1, 0, 0, 0, 1, 0, 1, 0, 0, 1, 0, 0, 1, 0, 0, 1, 0, 0, 0, 0,\n",
       "       1, 0, 0, 1, 0, 0, 0, 0, 0, 0, 0, 0, 1, 0, 0, 1, 0, 0, 0, 0, 1, 0,\n",
       "       0, 1, 0, 0, 0, 0, 0, 1, 1, 0, 0, 0, 1, 0, 0, 0, 0, 0, 0, 0, 1, 0,\n",
       "       0, 0, 0, 1, 0, 0, 1, 1, 0, 0, 1, 1, 0, 1, 0, 0, 0, 0, 1, 1, 0, 0,\n",
       "       0])"
      ]
     },
     "execution_count": 43,
     "metadata": {},
     "output_type": "execute_result"
    }
   ],
   "source": [
    "# Обучим модели на задаче бинарной классифкации, \n",
    "# чтобы получить вероятности классов\n",
    "\n",
    "# 3 ближайших соседа\n",
    "bin_cl1_1 = KNeighborsClassifier(n_neighbors=3)\n",
    "bin_cl1_1.fit(wine_X_train, bin_wine_y_train)\n",
    "# предскажем метки классов\n",
    "bin_cl1_1.predict(wine_X_test)"
   ]
  },
  {
   "cell_type": "code",
   "execution_count": 44,
   "metadata": {},
   "outputs": [
    {
     "data": {
      "text/plain": [
       "array([0, 1])"
      ]
     },
     "execution_count": 44,
     "metadata": {},
     "output_type": "execute_result"
    }
   ],
   "source": [
    "# Классы возвращаются в следующем порядке\n",
    "bin_cl1_1.classes_"
   ]
  },
  {
   "cell_type": "code",
   "execution_count": 45,
   "metadata": {},
   "outputs": [
    {
     "data": {
      "text/plain": [
       "(89,\n",
       " array([[0.66666667, 0.33333333],\n",
       "        [1.        , 0.        ],\n",
       "        [0.33333333, 0.66666667],\n",
       "        [0.66666667, 0.33333333],\n",
       "        [1.        , 0.        ],\n",
       "        [0.66666667, 0.33333333],\n",
       "        [0.        , 1.        ],\n",
       "        [1.        , 0.        ],\n",
       "        [0.33333333, 0.66666667],\n",
       "        [1.        , 0.        ],\n",
       "        [1.        , 0.        ],\n",
       "        [0.33333333, 0.66666667],\n",
       "        [1.        , 0.        ],\n",
       "        [1.        , 0.        ],\n",
       "        [0.33333333, 0.66666667],\n",
       "        [1.        , 0.        ],\n",
       "        [1.        , 0.        ],\n",
       "        [0.33333333, 0.66666667],\n",
       "        [1.        , 0.        ],\n",
       "        [1.        , 0.        ],\n",
       "        [1.        , 0.        ],\n",
       "        [1.        , 0.        ],\n",
       "        [0.33333333, 0.66666667],\n",
       "        [1.        , 0.        ],\n",
       "        [0.66666667, 0.33333333],\n",
       "        [0.33333333, 0.66666667],\n",
       "        [1.        , 0.        ],\n",
       "        [1.        , 0.        ],\n",
       "        [1.        , 0.        ],\n",
       "        [0.66666667, 0.33333333],\n",
       "        [0.66666667, 0.33333333],\n",
       "        [0.66666667, 0.33333333],\n",
       "        [0.66666667, 0.33333333],\n",
       "        [1.        , 0.        ],\n",
       "        [0.33333333, 0.66666667],\n",
       "        [1.        , 0.        ],\n",
       "        [1.        , 0.        ],\n",
       "        [0.33333333, 0.66666667],\n",
       "        [1.        , 0.        ],\n",
       "        [1.        , 0.        ],\n",
       "        [1.        , 0.        ],\n",
       "        [0.66666667, 0.33333333],\n",
       "        [0.33333333, 0.66666667],\n",
       "        [0.66666667, 0.33333333],\n",
       "        [1.        , 0.        ],\n",
       "        [0.33333333, 0.66666667],\n",
       "        [0.66666667, 0.33333333],\n",
       "        [1.        , 0.        ],\n",
       "        [1.        , 0.        ],\n",
       "        [1.        , 0.        ],\n",
       "        [0.66666667, 0.33333333],\n",
       "        [0.33333333, 0.66666667],\n",
       "        [0.33333333, 0.66666667],\n",
       "        [1.        , 0.        ],\n",
       "        [0.66666667, 0.33333333],\n",
       "        [0.66666667, 0.33333333],\n",
       "        [0.33333333, 0.66666667],\n",
       "        [1.        , 0.        ],\n",
       "        [0.66666667, 0.33333333],\n",
       "        [1.        , 0.        ],\n",
       "        [1.        , 0.        ],\n",
       "        [1.        , 0.        ],\n",
       "        [0.66666667, 0.33333333],\n",
       "        [0.66666667, 0.33333333],\n",
       "        [0.33333333, 0.66666667],\n",
       "        [1.        , 0.        ],\n",
       "        [1.        , 0.        ],\n",
       "        [1.        , 0.        ],\n",
       "        [1.        , 0.        ],\n",
       "        [0.33333333, 0.66666667],\n",
       "        [0.66666667, 0.33333333],\n",
       "        [1.        , 0.        ],\n",
       "        [0.33333333, 0.66666667],\n",
       "        [0.33333333, 0.66666667],\n",
       "        [1.        , 0.        ],\n",
       "        [1.        , 0.        ],\n",
       "        [0.33333333, 0.66666667],\n",
       "        [0.33333333, 0.66666667],\n",
       "        [1.        , 0.        ],\n",
       "        [0.33333333, 0.66666667],\n",
       "        [0.66666667, 0.33333333],\n",
       "        [1.        , 0.        ],\n",
       "        [1.        , 0.        ],\n",
       "        [1.        , 0.        ],\n",
       "        [0.33333333, 0.66666667],\n",
       "        [0.33333333, 0.66666667],\n",
       "        [1.        , 0.        ],\n",
       "        [1.        , 0.        ],\n",
       "        [1.        , 0.        ]]))"
      ]
     },
     "execution_count": 45,
     "metadata": {},
     "output_type": "execute_result"
    }
   ],
   "source": [
    "# предскажем вероятности классов\n",
    "proba_target1_1 = bin_cl1_1.predict_proba(wine_X_test)\n",
    "len(proba_target1_1), proba_target1_1"
   ]
  },
  {
   "cell_type": "code",
   "execution_count": 46,
   "metadata": {},
   "outputs": [
    {
     "data": {
      "text/plain": [
       "array([0.33333333, 0.        , 0.66666667, 0.33333333, 0.        ,\n",
       "       0.33333333, 1.        , 0.        , 0.66666667, 0.        ,\n",
       "       0.        , 0.66666667, 0.        , 0.        , 0.66666667,\n",
       "       0.        , 0.        , 0.66666667, 0.        , 0.        ,\n",
       "       0.        , 0.        , 0.66666667, 0.        , 0.33333333,\n",
       "       0.66666667, 0.        , 0.        , 0.        , 0.33333333,\n",
       "       0.33333333, 0.33333333, 0.33333333, 0.        , 0.66666667,\n",
       "       0.        , 0.        , 0.66666667, 0.        , 0.        ,\n",
       "       0.        , 0.33333333, 0.66666667, 0.33333333, 0.        ,\n",
       "       0.66666667, 0.33333333, 0.        , 0.        , 0.        ,\n",
       "       0.33333333, 0.66666667, 0.66666667, 0.        , 0.33333333,\n",
       "       0.33333333, 0.66666667, 0.        , 0.33333333, 0.        ,\n",
       "       0.        , 0.        , 0.33333333, 0.33333333, 0.66666667,\n",
       "       0.        , 0.        , 0.        , 0.        , 0.66666667,\n",
       "       0.33333333, 0.        , 0.66666667, 0.66666667, 0.        ,\n",
       "       0.        , 0.66666667, 0.66666667, 0.        , 0.66666667,\n",
       "       0.33333333, 0.        , 0.        , 0.        , 0.66666667,\n",
       "       0.66666667, 0.        , 0.        , 0.        ])"
      ]
     },
     "execution_count": 46,
     "metadata": {},
     "output_type": "execute_result"
    }
   ],
   "source": [
    "# вероятность единичного (истинного) класса\n",
    "true_proba_target1_1 = proba_target1_1[:,1]\n",
    "true_proba_target1_1"
   ]
  },
  {
   "cell_type": "code",
   "execution_count": 47,
   "metadata": {},
   "outputs": [
    {
     "data": {
      "text/plain": [
       "(array([0.        , 0.01492537, 0.19402985, 0.34328358, 1.        ]),\n",
       " array([0.        , 0.        , 0.5       , 0.90909091, 1.        ]),\n",
       " array([2.        , 1.        , 0.66666667, 0.33333333, 0.        ]))"
      ]
     },
     "execution_count": 47,
     "metadata": {},
     "output_type": "execute_result"
    }
   ],
   "source": [
    "fpr, tpr, thresholds = roc_curve(bin_wine_y_test, true_proba_target1_1, \n",
    "                                 pos_label=1)\n",
    "fpr, tpr, thresholds"
   ]
  },
  {
   "cell_type": "code",
   "execution_count": 48,
   "metadata": {},
   "outputs": [],
   "source": [
    "# Отрисовка ROC-кривой\n",
    "def draw_roc_curve(y_true, y_score, pos_label, average):\n",
    "    fpr, tpr, thresholds = roc_curve(y_true, y_score, \n",
    "                                     pos_label=pos_label)\n",
    "    roc_auc_value = roc_auc_score(y_true, y_score, average=average)\n",
    "    plt.figure()\n",
    "    lw = 2\n",
    "    plt.plot(fpr, tpr, color='darkorange',\n",
    "             lw=lw, label='ROC curve (area = %0.2f)' % roc_auc_value)\n",
    "    plt.plot([0, 1], [0, 1], color='navy', lw=lw, linestyle='--')\n",
    "    plt.xlim([0.0, 1.0])\n",
    "    plt.ylim([0.0, 1.05])\n",
    "    plt.xlabel('False Positive Rate')\n",
    "    plt.ylabel('True Positive Rate')\n",
    "    plt.title('Receiver operating characteristic example')\n",
    "    plt.legend(loc=\"lower right\")\n",
    "    plt.show()"
   ]
  },
  {
   "cell_type": "code",
   "execution_count": 50,
   "metadata": {},
   "outputs": [
    {
     "data": {
      "image/png": "[encoded data removed]",
      "text/plain": [
       "<Figure size 432x288 with 1 Axes>"
      ]
     },
     "metadata": {},
     "output_type": "display_data"
    }
   ],
   "source": [
    "# Для 3 ближайших соседей\n",
    "draw_roc_curve(bin_wine_y_test, bin_target1_1, pos_label=1, average='micro')"
   ]
  },
  {
   "cell_type": "code",
   "execution_count": 51,
   "metadata": {},
   "outputs": [
    {
     "data": {
      "text/plain": [
       "(array([0.        , 0.01492537, 0.04477612, 0.19402985, 0.32835821,\n",
       "        0.35820896, 0.41791045, 0.56716418, 1.        ]),\n",
       " array([0.        , 0.09090909, 0.18181818, 0.5       , 0.77272727,\n",
       "        0.90909091, 0.90909091, 1.        , 1.        ]),\n",
       " array([1.7, 0.7, 0.6, 0.5, 0.4, 0.3, 0.2, 0.1, 0. ]))"
      ]
     },
     "execution_count": 51,
     "metadata": {},
     "output_type": "execute_result"
    }
   ],
   "source": [
    "# Для 10 ближайших соседей\n",
    "bin_cl1_2 = KNeighborsClassifier(n_neighbors=10)\n",
    "bin_cl1_2.fit(wine_X_train, bin_wine_y_train)\n",
    "proba_target2_1 = bin_cl1_2.predict_proba(wine_X_test)\n",
    "true_proba_target2_1 = proba_target2_1[:,1]\n",
    "roc_curve_k10_res = roc_curve(bin_wine_y_test, true_proba_target2_1, pos_label=1)\n",
    "roc_curve_k10_res"
   ]
  },
  {
   "cell_type": "code",
   "execution_count": 52,
   "metadata": {},
   "outputs": [
    {
     "data": {
      "image/png": "[encoded data removed]",
      "text/plain": [
       "<Figure size 432x288 with 1 Axes>"
      ]
     },
     "metadata": {},
     "output_type": "display_data"
    }
   ],
   "source": [
    "draw_roc_curve(bin_wine_y_test, true_proba_target2_1, pos_label=1, average='micro')"
   ]
  },
  {
   "cell_type": "markdown",
   "metadata": {},
   "source": [
    "## Подбор гиперпараметра K с использованием GridSearchCV и кросс-валидации"
   ]
  },
  {
   "cell_type": "code",
   "execution_count": 53,
   "metadata": {},
   "outputs": [],
   "source": [
    "from sklearn.model_selection import GridSearchCV"
   ]
  },
  {
   "cell_type": "code",
   "execution_count": 77,
   "metadata": {},
   "outputs": [
    {
     "data": {
      "text/plain": [
       "[{'n_neighbors': array([ 5, 10, 15, 20, 25, 30, 35, 40, 45, 50])}]"
      ]
     },
     "execution_count": 77,
     "metadata": {},
     "output_type": "execute_result"
    }
   ],
   "source": [
    "n_range = np.array(range(5, 55, 5))\n",
    "tuned_parameters = [{'n_neighbors': n_range}]\n",
    "tuned_parameters"
   ]
  },
  {
   "cell_type": "code",
   "execution_count": 55,
   "metadata": {},
   "outputs": [
    {
     "name": "stdout",
     "output_type": "stream",
     "text": [
      "Wall time: 424 ms\n"
     ]
    },
    {
     "data": {
      "text/plain": [
       "GridSearchCV(cv=5, estimator=KNeighborsClassifier(),\n",
       "             param_grid=[{'n_neighbors': array([ 5, 10, 15, 20, 25, 30, 35, 40, 45, 50])}],\n",
       "             scoring='accuracy')"
      ]
     },
     "execution_count": 55,
     "metadata": {},
     "output_type": "execute_result"
    }
   ],
   "source": [
    "%%time\n",
    "clf_gs = GridSearchCV(KNeighborsClassifier(), tuned_parameters, cv=5, scoring='accuracy')\n",
    "clf_gs.fit(wine_X_train, wine_y_train)"
   ]
  },
  {
   "cell_type": "code",
   "execution_count": 56,
   "metadata": {},
   "outputs": [
    {
     "data": {
      "text/plain": [
       "{'mean_fit_time': array([0.00364857, 0.00323715, 0.0022912 , 0.00237217, 0.00137711,\n",
       "        0.0013763 , 0.00162058, 0.00100832, 0.00100827, 0.00067492]),\n",
       " 'std_fit_time': array([5.47567878e-04, 1.01310007e-03, 5.42314009e-04, 7.83711754e-04,\n",
       "        4.62453064e-04, 5.06059070e-04, 5.22900341e-04, 3.42909909e-05,\n",
       "        6.67901418e-04, 3.63937770e-04]),\n",
       " 'mean_score_time': array([0.00980382, 0.00624776, 0.00581241, 0.00518398, 0.00312529,\n",
       "        0.00419807, 0.00586729, 0.00357432, 0.00354428, 0.00303535]),\n",
       " 'std_score_time': array([0.00341847, 0.00077434, 0.00040802, 0.00116442, 0.00011496,\n",
       "        0.00116789, 0.00170025, 0.00077099, 0.00106359, 0.00154788]),\n",
       " 'param_n_neighbors': masked_array(data=[5, 10, 15, 20, 25, 30, 35, 40, 45, 50],\n",
       "              mask=[False, False, False, False, False, False, False, False,\n",
       "                    False, False],\n",
       "        fill_value='?',\n",
       "             dtype=object),\n",
       " 'params': [{'n_neighbors': 5},\n",
       "  {'n_neighbors': 10},\n",
       "  {'n_neighbors': 15},\n",
       "  {'n_neighbors': 20},\n",
       "  {'n_neighbors': 25},\n",
       "  {'n_neighbors': 30},\n",
       "  {'n_neighbors': 35},\n",
       "  {'n_neighbors': 40},\n",
       "  {'n_neighbors': 45},\n",
       "  {'n_neighbors': 50}],\n",
       " 'split0_test_score': array([0.77777778, 0.77777778, 0.83333333, 0.72222222, 0.77777778,\n",
       "        0.72222222, 0.72222222, 0.72222222, 0.77777778, 0.77777778]),\n",
       " 'split1_test_score': array([0.72222222, 0.66666667, 0.72222222, 0.66666667, 0.77777778,\n",
       "        0.77777778, 0.77777778, 0.77777778, 0.72222222, 0.72222222]),\n",
       " 'split2_test_score': array([0.66666667, 0.72222222, 0.61111111, 0.72222222, 0.72222222,\n",
       "        0.66666667, 0.72222222, 0.66666667, 0.66666667, 0.61111111]),\n",
       " 'split3_test_score': array([0.83333333, 0.77777778, 0.72222222, 0.72222222, 0.77777778,\n",
       "        0.77777778, 0.61111111, 0.66666667, 0.72222222, 0.72222222]),\n",
       " 'split4_test_score': array([0.47058824, 0.47058824, 0.70588235, 0.70588235, 0.52941176,\n",
       "        0.52941176, 0.64705882, 0.58823529, 0.58823529, 0.64705882]),\n",
       " 'mean_test_score': array([0.69411765, 0.68300654, 0.71895425, 0.70784314, 0.71699346,\n",
       "        0.69477124, 0.69607843, 0.68431373, 0.69542484, 0.69607843]),\n",
       " 'std_test_score': array([0.12481093, 0.11392065, 0.07057613, 0.0215389 , 0.09622726,\n",
       "        0.09237678, 0.05943761, 0.06328742, 0.06408563, 0.05943761]),\n",
       " 'rank_test_score': array([ 8, 10,  1,  3,  2,  7,  4,  9,  6,  4])}"
      ]
     },
     "execution_count": 56,
     "metadata": {},
     "output_type": "execute_result"
    }
   ],
   "source": [
    "clf_gs.cv_results_"
   ]
  },
  {
   "cell_type": "code",
   "execution_count": 78,
   "metadata": {},
   "outputs": [
    {
     "data": {
      "text/plain": [
       "{'n_neighbors': 25}"
      ]
     },
     "execution_count": 78,
     "metadata": {},
     "output_type": "execute_result"
    }
   ],
   "source": [
    "#Лучшее значение параметров:\n",
    "clf_gs.best_params_"
   ]
  },
  {
   "cell_type": "code",
   "execution_count": 79,
   "metadata": {},
   "outputs": [
    {
     "data": {
      "text/plain": [
       "0.7191011235955056"
      ]
     },
     "execution_count": 79,
     "metadata": {},
     "output_type": "execute_result"
    }
   ],
   "source": [
    "#Лучшее значение метрики:\n",
    "clf_gs.best_score_"
   ]
  },
  {
   "cell_type": "markdown",
   "metadata": {},
   "source": [
    "## Сравнение метрик качества исходной и оптимальной моделей"
   ]
  },
  {
   "cell_type": "code",
   "execution_count": 100,
   "metadata": {},
   "outputs": [],
   "source": [
    "#Обучение модели и оценка качества с учетом подобранных гиперпараметров\n",
    "clf_gs.best_estimator_.fit(wine_X_train, wine_y_train)\n",
    "target1_3 = clf_gs.best_estimator_.predict(wine_X_test)"
   ]
  },
  {
   "cell_type": "code",
   "execution_count": 102,
   "metadata": {},
   "outputs": [
    {
     "data": {
      "text/plain": [
       "0.7303370786516854"
      ]
     },
     "execution_count": 102,
     "metadata": {},
     "output_type": "execute_result"
    }
   ],
   "source": [
    "# Новое качество модели\n",
    "accuracy_score(wine_y_test, target1_3)"
   ]
  },
  {
   "cell_type": "code",
   "execution_count": 99,
   "metadata": {},
   "outputs": [
    {
     "data": {
      "text/plain": [
       "0.6966292134831461"
      ]
     },
     "execution_count": 99,
     "metadata": {},
     "output_type": "execute_result"
    }
   ],
   "source": [
    "# Качество модели до подбора гиперпараметров\n",
    "accuracy_score(wine_y_test, target1_1)"
   ]
  }
 ],
 "metadata": {
  "kernelspec": {
   "display_name": "Python 3",
   "language": "python",
   "name": "python3"
  },
  "language_info": {
   "codemirror_mode": {
    "name": "ipython",
    "version": 3
   },
   "file_extension": ".py",
   "mimetype": "text/x-python",
   "name": "python",
   "nbconvert_exporter": "python",
   "pygments_lexer": "ipython3",
   "version": "3.8.5"
  }
 },
 "nbformat": 4,
 "nbformat_minor": 4
}
