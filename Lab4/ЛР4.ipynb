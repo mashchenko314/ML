{
 "cells": [
  {
   "cell_type": "markdown",
   "metadata": {},
   "source": [
    "# ЛР №4. Линейные модели, SVM и деревья решений.\n",
    "\n",
    "В качестве набора данных мы будем использовать следующий датасет - https://www.kaggle.com/adityakadiwal/water-potability. Будем решать задачу классификации для предсказания, безопасна ли вода для потребления человеком.\n",
    "\n",
    "Нашей целевой переменной является Potability: 1 - пригодна для питья, 0 - не пригодна для питья."
   ]
  },
  {
   "cell_type": "markdown",
   "metadata": {},
   "source": [
    "## Подготовка"
   ]
  },
  {
   "cell_type": "code",
   "execution_count": 82,
   "metadata": {},
   "outputs": [],
   "source": [
    "import pandas as pd\n",
    "from sklearn.preprocessing import LabelEncoder, StandardScaler\n",
    "from sklearn.impute import SimpleImputer\n",
    "from sklearn.impute import MissingIndicator\n",
    "from sklearn.model_selection import train_test_split\n",
    "import seaborn as sns\n",
    "import matplotlib.pyplot as plt\n",
    "%matplotlib inline \n",
    "sns.set(style=\"ticks\")\n",
    "import numpy as np\n",
    "from typing import Dict, Tuple\n",
    "\n",
    "from sklearn.metrics import accuracy_score, balanced_accuracy_score\n",
    "from sklearn.metrics import confusion_matrix\n",
    "from sklearn.metrics import classification_report\n",
    "from sklearn.metrics import plot_roc_curve, plot_precision_recall_curve\n",
    "from sklearn.model_selection import cross_validate, KFold, StratifiedKFold\n",
    "from sklearn.model_selection import GridSearchCV, RandomizedSearchCV\n",
    "from scipy.stats import uniform, randint\n",
    "from sklearn.model_selection import validation_curve, learning_curve\n",
    "\n",
    "from sklearn.linear_model import LogisticRegression\n",
    "from sklearn.svm import SVC\n",
    "from sklearn.tree import DecisionTreeClassifier, export_graphviz\n",
    "\n",
    "import graphviz"
   ]
  },
  {
   "cell_type": "code",
   "execution_count": 18,
   "metadata": {},
   "outputs": [],
   "source": [
    "data = pd.read_csv('water_potability.csv', sep=',')"
   ]
  },
  {
   "cell_type": "code",
   "execution_count": 19,
   "metadata": {},
   "outputs": [
    {
     "data": {
      "text/html": [
       "<div>\n",
       "<style scoped>\n",
       "    .dataframe tbody tr th:only-of-type {\n",
       "        vertical-align: middle;\n",
       "    }\n",
       "\n",
       "    .dataframe tbody tr th {\n",
       "        vertical-align: top;\n",
       "    }\n",
       "\n",
       "    .dataframe thead th {\n",
       "        text-align: right;\n",
       "    }\n",
       "</style>\n",
       "<table border=\"1\" class=\"dataframe\">\n",
       "  <thead>\n",
       "    <tr style=\"text-align: right;\">\n",
       "      <th></th>\n",
       "      <th>ph</th>\n",
       "      <th>Hardness</th>\n",
       "      <th>Solids</th>\n",
       "      <th>Chloramines</th>\n",
       "      <th>Sulfate</th>\n",
       "      <th>Conductivity</th>\n",
       "      <th>Organic_carbon</th>\n",
       "      <th>Trihalomethanes</th>\n",
       "      <th>Turbidity</th>\n",
       "      <th>Potability</th>\n",
       "    </tr>\n",
       "  </thead>\n",
       "  <tbody>\n",
       "    <tr>\n",
       "      <th>0</th>\n",
       "      <td>NaN</td>\n",
       "      <td>204.890455</td>\n",
       "      <td>20791.318981</td>\n",
       "      <td>7.300212</td>\n",
       "      <td>368.516441</td>\n",
       "      <td>564.308654</td>\n",
       "      <td>10.379783</td>\n",
       "      <td>86.990970</td>\n",
       "      <td>2.963135</td>\n",
       "      <td>0</td>\n",
       "    </tr>\n",
       "    <tr>\n",
       "      <th>1</th>\n",
       "      <td>3.716080</td>\n",
       "      <td>129.422921</td>\n",
       "      <td>18630.057858</td>\n",
       "      <td>6.635246</td>\n",
       "      <td>NaN</td>\n",
       "      <td>592.885359</td>\n",
       "      <td>15.180013</td>\n",
       "      <td>56.329076</td>\n",
       "      <td>4.500656</td>\n",
       "      <td>0</td>\n",
       "    </tr>\n",
       "    <tr>\n",
       "      <th>2</th>\n",
       "      <td>8.099124</td>\n",
       "      <td>224.236259</td>\n",
       "      <td>19909.541732</td>\n",
       "      <td>9.275884</td>\n",
       "      <td>NaN</td>\n",
       "      <td>418.606213</td>\n",
       "      <td>16.868637</td>\n",
       "      <td>66.420093</td>\n",
       "      <td>3.055934</td>\n",
       "      <td>0</td>\n",
       "    </tr>\n",
       "    <tr>\n",
       "      <th>3</th>\n",
       "      <td>8.316766</td>\n",
       "      <td>214.373394</td>\n",
       "      <td>22018.417441</td>\n",
       "      <td>8.059332</td>\n",
       "      <td>356.886136</td>\n",
       "      <td>363.266516</td>\n",
       "      <td>18.436524</td>\n",
       "      <td>100.341674</td>\n",
       "      <td>4.628771</td>\n",
       "      <td>0</td>\n",
       "    </tr>\n",
       "    <tr>\n",
       "      <th>4</th>\n",
       "      <td>9.092223</td>\n",
       "      <td>181.101509</td>\n",
       "      <td>17978.986339</td>\n",
       "      <td>6.546600</td>\n",
       "      <td>310.135738</td>\n",
       "      <td>398.410813</td>\n",
       "      <td>11.558279</td>\n",
       "      <td>31.997993</td>\n",
       "      <td>4.075075</td>\n",
       "      <td>0</td>\n",
       "    </tr>\n",
       "  </tbody>\n",
       "</table>\n",
       "</div>"
      ],
      "text/plain": [
       "         ph    Hardness        Solids  Chloramines     Sulfate  Conductivity  \\\n",
       "0       NaN  204.890455  20791.318981     7.300212  368.516441    564.308654   \n",
       "1  3.716080  129.422921  18630.057858     6.635246         NaN    592.885359   \n",
       "2  8.099124  224.236259  19909.541732     9.275884         NaN    418.606213   \n",
       "3  8.316766  214.373394  22018.417441     8.059332  356.886136    363.266516   \n",
       "4  9.092223  181.101509  17978.986339     6.546600  310.135738    398.410813   \n",
       "\n",
       "   Organic_carbon  Trihalomethanes  Turbidity  Potability  \n",
       "0       10.379783        86.990970   2.963135           0  \n",
       "1       15.180013        56.329076   4.500656           0  \n",
       "2       16.868637        66.420093   3.055934           0  \n",
       "3       18.436524       100.341674   4.628771           0  \n",
       "4       11.558279        31.997993   4.075075           0  "
      ]
     },
     "execution_count": 19,
     "metadata": {},
     "output_type": "execute_result"
    }
   ],
   "source": [
    "data.head()"
   ]
  },
  {
   "cell_type": "code",
   "execution_count": 20,
   "metadata": {},
   "outputs": [
    {
     "name": "stdout",
     "output_type": "stream",
     "text": [
      "<class 'pandas.core.frame.DataFrame'>\n",
      "RangeIndex: 3276 entries, 0 to 3275\n",
      "Data columns (total 10 columns):\n",
      " #   Column           Non-Null Count  Dtype  \n",
      "---  ------           --------------  -----  \n",
      " 0   ph               2785 non-null   float64\n",
      " 1   Hardness         3276 non-null   float64\n",
      " 2   Solids           3276 non-null   float64\n",
      " 3   Chloramines      3276 non-null   float64\n",
      " 4   Sulfate          2495 non-null   float64\n",
      " 5   Conductivity     3276 non-null   float64\n",
      " 6   Organic_carbon   3276 non-null   float64\n",
      " 7   Trihalomethanes  3114 non-null   float64\n",
      " 8   Turbidity        3276 non-null   float64\n",
      " 9   Potability       3276 non-null   int64  \n",
      "dtypes: float64(9), int64(1)\n",
      "memory usage: 256.1 KB\n"
     ]
    }
   ],
   "source": [
    "data.info()"
   ]
  },
  {
   "cell_type": "code",
   "execution_count": 21,
   "metadata": {},
   "outputs": [
    {
     "data": {
      "text/plain": [
       "0"
      ]
     },
     "execution_count": 21,
     "metadata": {},
     "output_type": "execute_result"
    }
   ],
   "source": [
    "data.duplicated().sum()"
   ]
  },
  {
   "cell_type": "code",
   "execution_count": 22,
   "metadata": {},
   "outputs": [
    {
     "data": {
      "text/plain": [
       "Sulfate            23.840049\n",
       "ph                 14.987790\n",
       "Trihalomethanes     4.945055\n",
       "Potability          0.000000\n",
       "Turbidity           0.000000\n",
       "Organic_carbon      0.000000\n",
       "Conductivity        0.000000\n",
       "Chloramines         0.000000\n",
       "Solids              0.000000\n",
       "Hardness            0.000000\n",
       "dtype: float64"
      ]
     },
     "execution_count": 22,
     "metadata": {},
     "output_type": "execute_result"
    }
   ],
   "source": [
    "# Проверяем процент пропусков в данных для всех колонок\n",
    "(data.isnull().sum()/data.shape[0]*100).sort_values(ascending=False)"
   ]
  },
  {
   "cell_type": "markdown",
   "metadata": {},
   "source": [
    "Удаляем столбцы sulfate и ph, поскольку процент пропусков достаточно высокий."
   ]
  },
  {
   "cell_type": "code",
   "execution_count": 23,
   "metadata": {},
   "outputs": [],
   "source": [
    "# Колонки для которых удаляются пропуски\n",
    "cols_with_na_temp = ['Sulfate', 'ph']"
   ]
  },
  {
   "cell_type": "code",
   "execution_count": 24,
   "metadata": {},
   "outputs": [],
   "source": [
    "# Удаление пропусков\n",
    "data.drop(cols_with_na_temp, axis=1, inplace=True)"
   ]
  },
  {
   "cell_type": "markdown",
   "metadata": {},
   "source": [
    "Для столбца Trihalomethanes выполним импьютацию показателями центра распределения, поскольку процент пропусков <5%."
   ]
  },
  {
   "cell_type": "code",
   "execution_count": 31,
   "metadata": {},
   "outputs": [],
   "source": [
    "#С помощью класса SimpleImputer можно проводить импьютацию различными показателями центра распределения\n",
    "indicator = MissingIndicator()\n",
    "mask_missing_values_only = indicator.fit_transform(data[['Trihalomethanes']])\n",
    "imp_num = SimpleImputer(strategy='median')\n",
    "data_num_imp = imp_num.fit_transform(data[['Trihalomethanes']])\n",
    "data['Trihalomethanes'] =data_num_imp"
   ]
  },
  {
   "cell_type": "code",
   "execution_count": 32,
   "metadata": {},
   "outputs": [
    {
     "data": {
      "text/plain": [
       "Potability         0.0\n",
       "Turbidity          0.0\n",
       "Trihalomethanes    0.0\n",
       "Organic_carbon     0.0\n",
       "Conductivity       0.0\n",
       "Chloramines        0.0\n",
       "Solids             0.0\n",
       "Hardness           0.0\n",
       "dtype: float64"
      ]
     },
     "execution_count": 32,
     "metadata": {},
     "output_type": "execute_result"
    }
   ],
   "source": [
    "# Проверяем процент пропусков в данных для всех колонок\n",
    "(data.isnull().sum()/data.shape[0]*100).sort_values(ascending=False)"
   ]
  },
  {
   "cell_type": "code",
   "execution_count": 34,
   "metadata": {},
   "outputs": [],
   "source": [
    "#Выполняем масштабирование признаков\n",
    "col_num = data.dtypes[data.dtypes!=object].index.values.tolist()\n",
    "col_num.remove('Potability')\n",
    "se = StandardScaler()\n",
    "data[col_num] = se.fit_transform(data[col_num])"
   ]
  },
  {
   "cell_type": "code",
   "execution_count": 35,
   "metadata": {},
   "outputs": [
    {
     "data": {
      "text/html": [
       "<div>\n",
       "<style scoped>\n",
       "    .dataframe tbody tr th:only-of-type {\n",
       "        vertical-align: middle;\n",
       "    }\n",
       "\n",
       "    .dataframe tbody tr th {\n",
       "        vertical-align: top;\n",
       "    }\n",
       "\n",
       "    .dataframe thead th {\n",
       "        text-align: right;\n",
       "    }\n",
       "</style>\n",
       "<table border=\"1\" class=\"dataframe\">\n",
       "  <thead>\n",
       "    <tr style=\"text-align: right;\">\n",
       "      <th></th>\n",
       "      <th>Hardness</th>\n",
       "      <th>Solids</th>\n",
       "      <th>Chloramines</th>\n",
       "      <th>Conductivity</th>\n",
       "      <th>Organic_carbon</th>\n",
       "      <th>Trihalomethanes</th>\n",
       "      <th>Turbidity</th>\n",
       "      <th>Potability</th>\n",
       "    </tr>\n",
       "  </thead>\n",
       "  <tbody>\n",
       "    <tr>\n",
       "      <th>0</th>\n",
       "      <td>0.259195</td>\n",
       "      <td>-0.139471</td>\n",
       "      <td>0.112415</td>\n",
       "      <td>1.708954</td>\n",
       "      <td>-1.180651</td>\n",
       "      <td>1.305434</td>\n",
       "      <td>-1.286298</td>\n",
       "      <td>0</td>\n",
       "    </tr>\n",
       "    <tr>\n",
       "      <th>1</th>\n",
       "      <td>-2.036414</td>\n",
       "      <td>-0.385987</td>\n",
       "      <td>-0.307694</td>\n",
       "      <td>2.062575</td>\n",
       "      <td>0.270597</td>\n",
       "      <td>-0.639186</td>\n",
       "      <td>0.684218</td>\n",
       "      <td>0</td>\n",
       "    </tr>\n",
       "    <tr>\n",
       "      <th>2</th>\n",
       "      <td>0.847665</td>\n",
       "      <td>-0.240047</td>\n",
       "      <td>1.360594</td>\n",
       "      <td>-0.094032</td>\n",
       "      <td>0.781117</td>\n",
       "      <td>0.000800</td>\n",
       "      <td>-1.167365</td>\n",
       "      <td>0</td>\n",
       "    </tr>\n",
       "    <tr>\n",
       "      <th>3</th>\n",
       "      <td>0.547651</td>\n",
       "      <td>0.000493</td>\n",
       "      <td>0.592008</td>\n",
       "      <td>-0.778830</td>\n",
       "      <td>1.255134</td>\n",
       "      <td>2.152154</td>\n",
       "      <td>0.848412</td>\n",
       "      <td>0</td>\n",
       "    </tr>\n",
       "    <tr>\n",
       "      <th>4</th>\n",
       "      <td>-0.464429</td>\n",
       "      <td>-0.460249</td>\n",
       "      <td>-0.363698</td>\n",
       "      <td>-0.343939</td>\n",
       "      <td>-0.824357</td>\n",
       "      <td>-2.182297</td>\n",
       "      <td>0.138786</td>\n",
       "      <td>0</td>\n",
       "    </tr>\n",
       "  </tbody>\n",
       "</table>\n",
       "</div>"
      ],
      "text/plain": [
       "   Hardness    Solids  Chloramines  Conductivity  Organic_carbon  \\\n",
       "0  0.259195 -0.139471     0.112415      1.708954       -1.180651   \n",
       "1 -2.036414 -0.385987    -0.307694      2.062575        0.270597   \n",
       "2  0.847665 -0.240047     1.360594     -0.094032        0.781117   \n",
       "3  0.547651  0.000493     0.592008     -0.778830        1.255134   \n",
       "4 -0.464429 -0.460249    -0.363698     -0.343939       -0.824357   \n",
       "\n",
       "   Trihalomethanes  Turbidity  Potability  \n",
       "0         1.305434  -1.286298           0  \n",
       "1        -0.639186   0.684218           0  \n",
       "2         0.000800  -1.167365           0  \n",
       "3         2.152154   0.848412           0  \n",
       "4        -2.182297   0.138786           0  "
      ]
     },
     "execution_count": 35,
     "metadata": {},
     "output_type": "execute_result"
    }
   ],
   "source": [
    "data.head()"
   ]
  },
  {
   "cell_type": "code",
   "execution_count": 36,
   "metadata": {},
   "outputs": [
    {
     "data": {
      "image/png": "[encoded data removed]",
      "text/plain": [
       "<Figure size 720x720 with 2 Axes>"
      ]
     },
     "metadata": {},
     "output_type": "display_data"
    }
   ],
   "source": [
    "plt.figure(figsize=(10,10))\n",
    "g = sns.heatmap(data.corr())"
   ]
  },
  {
   "cell_type": "code",
   "execution_count": 53,
   "metadata": {},
   "outputs": [],
   "source": [
    "#удалим признак Organic_carbon, поскольку он слабее всех коррелирует с целевым\n",
    "data_copy=data.copy()\n",
    "dataD_copy = data_copy.drop(columns=['Organic_carbon'])\n",
    "dataD = data.drop(columns=['Organic_carbon'])"
   ]
  },
  {
   "cell_type": "code",
   "execution_count": 54,
   "metadata": {},
   "outputs": [
    {
     "data": {
      "text/html": [
       "<div>\n",
       "<style scoped>\n",
       "    .dataframe tbody tr th:only-of-type {\n",
       "        vertical-align: middle;\n",
       "    }\n",
       "\n",
       "    .dataframe tbody tr th {\n",
       "        vertical-align: top;\n",
       "    }\n",
       "\n",
       "    .dataframe thead th {\n",
       "        text-align: right;\n",
       "    }\n",
       "</style>\n",
       "<table border=\"1\" class=\"dataframe\">\n",
       "  <thead>\n",
       "    <tr style=\"text-align: right;\">\n",
       "      <th></th>\n",
       "      <th>Hardness</th>\n",
       "      <th>Solids</th>\n",
       "      <th>Chloramines</th>\n",
       "      <th>Conductivity</th>\n",
       "      <th>Trihalomethanes</th>\n",
       "      <th>Turbidity</th>\n",
       "      <th>Potability</th>\n",
       "    </tr>\n",
       "  </thead>\n",
       "  <tbody>\n",
       "    <tr>\n",
       "      <th>0</th>\n",
       "      <td>0.259195</td>\n",
       "      <td>-0.139471</td>\n",
       "      <td>0.112415</td>\n",
       "      <td>1.708954</td>\n",
       "      <td>1.305434</td>\n",
       "      <td>-1.286298</td>\n",
       "      <td>0</td>\n",
       "    </tr>\n",
       "    <tr>\n",
       "      <th>1</th>\n",
       "      <td>-2.036414</td>\n",
       "      <td>-0.385987</td>\n",
       "      <td>-0.307694</td>\n",
       "      <td>2.062575</td>\n",
       "      <td>-0.639186</td>\n",
       "      <td>0.684218</td>\n",
       "      <td>0</td>\n",
       "    </tr>\n",
       "    <tr>\n",
       "      <th>2</th>\n",
       "      <td>0.847665</td>\n",
       "      <td>-0.240047</td>\n",
       "      <td>1.360594</td>\n",
       "      <td>-0.094032</td>\n",
       "      <td>0.000800</td>\n",
       "      <td>-1.167365</td>\n",
       "      <td>0</td>\n",
       "    </tr>\n",
       "    <tr>\n",
       "      <th>3</th>\n",
       "      <td>0.547651</td>\n",
       "      <td>0.000493</td>\n",
       "      <td>0.592008</td>\n",
       "      <td>-0.778830</td>\n",
       "      <td>2.152154</td>\n",
       "      <td>0.848412</td>\n",
       "      <td>0</td>\n",
       "    </tr>\n",
       "    <tr>\n",
       "      <th>4</th>\n",
       "      <td>-0.464429</td>\n",
       "      <td>-0.460249</td>\n",
       "      <td>-0.363698</td>\n",
       "      <td>-0.343939</td>\n",
       "      <td>-2.182297</td>\n",
       "      <td>0.138786</td>\n",
       "      <td>0</td>\n",
       "    </tr>\n",
       "  </tbody>\n",
       "</table>\n",
       "</div>"
      ],
      "text/plain": [
       "   Hardness    Solids  Chloramines  Conductivity  Trihalomethanes  Turbidity  \\\n",
       "0  0.259195 -0.139471     0.112415      1.708954         1.305434  -1.286298   \n",
       "1 -2.036414 -0.385987    -0.307694      2.062575        -0.639186   0.684218   \n",
       "2  0.847665 -0.240047     1.360594     -0.094032         0.000800  -1.167365   \n",
       "3  0.547651  0.000493     0.592008     -0.778830         2.152154   0.848412   \n",
       "4 -0.464429 -0.460249    -0.363698     -0.343939        -2.182297   0.138786   \n",
       "\n",
       "   Potability  \n",
       "0           0  \n",
       "1           0  \n",
       "2           0  \n",
       "3           0  \n",
       "4           0  "
      ]
     },
     "execution_count": 54,
     "metadata": {},
     "output_type": "execute_result"
    }
   ],
   "source": [
    "dataD.head()"
   ]
  },
  {
   "cell_type": "code",
   "execution_count": 44,
   "metadata": {},
   "outputs": [],
   "source": [
    "def class_proportions(array: np.ndarray) -> Dict[int, Tuple[int, float]]:\n",
    "    \"\"\"\n",
    "    Вычисляет пропорции классов\n",
    "    array - массив, содержащий метки классов\n",
    "    \"\"\"\n",
    "    labels, counts = np.unique(array, return_counts=True)\n",
    "    counts_perc = counts/array.size\n",
    "    res = dict()\n",
    "    for label, count2 in zip(labels, zip(counts, counts_perc)):\n",
    "        res[label] = count2\n",
    "    return res\n",
    "\n",
    "def print_class_proportions(array: np.ndarray):\n",
    "    \"\"\"\n",
    "    Вывод пропорций классов\n",
    "    \"\"\"\n",
    "    proportions = class_proportions(array)\n",
    "    if len(proportions)>0:\n",
    "        print('Метка \\t Количество \\t Процент встречаемости')\n",
    "    for i in proportions:\n",
    "        val, val_perc = proportions[i]\n",
    "        val_perc_100 = round(val_perc * 100, 2)\n",
    "        print('{} \\t {} \\t \\t {}%'.format(i, val, val_perc_100))"
   ]
  },
  {
   "cell_type": "code",
   "execution_count": 66,
   "metadata": {},
   "outputs": [],
   "source": [
    "TEST_SIZE = 0.3\n",
    "RANDOM_STATE = 0\n",
    "SPLITS_DEFAULT = 5\n",
    "CROSS_VAL = StratifiedKFold(n_splits=SPLITS_DEFAULT)"
   ]
  },
  {
   "cell_type": "code",
   "execution_count": 56,
   "metadata": {},
   "outputs": [],
   "source": [
    "data_X = data.drop(columns='Potability')\n",
    "data_y = data['Potability']\n",
    "dataD_X = dataD.drop(columns='Potability')\n",
    "dataD_y = dataD['Potability']"
   ]
  },
  {
   "cell_type": "code",
   "execution_count": 57,
   "metadata": {},
   "outputs": [],
   "source": [
    "data_X_train, data_X_test, data_y_train, data_y_test = train_test_split(data_X, \\\n",
    "                                                                        data_y, test_size=TEST_SIZE, \\\n",
    "                                                                        random_state=RANDOM_STATE)\n",
    "dataD_X_train, dataD_X_test, dataD_y_train, dataD_y_test = train_test_split(dataD_X, \\\n",
    "                                                                        dataD_y, test_size=TEST_SIZE, \\\n",
    "                                                                        random_state=RANDOM_STATE)"
   ]
  },
  {
   "cell_type": "code",
   "execution_count": 58,
   "metadata": {},
   "outputs": [
    {
     "name": "stdout",
     "output_type": "stream",
     "text": [
      "Метка \t Количество \t Процент встречаемости\n",
      "0 \t 1388 \t \t 60.53%\n",
      "1 \t 905 \t \t 39.47%\n"
     ]
    }
   ],
   "source": [
    "print_class_proportions(data_y_train)"
   ]
  },
  {
   "cell_type": "code",
   "execution_count": 59,
   "metadata": {},
   "outputs": [
    {
     "name": "stdout",
     "output_type": "stream",
     "text": [
      "Метка \t Количество \t Процент встречаемости\n",
      "0 \t 610 \t \t 62.05%\n",
      "1 \t 373 \t \t 37.95%\n"
     ]
    }
   ],
   "source": [
    "print_class_proportions(data_y_test)"
   ]
  },
  {
   "cell_type": "code",
   "execution_count": 61,
   "metadata": {},
   "outputs": [],
   "source": [
    "def print_metrics(X_train, Y_train, X_test, Y_test, clf):\n",
    "    clf.fit(X_train, Y_train)\n",
    "    target = clf.predict(X_test)\n",
    "    ret = balanced_accuracy_score(Y_test, target)\n",
    "    print(f'Сбалансированная оценка: {ret}')\n",
    "    plot_roc_curve(clf, X_test, Y_test)\n",
    "    plt.show()\n",
    "    print(f'Матрица ошибок:\\n {confusion_matrix(Y_test, target)}')\n",
    "    print(classification_report(Y_test, target, target_names=['1', '0']))\n",
    "    return ret"
   ]
  },
  {
   "cell_type": "code",
   "execution_count": 62,
   "metadata": {},
   "outputs": [],
   "source": [
    "def print_gridResults(grid, p):\n",
    "    print(f'Подобранный параметр: {grid.best_params_}')\n",
    "    print(f'Оценка при подобранном параметре: {grid.best_score_}')\n",
    "    return [grid.best_params_[p], grid.best_score_]"
   ]
  },
  {
   "cell_type": "code",
   "execution_count": 63,
   "metadata": {},
   "outputs": [],
   "source": [
    "def get_optimum(clf, dist, n_iter, data_X_train, data_y_train, scoring='balanced_accuracy'):\n",
    "    Random_grid = RandomizedSearchCV(clf, dist, n_iter=n_iter, \\\n",
    "                                      scoring=scoring, cv=CROSS_VAL, random_state=RANDOM_STATE)\n",
    "    Random_grid.fit(data_X_train, data_y_train)\n",
    "    res = print_gridResults(Random_grid, list(dist.keys())[0])\n",
    "    return res"
   ]
  },
  {
   "cell_type": "markdown",
   "metadata": {},
   "source": [
    "## Logistic Regression"
   ]
  },
  {
   "cell_type": "code",
   "execution_count": 64,
   "metadata": {},
   "outputs": [],
   "source": [
    "LogReg_param = {\"C\":uniform(loc=0, scale=100)}  # равномерное распределение между 0 и 100"
   ]
  },
  {
   "cell_type": "markdown",
   "metadata": {},
   "source": [
    "### 1. Удален признак Organic_carbon"
   ]
  },
  {
   "cell_type": "code",
   "execution_count": 67,
   "metadata": {},
   "outputs": [
    {
     "name": "stdout",
     "output_type": "stream",
     "text": [
      "Подобранный параметр: {'C': 54.88135039273247}\n",
      "Оценка при подобранном параметре: 0.4998330617274137\n"
     ]
    }
   ],
   "source": [
    "linearD = get_optimum(LogisticRegression(max_iter=10000), LogReg_param, 20, dataD_X_train, dataD_y_train)"
   ]
  },
  {
   "cell_type": "code",
   "execution_count": 68,
   "metadata": {},
   "outputs": [
    {
     "name": "stdout",
     "output_type": "stream",
     "text": [
      "Сбалансированная оценка: 0.5\n"
     ]
    },
    {
     "data": {
      "image/png": "[encoded data removed]",
      "text/plain": [
       "<Figure size 432x288 with 1 Axes>"
      ]
     },
     "metadata": {},
     "output_type": "display_data"
    },
    {
     "name": "stdout",
     "output_type": "stream",
     "text": [
      "Матрица ошибок:\n",
      " [[610   0]\n",
      " [373   0]]\n",
      "              precision    recall  f1-score   support\n",
      "\n",
      "           1       0.62      1.00      0.77       610\n",
      "           0       0.00      0.00      0.00       373\n",
      "\n",
      "    accuracy                           0.62       983\n",
      "   macro avg       0.31      0.50      0.38       983\n",
      "weighted avg       0.39      0.62      0.48       983\n",
      "\n"
     ]
    },
    {
     "name": "stderr",
     "output_type": "stream",
     "text": [
      "C:\\Users\\User\\anaconda3\\lib\\site-packages\\sklearn\\metrics\\_classification.py:1221: UndefinedMetricWarning: Precision and F-score are ill-defined and being set to 0.0 in labels with no predicted samples. Use `zero_division` parameter to control this behavior.\n",
      "  _warn_prf(average, modifier, msg_start, len(result))\n"
     ]
    }
   ],
   "source": [
    "LRd = print_metrics(dataD_X_train, dataD_y_train, dataD_X_test, dataD_y_test, LogisticRegression(C=linearD[0], max_iter=10000))"
   ]
  },
  {
   "cell_type": "markdown",
   "metadata": {},
   "source": [
    "### 2. Не удален признак Organic_carbon"
   ]
  },
  {
   "cell_type": "code",
   "execution_count": 69,
   "metadata": {},
   "outputs": [
    {
     "name": "stdout",
     "output_type": "stream",
     "text": [
      "Подобранный параметр: {'C': 54.88135039273247}\n",
      "Оценка при подобранном параметре: 0.4994733494971978\n"
     ]
    }
   ],
   "source": [
    "linear = get_optimum(LogisticRegression(max_iter=10000), LogReg_param, 20, data_X_train, data_y_train)"
   ]
  },
  {
   "cell_type": "code",
   "execution_count": 70,
   "metadata": {},
   "outputs": [
    {
     "name": "stdout",
     "output_type": "stream",
     "text": [
      "Сбалансированная оценка: 0.5\n"
     ]
    },
    {
     "data": {
      "image/png": "[encoded data removed]",
      "text/plain": [
       "<Figure size 432x288 with 1 Axes>"
      ]
     },
     "metadata": {},
     "output_type": "display_data"
    },
    {
     "name": "stdout",
     "output_type": "stream",
     "text": [
      "Матрица ошибок:\n",
      " [[610   0]\n",
      " [373   0]]\n",
      "              precision    recall  f1-score   support\n",
      "\n",
      "           1       0.62      1.00      0.77       610\n",
      "           0       0.00      0.00      0.00       373\n",
      "\n",
      "    accuracy                           0.62       983\n",
      "   macro avg       0.31      0.50      0.38       983\n",
      "weighted avg       0.39      0.62      0.48       983\n",
      "\n"
     ]
    },
    {
     "name": "stderr",
     "output_type": "stream",
     "text": [
      "C:\\Users\\User\\anaconda3\\lib\\site-packages\\sklearn\\metrics\\_classification.py:1221: UndefinedMetricWarning: Precision and F-score are ill-defined and being set to 0.0 in labels with no predicted samples. Use `zero_division` parameter to control this behavior.\n",
      "  _warn_prf(average, modifier, msg_start, len(result))\n"
     ]
    }
   ],
   "source": [
    "LR = print_metrics(data_X_train, data_y_train, data_X_test, data_y_test, LogisticRegression(C=linear[0], max_iter=10000))"
   ]
  },
  {
   "cell_type": "markdown",
   "metadata": {},
   "source": [
    "## SVM"
   ]
  },
  {
   "cell_type": "code",
   "execution_count": 71,
   "metadata": {},
   "outputs": [],
   "source": [
    "SVM_param = {\"C\":uniform(loc=0, scale=100)}  # равномерное распределение между 0 и 100"
   ]
  },
  {
   "cell_type": "markdown",
   "metadata": {},
   "source": [
    "### 1. Удален признак Organic_carbon"
   ]
  },
  {
   "cell_type": "code",
   "execution_count": 72,
   "metadata": {},
   "outputs": [
    {
     "name": "stdout",
     "output_type": "stream",
     "text": [
      "Подобранный параметр: {'C': 71.51893663724195}\n",
      "Оценка при подобранном параметре: 0.5268194571334973\n"
     ]
    }
   ],
   "source": [
    "svmD = get_optimum(SVC(random_state=RANDOM_STATE), SVM_param, 3, dataD_X_train, dataD_y_train)"
   ]
  },
  {
   "cell_type": "code",
   "execution_count": 73,
   "metadata": {},
   "outputs": [
    {
     "name": "stdout",
     "output_type": "stream",
     "text": [
      "Сбалансированная оценка: 0.5352349140772645\n"
     ]
    },
    {
     "data": {
      "image/png": "[encoded data removed]",
      "text/plain": [
       "<Figure size 432x288 with 1 Axes>"
      ]
     },
     "metadata": {},
     "output_type": "display_data"
    },
    {
     "name": "stdout",
     "output_type": "stream",
     "text": [
      "Матрица ошибок:\n",
      " [[478 132]\n",
      " [266 107]]\n",
      "              precision    recall  f1-score   support\n",
      "\n",
      "           1       0.64      0.78      0.71       610\n",
      "           0       0.45      0.29      0.35       373\n",
      "\n",
      "    accuracy                           0.60       983\n",
      "   macro avg       0.55      0.54      0.53       983\n",
      "weighted avg       0.57      0.60      0.57       983\n",
      "\n"
     ]
    }
   ],
   "source": [
    "SVMd = print_metrics(dataD_X_train, dataD_y_train, dataD_X_test, dataD_y_test, SVC(random_state=RANDOM_STATE, C=svmD[0]))"
   ]
  },
  {
   "cell_type": "markdown",
   "metadata": {},
   "source": [
    "### 2. Не удален признак Organic_carbon"
   ]
  },
  {
   "cell_type": "code",
   "execution_count": 74,
   "metadata": {},
   "outputs": [
    {
     "name": "stdout",
     "output_type": "stream",
     "text": [
      "Подобранный параметр: {'C': 60.276337607164386}\n",
      "Оценка при подобранном параметре: 0.526148360685965\n"
     ]
    }
   ],
   "source": [
    "svm = get_optimum(SVC(random_state=RANDOM_STATE), SVM_param, 3, data_X_train, data_y_train)"
   ]
  },
  {
   "cell_type": "code",
   "execution_count": 75,
   "metadata": {},
   "outputs": [
    {
     "name": "stdout",
     "output_type": "stream",
     "text": [
      "Сбалансированная оценка: 0.5296334549290204\n"
     ]
    },
    {
     "data": {
      "image/png": "[encoded data removed]",
      "text/plain": [
       "<Figure size 432x288 with 1 Axes>"
      ]
     },
     "metadata": {},
     "output_type": "display_data"
    },
    {
     "name": "stdout",
     "output_type": "stream",
     "text": [
      "Матрица ошибок:\n",
      " [[445 165]\n",
      " [250 123]]\n",
      "              precision    recall  f1-score   support\n",
      "\n",
      "           1       0.64      0.73      0.68       610\n",
      "           0       0.43      0.33      0.37       373\n",
      "\n",
      "    accuracy                           0.58       983\n",
      "   macro avg       0.53      0.53      0.53       983\n",
      "weighted avg       0.56      0.58      0.56       983\n",
      "\n"
     ]
    }
   ],
   "source": [
    "SVM = print_metrics(data_X_train, data_y_train, data_X_test, data_y_test, SVC(random_state=RANDOM_STATE, C=svm[0]))"
   ]
  },
  {
   "cell_type": "markdown",
   "metadata": {},
   "source": [
    "## Дерево решений"
   ]
  },
  {
   "cell_type": "code",
   "execution_count": 76,
   "metadata": {},
   "outputs": [],
   "source": [
    "Tree_param = {\"max_depth\":randint(1, 10)}  # целочисленное распределение между 1 и 10"
   ]
  },
  {
   "cell_type": "markdown",
   "metadata": {},
   "source": [
    "### 1. Удален признак Organic_carbon"
   ]
  },
  {
   "cell_type": "code",
   "execution_count": 77,
   "metadata": {},
   "outputs": [
    {
     "name": "stdout",
     "output_type": "stream",
     "text": [
      "Подобранный параметр: {'max_depth': 5}\n",
      "Оценка при подобранном параметре: 0.505404895621967\n"
     ]
    }
   ],
   "source": [
    "treeD = get_optimum(DecisionTreeClassifier(random_state=RANDOM_STATE), Tree_param, 10, dataD_X_train, dataD_y_train)"
   ]
  },
  {
   "cell_type": "code",
   "execution_count": 78,
   "metadata": {},
   "outputs": [
    {
     "name": "stdout",
     "output_type": "stream",
     "text": [
      "Сбалансированная оценка: 0.5149233068166835\n"
     ]
    },
    {
     "data": {
      "image/png": "[encoded data removed]",
      "text/plain": [
       "<Figure size 432x288 with 1 Axes>"
      ]
     },
     "metadata": {},
     "output_type": "display_data"
    },
    {
     "name": "stdout",
     "output_type": "stream",
     "text": [
      "Матрица ошибок:\n",
      " [[517  93]\n",
      " [305  68]]\n",
      "              precision    recall  f1-score   support\n",
      "\n",
      "           1       0.63      0.85      0.72       610\n",
      "           0       0.42      0.18      0.25       373\n",
      "\n",
      "    accuracy                           0.60       983\n",
      "   macro avg       0.53      0.51      0.49       983\n",
      "weighted avg       0.55      0.60      0.54       983\n",
      "\n"
     ]
    }
   ],
   "source": [
    "DTd = print_metrics(dataD_X_train, dataD_y_train, dataD_X_test, dataD_y_test, DecisionTreeClassifier(max_depth=treeD[0], \\\n",
    "                                                                                               random_state=RANDOM_STATE))"
   ]
  },
  {
   "cell_type": "code",
   "execution_count": 79,
   "metadata": {},
   "outputs": [
    {
     "data": {
      "text/plain": [
       "DecisionTreeClassifier(max_depth=5, random_state=0)"
      ]
     },
     "execution_count": 79,
     "metadata": {},
     "output_type": "execute_result"
    }
   ],
   "source": [
    "tr_clfD = DecisionTreeClassifier(max_depth=treeD[0], random_state=RANDOM_STATE)\n",
    "tr_clfD.fit(dataD_X_train, dataD_y_train)"
   ]
  },
  {
   "cell_type": "code",
   "execution_count": 104,
   "metadata": {
    "scrolled": true
   },
   "outputs": [
    {
     "data": {
      "image/svg+xml": [
       "<?xml version=\"1.0\" encoding=\"UTF-8\" standalone=\"no\"?>\r\n",
       "<!DOCTYPE svg PUBLIC \"-//W3C//DTD SVG 1.1//EN\"\r\n",
       " \"http://www.w3.org/Graphics/SVG/1.1/DTD/svg11.dtd\">\r\n",
       "<!-- Generated by graphviz version 2.38.0 (20140413.2041)\r\n",
       " -->\r\n",
       "<!-- Title: Tree Pages: 1 -->\r\n",
       "<svg width=\"1658pt\" height=\"671pt\"\r\n",
       " viewBox=\"0.00 0.00 1658.00 671.00\" xmlns=\"http://www.w3.org/2000/svg\" xmlns:xlink=\"http://www.w3.org/1999/xlink\">\r\n",
       "<g id=\"graph0\" class=\"graph\" transform=\"scale(1 1) rotate(0) translate(4 667)\">\r\n",
       "<title>Tree</title>\r\n",
       "<polygon fill=\"white\" stroke=\"none\" points=\"-4,4 -4,-667 1654,-667 1654,4 -4,4\"/>\r\n",
       "<!-- 0 -->\r\n",
       "<g id=\"node1\" class=\"node\"><title>0</title>\r\n",
       "<path fill=\"#f6d3ba\" stroke=\"black\" d=\"M1251.5,-663C1251.5,-663 1127.5,-663 1127.5,-663 1121.5,-663 1115.5,-657 1115.5,-651 1115.5,-651 1115.5,-592 1115.5,-592 1115.5,-586 1121.5,-580 1127.5,-580 1127.5,-580 1251.5,-580 1251.5,-580 1257.5,-580 1263.5,-586 1263.5,-592 1263.5,-592 1263.5,-651 1263.5,-651 1263.5,-657 1257.5,-663 1251.5,-663\"/>\r\n",
       "<text text-anchor=\"start\" x=\"1123.5\" y=\"-647.8\" font-family=\"Helvetica,sans-Serif\" font-size=\"14.00\">Chloramines ≤ 1.364</text>\r\n",
       "<text text-anchor=\"start\" x=\"1152\" y=\"-632.8\" font-family=\"Helvetica,sans-Serif\" font-size=\"14.00\">gini = 0.478</text>\r\n",
       "<text text-anchor=\"start\" x=\"1138\" y=\"-617.8\" font-family=\"Helvetica,sans-Serif\" font-size=\"14.00\">samples = 2293</text>\r\n",
       "<text text-anchor=\"start\" x=\"1128.5\" y=\"-602.8\" font-family=\"Helvetica,sans-Serif\" font-size=\"14.00\">value = [1388, 905]</text>\r\n",
       "<text text-anchor=\"start\" x=\"1160.5\" y=\"-587.8\" font-family=\"Helvetica,sans-Serif\" font-size=\"14.00\">class = 1</text>\r\n",
       "</g>\r\n",
       "<!-- 1 -->\r\n",
       "<g id=\"node2\" class=\"node\"><title>1</title>\r\n",
       "<path fill=\"#f5d0b4\" stroke=\"black\" d=\"M1131.5,-544C1131.5,-544 1017.5,-544 1017.5,-544 1011.5,-544 1005.5,-538 1005.5,-532 1005.5,-532 1005.5,-473 1005.5,-473 1005.5,-467 1011.5,-461 1017.5,-461 1017.5,-461 1131.5,-461 1131.5,-461 1137.5,-461 1143.5,-467 1143.5,-473 1143.5,-473 1143.5,-532 1143.5,-532 1143.5,-538 1137.5,-544 1131.5,-544\"/>\r\n",
       "<text text-anchor=\"start\" x=\"1018\" y=\"-528.8\" font-family=\"Helvetica,sans-Serif\" font-size=\"14.00\">Hardness ≤ 2.701</text>\r\n",
       "<text text-anchor=\"start\" x=\"1037\" y=\"-513.8\" font-family=\"Helvetica,sans-Serif\" font-size=\"14.00\">gini = 0.473</text>\r\n",
       "<text text-anchor=\"start\" x=\"1023\" y=\"-498.8\" font-family=\"Helvetica,sans-Serif\" font-size=\"14.00\">samples = 2086</text>\r\n",
       "<text text-anchor=\"start\" x=\"1013.5\" y=\"-483.8\" font-family=\"Helvetica,sans-Serif\" font-size=\"14.00\">value = [1285, 801]</text>\r\n",
       "<text text-anchor=\"start\" x=\"1045.5\" y=\"-468.8\" font-family=\"Helvetica,sans-Serif\" font-size=\"14.00\">class = 1</text>\r\n",
       "</g>\r\n",
       "<!-- 0&#45;&gt;1 -->\r\n",
       "<g id=\"edge1\" class=\"edge\"><title>0&#45;&gt;1</title>\r\n",
       "<path fill=\"none\" stroke=\"black\" d=\"M1149.6,-579.907C1140.5,-570.651 1130.75,-560.732 1121.39,-551.209\"/>\r\n",
       "<polygon fill=\"black\" stroke=\"black\" points=\"1123.83,-548.699 1114.33,-544.021 1118.84,-553.606 1123.83,-548.699\"/>\r\n",
       "<text text-anchor=\"middle\" x=\"1114.11\" y=\"-565.32\" font-family=\"Helvetica,sans-Serif\" font-size=\"14.00\">True</text>\r\n",
       "</g>\r\n",
       "<!-- 22 -->\r\n",
       "<g id=\"node23\" class=\"node\"><title>22</title>\r\n",
       "<path fill=\"#fdfeff\" stroke=\"black\" d=\"M1367.5,-544C1367.5,-544 1243.5,-544 1243.5,-544 1237.5,-544 1231.5,-538 1231.5,-532 1231.5,-532 1231.5,-473 1231.5,-473 1231.5,-467 1237.5,-461 1243.5,-461 1243.5,-461 1367.5,-461 1367.5,-461 1373.5,-461 1379.5,-467 1379.5,-473 1379.5,-473 1379.5,-532 1379.5,-532 1379.5,-538 1373.5,-544 1367.5,-544\"/>\r\n",
       "<text text-anchor=\"start\" x=\"1239.5\" y=\"-528.8\" font-family=\"Helvetica,sans-Serif\" font-size=\"14.00\">Chloramines ≤ 3.173</text>\r\n",
       "<text text-anchor=\"start\" x=\"1276.5\" y=\"-513.8\" font-family=\"Helvetica,sans-Serif\" font-size=\"14.00\">gini = 0.5</text>\r\n",
       "<text text-anchor=\"start\" x=\"1258\" y=\"-498.8\" font-family=\"Helvetica,sans-Serif\" font-size=\"14.00\">samples = 207</text>\r\n",
       "<text text-anchor=\"start\" x=\"1248.5\" y=\"-483.8\" font-family=\"Helvetica,sans-Serif\" font-size=\"14.00\">value = [103, 104]</text>\r\n",
       "<text text-anchor=\"start\" x=\"1276.5\" y=\"-468.8\" font-family=\"Helvetica,sans-Serif\" font-size=\"14.00\">class = 0</text>\r\n",
       "</g>\r\n",
       "<!-- 0&#45;&gt;22 -->\r\n",
       "<g id=\"edge22\" class=\"edge\"><title>0&#45;&gt;22</title>\r\n",
       "<path fill=\"none\" stroke=\"black\" d=\"M1229.75,-579.907C1238.92,-570.651 1248.76,-560.732 1258.2,-551.209\"/>\r\n",
       "<polygon fill=\"black\" stroke=\"black\" points=\"1260.77,-553.586 1265.33,-544.021 1255.8,-548.658 1260.77,-553.586\"/>\r\n",
       "<text text-anchor=\"middle\" x=\"1265.43\" y=\"-565.321\" font-family=\"Helvetica,sans-Serif\" font-size=\"14.00\">False</text>\r\n",
       "</g>\r\n",
       "<!-- 2 -->\r\n",
       "<g id=\"node3\" class=\"node\"><title>2</title>\r\n",
       "<path fill=\"#f5cfb3\" stroke=\"black\" d=\"M814.5,-425C814.5,-425 686.5,-425 686.5,-425 680.5,-425 674.5,-419 674.5,-413 674.5,-413 674.5,-354 674.5,-354 674.5,-348 680.5,-342 686.5,-342 686.5,-342 814.5,-342 814.5,-342 820.5,-342 826.5,-348 826.5,-354 826.5,-354 826.5,-413 826.5,-413 826.5,-419 820.5,-425 814.5,-425\"/>\r\n",
       "<text text-anchor=\"start\" x=\"682.5\" y=\"-409.8\" font-family=\"Helvetica,sans-Serif\" font-size=\"14.00\">Chloramines ≤ &#45;1.028</text>\r\n",
       "<text text-anchor=\"start\" x=\"713\" y=\"-394.8\" font-family=\"Helvetica,sans-Serif\" font-size=\"14.00\">gini = 0.472</text>\r\n",
       "<text text-anchor=\"start\" x=\"699\" y=\"-379.8\" font-family=\"Helvetica,sans-Serif\" font-size=\"14.00\">samples = 2074</text>\r\n",
       "<text text-anchor=\"start\" x=\"689.5\" y=\"-364.8\" font-family=\"Helvetica,sans-Serif\" font-size=\"14.00\">value = [1283, 791]</text>\r\n",
       "<text text-anchor=\"start\" x=\"721.5\" y=\"-349.8\" font-family=\"Helvetica,sans-Serif\" font-size=\"14.00\">class = 1</text>\r\n",
       "</g>\r\n",
       "<!-- 1&#45;&gt;2 -->\r\n",
       "<g id=\"edge2\" class=\"edge\"><title>1&#45;&gt;2</title>\r\n",
       "<path fill=\"none\" stroke=\"black\" d=\"M1005.39,-476.544C955.965,-458.696 889.114,-434.555 836.276,-415.475\"/>\r\n",
       "<polygon fill=\"black\" stroke=\"black\" points=\"837.175,-412.078 826.581,-411.974 834.797,-418.662 837.175,-412.078\"/>\r\n",
       "</g>\r\n",
       "<!-- 17 -->\r\n",
       "<g id=\"node18\" class=\"node\"><title>17</title>\r\n",
       "<path fill=\"#61b1ea\" stroke=\"black\" d=\"M1119,-425C1119,-425 1030,-425 1030,-425 1024,-425 1018,-419 1018,-413 1018,-413 1018,-354 1018,-354 1018,-348 1024,-342 1030,-342 1030,-342 1119,-342 1119,-342 1125,-342 1131,-348 1131,-354 1131,-354 1131,-413 1131,-413 1131,-419 1125,-425 1119,-425\"/>\r\n",
       "<text text-anchor=\"start\" x=\"1026\" y=\"-409.8\" font-family=\"Helvetica,sans-Serif\" font-size=\"14.00\">Solids ≤ &#45;0.001</text>\r\n",
       "<text text-anchor=\"start\" x=\"1037\" y=\"-394.8\" font-family=\"Helvetica,sans-Serif\" font-size=\"14.00\">gini = 0.278</text>\r\n",
       "<text text-anchor=\"start\" x=\"1031\" y=\"-379.8\" font-family=\"Helvetica,sans-Serif\" font-size=\"14.00\">samples = 12</text>\r\n",
       "<text text-anchor=\"start\" x=\"1030\" y=\"-364.8\" font-family=\"Helvetica,sans-Serif\" font-size=\"14.00\">value = [2, 10]</text>\r\n",
       "<text text-anchor=\"start\" x=\"1045.5\" y=\"-349.8\" font-family=\"Helvetica,sans-Serif\" font-size=\"14.00\">class = 0</text>\r\n",
       "</g>\r\n",
       "<!-- 1&#45;&gt;17 -->\r\n",
       "<g id=\"edge17\" class=\"edge\"><title>1&#45;&gt;17</title>\r\n",
       "<path fill=\"none\" stroke=\"black\" d=\"M1074.5,-460.907C1074.5,-452.649 1074.5,-443.864 1074.5,-435.302\"/>\r\n",
       "<polygon fill=\"black\" stroke=\"black\" points=\"1078,-435.021 1074.5,-425.021 1071,-435.021 1078,-435.021\"/>\r\n",
       "</g>\r\n",
       "<!-- 3 -->\r\n",
       "<g id=\"node4\" class=\"node\"><title>3</title>\r\n",
       "<path fill=\"#fbede3\" stroke=\"black\" d=\"M447.5,-306C447.5,-306 341.5,-306 341.5,-306 335.5,-306 329.5,-300 329.5,-294 329.5,-294 329.5,-235 329.5,-235 329.5,-229 335.5,-223 341.5,-223 341.5,-223 447.5,-223 447.5,-223 453.5,-223 459.5,-229 459.5,-235 459.5,-235 459.5,-294 459.5,-294 459.5,-300 453.5,-306 447.5,-306\"/>\r\n",
       "<text text-anchor=\"start\" x=\"346\" y=\"-290.8\" font-family=\"Helvetica,sans-Serif\" font-size=\"14.00\">Solids ≤ &#45;0.312</text>\r\n",
       "<text text-anchor=\"start\" x=\"357\" y=\"-275.8\" font-family=\"Helvetica,sans-Serif\" font-size=\"14.00\">gini = 0.497</text>\r\n",
       "<text text-anchor=\"start\" x=\"347\" y=\"-260.8\" font-family=\"Helvetica,sans-Serif\" font-size=\"14.00\">samples = 312</text>\r\n",
       "<text text-anchor=\"start\" x=\"337.5\" y=\"-245.8\" font-family=\"Helvetica,sans-Serif\" font-size=\"14.00\">value = [168, 144]</text>\r\n",
       "<text text-anchor=\"start\" x=\"365.5\" y=\"-230.8\" font-family=\"Helvetica,sans-Serif\" font-size=\"14.00\">class = 1</text>\r\n",
       "</g>\r\n",
       "<!-- 2&#45;&gt;3 -->\r\n",
       "<g id=\"edge3\" class=\"edge\"><title>2&#45;&gt;3</title>\r\n",
       "<path fill=\"none\" stroke=\"black\" d=\"M674.129,-357.401C613.65,-337.524 529.632,-309.911 469.51,-290.152\"/>\r\n",
       "<polygon fill=\"black\" stroke=\"black\" points=\"470.292,-286.725 459.7,-286.928 468.107,-293.375 470.292,-286.725\"/>\r\n",
       "</g>\r\n",
       "<!-- 10 -->\r\n",
       "<g id=\"node11\" class=\"node\"><title>10</title>\r\n",
       "<path fill=\"#f4caac\" stroke=\"black\" d=\"M807.5,-306C807.5,-306 693.5,-306 693.5,-306 687.5,-306 681.5,-300 681.5,-294 681.5,-294 681.5,-235 681.5,-235 681.5,-229 687.5,-223 693.5,-223 693.5,-223 807.5,-223 807.5,-223 813.5,-223 819.5,-229 819.5,-235 819.5,-235 819.5,-294 819.5,-294 819.5,-300 813.5,-306 807.5,-306\"/>\r\n",
       "<text text-anchor=\"start\" x=\"691.5\" y=\"-290.8\" font-family=\"Helvetica,sans-Serif\" font-size=\"14.00\">Hardness ≤ &#45;1.837</text>\r\n",
       "<text text-anchor=\"start\" x=\"713\" y=\"-275.8\" font-family=\"Helvetica,sans-Serif\" font-size=\"14.00\">gini = 0.465</text>\r\n",
       "<text text-anchor=\"start\" x=\"699\" y=\"-260.8\" font-family=\"Helvetica,sans-Serif\" font-size=\"14.00\">samples = 1762</text>\r\n",
       "<text text-anchor=\"start\" x=\"689.5\" y=\"-245.8\" font-family=\"Helvetica,sans-Serif\" font-size=\"14.00\">value = [1115, 647]</text>\r\n",
       "<text text-anchor=\"start\" x=\"721.5\" y=\"-230.8\" font-family=\"Helvetica,sans-Serif\" font-size=\"14.00\">class = 1</text>\r\n",
       "</g>\r\n",
       "<!-- 2&#45;&gt;10 -->\r\n",
       "<g id=\"edge10\" class=\"edge\"><title>2&#45;&gt;10</title>\r\n",
       "<path fill=\"none\" stroke=\"black\" d=\"M750.5,-341.907C750.5,-333.649 750.5,-324.864 750.5,-316.302\"/>\r\n",
       "<polygon fill=\"black\" stroke=\"black\" points=\"754,-316.021 750.5,-306.021 747,-316.021 754,-316.021\"/>\r\n",
       "</g>\r\n",
       "<!-- 4 -->\r\n",
       "<g id=\"node5\" class=\"node\"><title>4</title>\r\n",
       "<path fill=\"#f3c3a1\" stroke=\"black\" d=\"M240,-187C240,-187 127,-187 127,-187 121,-187 115,-181 115,-175 115,-175 115,-116 115,-116 115,-110 121,-104 127,-104 127,-104 240,-104 240,-104 246,-104 252,-110 252,-116 252,-116 252,-175 252,-175 252,-181 246,-187 240,-187\"/>\r\n",
       "<text text-anchor=\"start\" x=\"123\" y=\"-171.8\" font-family=\"Helvetica,sans-Serif\" font-size=\"14.00\">Conductivity ≤ 1.06</text>\r\n",
       "<text text-anchor=\"start\" x=\"146\" y=\"-156.8\" font-family=\"Helvetica,sans-Serif\" font-size=\"14.00\">gini = 0.452</text>\r\n",
       "<text text-anchor=\"start\" x=\"136\" y=\"-141.8\" font-family=\"Helvetica,sans-Serif\" font-size=\"14.00\">samples = 113</text>\r\n",
       "<text text-anchor=\"start\" x=\"135\" y=\"-126.8\" font-family=\"Helvetica,sans-Serif\" font-size=\"14.00\">value = [74, 39]</text>\r\n",
       "<text text-anchor=\"start\" x=\"154.5\" y=\"-111.8\" font-family=\"Helvetica,sans-Serif\" font-size=\"14.00\">class = 1</text>\r\n",
       "</g>\r\n",
       "<!-- 3&#45;&gt;4 -->\r\n",
       "<g id=\"edge4\" class=\"edge\"><title>3&#45;&gt;4</title>\r\n",
       "<path fill=\"none\" stroke=\"black\" d=\"M329.471,-227.441C307.878,-215.468 283.619,-202.016 261.17,-189.568\"/>\r\n",
       "<polygon fill=\"black\" stroke=\"black\" points=\"262.779,-186.458 252.336,-184.67 259.384,-192.58 262.779,-186.458\"/>\r\n",
       "</g>\r\n",
       "<!-- 7 -->\r\n",
       "<g id=\"node8\" class=\"node\"><title>7</title>\r\n",
       "<path fill=\"#eaf5fc\" stroke=\"black\" d=\"M467.5,-187C467.5,-187 321.5,-187 321.5,-187 315.5,-187 309.5,-181 309.5,-175 309.5,-175 309.5,-116 309.5,-116 309.5,-110 315.5,-104 321.5,-104 321.5,-104 467.5,-104 467.5,-104 473.5,-104 479.5,-110 479.5,-116 479.5,-116 479.5,-175 479.5,-175 479.5,-181 473.5,-187 467.5,-187\"/>\r\n",
       "<text text-anchor=\"start\" x=\"317.5\" y=\"-171.8\" font-family=\"Helvetica,sans-Serif\" font-size=\"14.00\">Trihalomethanes ≤ &#45;1.23</text>\r\n",
       "<text text-anchor=\"start\" x=\"357\" y=\"-156.8\" font-family=\"Helvetica,sans-Serif\" font-size=\"14.00\">gini = 0.498</text>\r\n",
       "<text text-anchor=\"start\" x=\"347\" y=\"-141.8\" font-family=\"Helvetica,sans-Serif\" font-size=\"14.00\">samples = 199</text>\r\n",
       "<text text-anchor=\"start\" x=\"341.5\" y=\"-126.8\" font-family=\"Helvetica,sans-Serif\" font-size=\"14.00\">value = [94, 105]</text>\r\n",
       "<text text-anchor=\"start\" x=\"365.5\" y=\"-111.8\" font-family=\"Helvetica,sans-Serif\" font-size=\"14.00\">class = 0</text>\r\n",
       "</g>\r\n",
       "<!-- 3&#45;&gt;7 -->\r\n",
       "<g id=\"edge7\" class=\"edge\"><title>3&#45;&gt;7</title>\r\n",
       "<path fill=\"none\" stroke=\"black\" d=\"M394.5,-222.907C394.5,-214.649 394.5,-205.864 394.5,-197.302\"/>\r\n",
       "<polygon fill=\"black\" stroke=\"black\" points=\"398,-197.021 394.5,-187.021 391,-197.021 398,-197.021\"/>\r\n",
       "</g>\r\n",
       "<!-- 5 -->\r\n",
       "<g id=\"node6\" class=\"node\"><title>5</title>\r\n",
       "<path fill=\"#efaf82\" stroke=\"black\" d=\"M101,-68C101,-68 12,-68 12,-68 6,-68 0,-62 0,-56 0,-56 0,-12 0,-12 0,-6 6,-0 12,-0 12,-0 101,-0 101,-0 107,-0 113,-6 113,-12 113,-12 113,-56 113,-56 113,-62 107,-68 101,-68\"/>\r\n",
       "<text text-anchor=\"start\" x=\"19\" y=\"-52.8\" font-family=\"Helvetica,sans-Serif\" font-size=\"14.00\">gini = 0.393</text>\r\n",
       "<text text-anchor=\"start\" x=\"13\" y=\"-37.8\" font-family=\"Helvetica,sans-Serif\" font-size=\"14.00\">samples = 93</text>\r\n",
       "<text text-anchor=\"start\" x=\"8\" y=\"-22.8\" font-family=\"Helvetica,sans-Serif\" font-size=\"14.00\">value = [68, 25]</text>\r\n",
       "<text text-anchor=\"start\" x=\"27.5\" y=\"-7.8\" font-family=\"Helvetica,sans-Serif\" font-size=\"14.00\">class = 1</text>\r\n",
       "</g>\r\n",
       "<!-- 4&#45;&gt;5 -->\r\n",
       "<g id=\"edge5\" class=\"edge\"><title>4&#45;&gt;5</title>\r\n",
       "<path fill=\"none\" stroke=\"black\" d=\"M136.21,-103.726C125.314,-94.3318 113.736,-84.349 102.879,-74.9883\"/>\r\n",
       "<polygon fill=\"black\" stroke=\"black\" points=\"104.981,-72.1789 95.1215,-68.2996 100.41,-77.4804 104.981,-72.1789\"/>\r\n",
       "</g>\r\n",
       "<!-- 6 -->\r\n",
       "<g id=\"node7\" class=\"node\"><title>6</title>\r\n",
       "<path fill=\"#8ec7f0\" stroke=\"black\" d=\"M224,-68C224,-68 143,-68 143,-68 137,-68 131,-62 131,-56 131,-56 131,-12 131,-12 131,-6 137,-0 143,-0 143,-0 224,-0 224,-0 230,-0 236,-6 236,-12 236,-12 236,-56 236,-56 236,-62 230,-68 224,-68\"/>\r\n",
       "<text text-anchor=\"start\" x=\"150\" y=\"-52.8\" font-family=\"Helvetica,sans-Serif\" font-size=\"14.00\">gini = 0.42</text>\r\n",
       "<text text-anchor=\"start\" x=\"140\" y=\"-37.8\" font-family=\"Helvetica,sans-Serif\" font-size=\"14.00\">samples = 20</text>\r\n",
       "<text text-anchor=\"start\" x=\"139\" y=\"-22.8\" font-family=\"Helvetica,sans-Serif\" font-size=\"14.00\">value = [6, 14]</text>\r\n",
       "<text text-anchor=\"start\" x=\"154.5\" y=\"-7.8\" font-family=\"Helvetica,sans-Serif\" font-size=\"14.00\">class = 0</text>\r\n",
       "</g>\r\n",
       "<!-- 4&#45;&gt;6 -->\r\n",
       "<g id=\"edge6\" class=\"edge\"><title>4&#45;&gt;6</title>\r\n",
       "<path fill=\"none\" stroke=\"black\" d=\"M183.5,-103.726C183.5,-95.5175 183.5,-86.8595 183.5,-78.56\"/>\r\n",
       "<polygon fill=\"black\" stroke=\"black\" points=\"187,-78.2996 183.5,-68.2996 180,-78.2996 187,-78.2996\"/>\r\n",
       "</g>\r\n",
       "<!-- 8 -->\r\n",
       "<g id=\"node9\" class=\"node\"><title>8</title>\r\n",
       "<path fill=\"#eeab7b\" stroke=\"black\" d=\"M347,-68C347,-68 266,-68 266,-68 260,-68 254,-62 254,-56 254,-56 254,-12 254,-12 254,-6 260,-0 266,-0 266,-0 347,-0 347,-0 353,-0 359,-6 359,-12 359,-12 359,-56 359,-56 359,-62 353,-68 347,-68\"/>\r\n",
       "<text text-anchor=\"start\" x=\"269\" y=\"-52.8\" font-family=\"Helvetica,sans-Serif\" font-size=\"14.00\">gini = 0.375</text>\r\n",
       "<text text-anchor=\"start\" x=\"263\" y=\"-37.8\" font-family=\"Helvetica,sans-Serif\" font-size=\"14.00\">samples = 24</text>\r\n",
       "<text text-anchor=\"start\" x=\"262\" y=\"-22.8\" font-family=\"Helvetica,sans-Serif\" font-size=\"14.00\">value = [18, 6]</text>\r\n",
       "<text text-anchor=\"start\" x=\"277.5\" y=\"-7.8\" font-family=\"Helvetica,sans-Serif\" font-size=\"14.00\">class = 1</text>\r\n",
       "</g>\r\n",
       "<!-- 7&#45;&gt;8 -->\r\n",
       "<g id=\"edge8\" class=\"edge\"><title>7&#45;&gt;8</title>\r\n",
       "<path fill=\"none\" stroke=\"black\" d=\"M361.732,-103.726C354.549,-94.7878 346.937,-85.3168 339.736,-76.3558\"/>\r\n",
       "<polygon fill=\"black\" stroke=\"black\" points=\"342.254,-73.9019 333.261,-68.2996 336.797,-78.2869 342.254,-73.9019\"/>\r\n",
       "</g>\r\n",
       "<!-- 9 -->\r\n",
       "<g id=\"node10\" class=\"node\"><title>9</title>\r\n",
       "<path fill=\"#d1e8f9\" stroke=\"black\" d=\"M478,-68C478,-68 389,-68 389,-68 383,-68 377,-62 377,-56 377,-56 377,-12 377,-12 377,-6 383,-0 389,-0 389,-0 478,-0 478,-0 484,-0 490,-6 490,-12 490,-12 490,-56 490,-56 490,-62 484,-68 478,-68\"/>\r\n",
       "<text text-anchor=\"start\" x=\"396\" y=\"-52.8\" font-family=\"Helvetica,sans-Serif\" font-size=\"14.00\">gini = 0.491</text>\r\n",
       "<text text-anchor=\"start\" x=\"386\" y=\"-37.8\" font-family=\"Helvetica,sans-Serif\" font-size=\"14.00\">samples = 175</text>\r\n",
       "<text text-anchor=\"start\" x=\"385\" y=\"-22.8\" font-family=\"Helvetica,sans-Serif\" font-size=\"14.00\">value = [76, 99]</text>\r\n",
       "<text text-anchor=\"start\" x=\"404.5\" y=\"-7.8\" font-family=\"Helvetica,sans-Serif\" font-size=\"14.00\">class = 0</text>\r\n",
       "</g>\r\n",
       "<!-- 7&#45;&gt;9 -->\r\n",
       "<g id=\"edge9\" class=\"edge\"><title>7&#45;&gt;9</title>\r\n",
       "<path fill=\"none\" stroke=\"black\" d=\"M409.022,-103.726C412.043,-95.2439 415.235,-86.2819 418.281,-77.7312\"/>\r\n",
       "<polygon fill=\"black\" stroke=\"black\" points=\"421.582,-78.8943 421.64,-68.2996 414.987,-76.5456 421.582,-78.8943\"/>\r\n",
       "</g>\r\n",
       "<!-- 11 -->\r\n",
       "<g id=\"node12\" class=\"node\"><title>11</title>\r\n",
       "<path fill=\"#cae5f8\" stroke=\"black\" d=\"M712.5,-187C712.5,-187 588.5,-187 588.5,-187 582.5,-187 576.5,-181 576.5,-175 576.5,-175 576.5,-116 576.5,-116 576.5,-110 582.5,-104 588.5,-104 588.5,-104 712.5,-104 712.5,-104 718.5,-104 724.5,-110 724.5,-116 724.5,-116 724.5,-175 724.5,-175 724.5,-181 718.5,-187 712.5,-187\"/>\r\n",
       "<text text-anchor=\"start\" x=\"584.5\" y=\"-171.8\" font-family=\"Helvetica,sans-Serif\" font-size=\"14.00\">Chloramines ≤ 0.837</text>\r\n",
       "<text text-anchor=\"start\" x=\"613\" y=\"-156.8\" font-family=\"Helvetica,sans-Serif\" font-size=\"14.00\">gini = 0.488</text>\r\n",
       "<text text-anchor=\"start\" x=\"607\" y=\"-141.8\" font-family=\"Helvetica,sans-Serif\" font-size=\"14.00\">samples = 45</text>\r\n",
       "<text text-anchor=\"start\" x=\"602\" y=\"-126.8\" font-family=\"Helvetica,sans-Serif\" font-size=\"14.00\">value = [19, 26]</text>\r\n",
       "<text text-anchor=\"start\" x=\"621.5\" y=\"-111.8\" font-family=\"Helvetica,sans-Serif\" font-size=\"14.00\">class = 0</text>\r\n",
       "</g>\r\n",
       "<!-- 10&#45;&gt;11 -->\r\n",
       "<g id=\"edge11\" class=\"edge\"><title>10&#45;&gt;11</title>\r\n",
       "<path fill=\"none\" stroke=\"black\" d=\"M715.805,-222.907C708.049,-213.832 699.749,-204.121 691.756,-194.769\"/>\r\n",
       "<polygon fill=\"black\" stroke=\"black\" points=\"694.291,-192.349 685.133,-187.021 688.97,-196.897 694.291,-192.349\"/>\r\n",
       "</g>\r\n",
       "<!-- 14 -->\r\n",
       "<g id=\"node15\" class=\"node\"><title>14</title>\r\n",
       "<path fill=\"#f4c8a9\" stroke=\"black\" d=\"M904,-187C904,-187 755,-187 755,-187 749,-187 743,-181 743,-175 743,-175 743,-116 743,-116 743,-110 749,-104 755,-104 755,-104 904,-104 904,-104 910,-104 916,-110 916,-116 916,-116 916,-175 916,-175 916,-181 910,-187 904,-187\"/>\r\n",
       "<text text-anchor=\"start\" x=\"751\" y=\"-171.8\" font-family=\"Helvetica,sans-Serif\" font-size=\"14.00\">Trihalomethanes ≤ 1.723</text>\r\n",
       "<text text-anchor=\"start\" x=\"792\" y=\"-156.8\" font-family=\"Helvetica,sans-Serif\" font-size=\"14.00\">gini = 0.462</text>\r\n",
       "<text text-anchor=\"start\" x=\"778\" y=\"-141.8\" font-family=\"Helvetica,sans-Serif\" font-size=\"14.00\">samples = 1717</text>\r\n",
       "<text text-anchor=\"start\" x=\"768.5\" y=\"-126.8\" font-family=\"Helvetica,sans-Serif\" font-size=\"14.00\">value = [1096, 621]</text>\r\n",
       "<text text-anchor=\"start\" x=\"800.5\" y=\"-111.8\" font-family=\"Helvetica,sans-Serif\" font-size=\"14.00\">class = 1</text>\r\n",
       "</g>\r\n",
       "<!-- 10&#45;&gt;14 -->\r\n",
       "<g id=\"edge14\" class=\"edge\"><title>10&#45;&gt;14</title>\r\n",
       "<path fill=\"none\" stroke=\"black\" d=\"M777.909,-222.907C783.914,-214.014 790.331,-204.509 796.529,-195.331\"/>\r\n",
       "<polygon fill=\"black\" stroke=\"black\" points=\"799.444,-197.267 802.14,-187.021 793.643,-193.35 799.444,-197.267\"/>\r\n",
       "</g>\r\n",
       "<!-- 12 -->\r\n",
       "<g id=\"node13\" class=\"node\"><title>12</title>\r\n",
       "<path fill=\"#fef8f4\" stroke=\"black\" d=\"M609,-68C609,-68 520,-68 520,-68 514,-68 508,-62 508,-56 508,-56 508,-12 508,-12 508,-6 514,-0 520,-0 520,-0 609,-0 609,-0 615,-0 621,-6 621,-12 621,-12 621,-56 621,-56 621,-62 615,-68 609,-68\"/>\r\n",
       "<text text-anchor=\"start\" x=\"535.5\" y=\"-52.8\" font-family=\"Helvetica,sans-Serif\" font-size=\"14.00\">gini = 0.5</text>\r\n",
       "<text text-anchor=\"start\" x=\"521\" y=\"-37.8\" font-family=\"Helvetica,sans-Serif\" font-size=\"14.00\">samples = 35</text>\r\n",
       "<text text-anchor=\"start\" x=\"516\" y=\"-22.8\" font-family=\"Helvetica,sans-Serif\" font-size=\"14.00\">value = [18, 17]</text>\r\n",
       "<text text-anchor=\"start\" x=\"535.5\" y=\"-7.8\" font-family=\"Helvetica,sans-Serif\" font-size=\"14.00\">class = 1</text>\r\n",
       "</g>\r\n",
       "<!-- 11&#45;&gt;12 -->\r\n",
       "<g id=\"edge12\" class=\"edge\"><title>11&#45;&gt;12</title>\r\n",
       "<path fill=\"none\" stroke=\"black\" d=\"M618.477,-103.726C611.457,-94.7878 604.018,-85.3168 596.98,-76.3558\"/>\r\n",
       "<polygon fill=\"black\" stroke=\"black\" points=\"599.582,-74.0022 590.653,-68.2996 594.077,-78.3259 599.582,-74.0022\"/>\r\n",
       "</g>\r\n",
       "<!-- 13 -->\r\n",
       "<g id=\"node14\" class=\"node\"><title>13</title>\r\n",
       "<path fill=\"#4fa8e8\" stroke=\"black\" d=\"M730,-68C730,-68 651,-68 651,-68 645,-68 639,-62 639,-56 639,-56 639,-12 639,-12 639,-6 645,-0 651,-0 651,-0 730,-0 730,-0 736,-0 742,-6 742,-12 742,-12 742,-56 742,-56 742,-62 736,-68 730,-68\"/>\r\n",
       "<text text-anchor=\"start\" x=\"657\" y=\"-52.8\" font-family=\"Helvetica,sans-Serif\" font-size=\"14.00\">gini = 0.18</text>\r\n",
       "<text text-anchor=\"start\" x=\"647\" y=\"-37.8\" font-family=\"Helvetica,sans-Serif\" font-size=\"14.00\">samples = 10</text>\r\n",
       "<text text-anchor=\"start\" x=\"650\" y=\"-22.8\" font-family=\"Helvetica,sans-Serif\" font-size=\"14.00\">value = [1, 9]</text>\r\n",
       "<text text-anchor=\"start\" x=\"661.5\" y=\"-7.8\" font-family=\"Helvetica,sans-Serif\" font-size=\"14.00\">class = 0</text>\r\n",
       "</g>\r\n",
       "<!-- 11&#45;&gt;13 -->\r\n",
       "<g id=\"edge13\" class=\"edge\"><title>11&#45;&gt;13</title>\r\n",
       "<path fill=\"none\" stroke=\"black\" d=\"M665.395,-103.726C668.493,-95.2439 671.767,-86.2819 674.89,-77.7312\"/>\r\n",
       "<polygon fill=\"black\" stroke=\"black\" points=\"678.192,-78.8935 678.336,-68.2996 671.617,-76.4916 678.192,-78.8935\"/>\r\n",
       "</g>\r\n",
       "<!-- 15 -->\r\n",
       "<g id=\"node16\" class=\"node\"><title>15</title>\r\n",
       "<path fill=\"#f3c7a6\" stroke=\"black\" d=\"M886.5,-68C886.5,-68 772.5,-68 772.5,-68 766.5,-68 760.5,-62 760.5,-56 760.5,-56 760.5,-12 760.5,-12 760.5,-6 766.5,-0 772.5,-0 772.5,-0 886.5,-0 886.5,-0 892.5,-0 898.5,-6 898.5,-12 898.5,-12 898.5,-56 898.5,-56 898.5,-62 892.5,-68 886.5,-68\"/>\r\n",
       "<text text-anchor=\"start\" x=\"792\" y=\"-52.8\" font-family=\"Helvetica,sans-Serif\" font-size=\"14.00\">gini = 0.458</text>\r\n",
       "<text text-anchor=\"start\" x=\"778\" y=\"-37.8\" font-family=\"Helvetica,sans-Serif\" font-size=\"14.00\">samples = 1647</text>\r\n",
       "<text text-anchor=\"start\" x=\"768.5\" y=\"-22.8\" font-family=\"Helvetica,sans-Serif\" font-size=\"14.00\">value = [1061, 586]</text>\r\n",
       "<text text-anchor=\"start\" x=\"800.5\" y=\"-7.8\" font-family=\"Helvetica,sans-Serif\" font-size=\"14.00\">class = 1</text>\r\n",
       "</g>\r\n",
       "<!-- 14&#45;&gt;15 -->\r\n",
       "<g id=\"edge15\" class=\"edge\"><title>14&#45;&gt;15</title>\r\n",
       "<path fill=\"none\" stroke=\"black\" d=\"M829.5,-103.726C829.5,-95.5175 829.5,-86.8595 829.5,-78.56\"/>\r\n",
       "<polygon fill=\"black\" stroke=\"black\" points=\"833,-78.2996 829.5,-68.2996 826,-78.2996 833,-78.2996\"/>\r\n",
       "</g>\r\n",
       "<!-- 16 -->\r\n",
       "<g id=\"node17\" class=\"node\"><title>16</title>\r\n",
       "<path fill=\"#ffffff\" stroke=\"black\" d=\"M1018,-68C1018,-68 929,-68 929,-68 923,-68 917,-62 917,-56 917,-56 917,-12 917,-12 917,-6 923,-0 929,-0 929,-0 1018,-0 1018,-0 1024,-0 1030,-6 1030,-12 1030,-12 1030,-56 1030,-56 1030,-62 1024,-68 1018,-68\"/>\r\n",
       "<text text-anchor=\"start\" x=\"944.5\" y=\"-52.8\" font-family=\"Helvetica,sans-Serif\" font-size=\"14.00\">gini = 0.5</text>\r\n",
       "<text text-anchor=\"start\" x=\"930\" y=\"-37.8\" font-family=\"Helvetica,sans-Serif\" font-size=\"14.00\">samples = 70</text>\r\n",
       "<text text-anchor=\"start\" x=\"925\" y=\"-22.8\" font-family=\"Helvetica,sans-Serif\" font-size=\"14.00\">value = [35, 35]</text>\r\n",
       "<text text-anchor=\"start\" x=\"944.5\" y=\"-7.8\" font-family=\"Helvetica,sans-Serif\" font-size=\"14.00\">class = 1</text>\r\n",
       "</g>\r\n",
       "<!-- 14&#45;&gt;16 -->\r\n",
       "<g id=\"edge16\" class=\"edge\"><title>14&#45;&gt;16</title>\r\n",
       "<path fill=\"none\" stroke=\"black\" d=\"M883.12,-103.726C895.715,-94.1494 909.113,-83.9611 921.629,-74.4438\"/>\r\n",
       "<polygon fill=\"black\" stroke=\"black\" points=\"923.867,-77.1386 929.709,-68.2996 919.63,-71.5666 923.867,-77.1386\"/>\r\n",
       "</g>\r\n",
       "<!-- 18 -->\r\n",
       "<g id=\"node19\" class=\"node\"><title>18</title>\r\n",
       "<path fill=\"#ffffff\" stroke=\"black\" d=\"M1081.5,-306C1081.5,-306 927.5,-306 927.5,-306 921.5,-306 915.5,-300 915.5,-294 915.5,-294 915.5,-235 915.5,-235 915.5,-229 921.5,-223 927.5,-223 927.5,-223 1081.5,-223 1081.5,-223 1087.5,-223 1093.5,-229 1093.5,-235 1093.5,-235 1093.5,-294 1093.5,-294 1093.5,-300 1087.5,-306 1081.5,-306\"/>\r\n",
       "<text text-anchor=\"start\" x=\"923.5\" y=\"-290.8\" font-family=\"Helvetica,sans-Serif\" font-size=\"14.00\">Trihalomethanes ≤ &#45;0.263</text>\r\n",
       "<text text-anchor=\"start\" x=\"975.5\" y=\"-275.8\" font-family=\"Helvetica,sans-Serif\" font-size=\"14.00\">gini = 0.5</text>\r\n",
       "<text text-anchor=\"start\" x=\"965\" y=\"-260.8\" font-family=\"Helvetica,sans-Serif\" font-size=\"14.00\">samples = 4</text>\r\n",
       "<text text-anchor=\"start\" x=\"964\" y=\"-245.8\" font-family=\"Helvetica,sans-Serif\" font-size=\"14.00\">value = [2, 2]</text>\r\n",
       "<text text-anchor=\"start\" x=\"975.5\" y=\"-230.8\" font-family=\"Helvetica,sans-Serif\" font-size=\"14.00\">class = 1</text>\r\n",
       "</g>\r\n",
       "<!-- 17&#45;&gt;18 -->\r\n",
       "<g id=\"edge18\" class=\"edge\"><title>17&#45;&gt;18</title>\r\n",
       "<path fill=\"none\" stroke=\"black\" d=\"M1050.21,-341.907C1044.95,-333.105 1039.32,-323.703 1033.88,-314.612\"/>\r\n",
       "<polygon fill=\"black\" stroke=\"black\" points=\"1036.88,-312.805 1028.74,-306.021 1030.87,-316.399 1036.88,-312.805\"/>\r\n",
       "</g>\r\n",
       "<!-- 21 -->\r\n",
       "<g id=\"node22\" class=\"node\"><title>21</title>\r\n",
       "<path fill=\"#399de5\" stroke=\"black\" d=\"M1197,-298.5C1197,-298.5 1124,-298.5 1124,-298.5 1118,-298.5 1112,-292.5 1112,-286.5 1112,-286.5 1112,-242.5 1112,-242.5 1112,-236.5 1118,-230.5 1124,-230.5 1124,-230.5 1197,-230.5 1197,-230.5 1203,-230.5 1209,-236.5 1209,-242.5 1209,-242.5 1209,-286.5 1209,-286.5 1209,-292.5 1203,-298.5 1197,-298.5\"/>\r\n",
       "<text text-anchor=\"start\" x=\"1131.5\" y=\"-283.3\" font-family=\"Helvetica,sans-Serif\" font-size=\"14.00\">gini = 0.0</text>\r\n",
       "<text text-anchor=\"start\" x=\"1121\" y=\"-268.3\" font-family=\"Helvetica,sans-Serif\" font-size=\"14.00\">samples = 8</text>\r\n",
       "<text text-anchor=\"start\" x=\"1120\" y=\"-253.3\" font-family=\"Helvetica,sans-Serif\" font-size=\"14.00\">value = [0, 8]</text>\r\n",
       "<text text-anchor=\"start\" x=\"1131.5\" y=\"-238.3\" font-family=\"Helvetica,sans-Serif\" font-size=\"14.00\">class = 0</text>\r\n",
       "</g>\r\n",
       "<!-- 17&#45;&gt;21 -->\r\n",
       "<g id=\"edge21\" class=\"edge\"><title>17&#45;&gt;21</title>\r\n",
       "<path fill=\"none\" stroke=\"black\" d=\"M1104.34,-341.907C1112.69,-330.542 1121.78,-318.178 1130.16,-306.774\"/>\r\n",
       "<polygon fill=\"black\" stroke=\"black\" points=\"1133.02,-308.797 1136.12,-298.667 1127.38,-304.652 1133.02,-308.797\"/>\r\n",
       "</g>\r\n",
       "<!-- 19 -->\r\n",
       "<g id=\"node20\" class=\"node\"><title>19</title>\r\n",
       "<path fill=\"#399de5\" stroke=\"black\" d=\"M1019,-179.5C1019,-179.5 946,-179.5 946,-179.5 940,-179.5 934,-173.5 934,-167.5 934,-167.5 934,-123.5 934,-123.5 934,-117.5 940,-111.5 946,-111.5 946,-111.5 1019,-111.5 1019,-111.5 1025,-111.5 1031,-117.5 1031,-123.5 1031,-123.5 1031,-167.5 1031,-167.5 1031,-173.5 1025,-179.5 1019,-179.5\"/>\r\n",
       "<text text-anchor=\"start\" x=\"953.5\" y=\"-164.3\" font-family=\"Helvetica,sans-Serif\" font-size=\"14.00\">gini = 0.0</text>\r\n",
       "<text text-anchor=\"start\" x=\"943\" y=\"-149.3\" font-family=\"Helvetica,sans-Serif\" font-size=\"14.00\">samples = 2</text>\r\n",
       "<text text-anchor=\"start\" x=\"942\" y=\"-134.3\" font-family=\"Helvetica,sans-Serif\" font-size=\"14.00\">value = [0, 2]</text>\r\n",
       "<text text-anchor=\"start\" x=\"953.5\" y=\"-119.3\" font-family=\"Helvetica,sans-Serif\" font-size=\"14.00\">class = 0</text>\r\n",
       "</g>\r\n",
       "<!-- 18&#45;&gt;19 -->\r\n",
       "<g id=\"edge19\" class=\"edge\"><title>18&#45;&gt;19</title>\r\n",
       "<path fill=\"none\" stroke=\"black\" d=\"M996.867,-222.907C994.855,-212.204 992.676,-200.615 990.637,-189.776\"/>\r\n",
       "<polygon fill=\"black\" stroke=\"black\" points=\"994.024,-188.848 988.737,-179.667 987.145,-190.142 994.024,-188.848\"/>\r\n",
       "</g>\r\n",
       "<!-- 20 -->\r\n",
       "<g id=\"node21\" class=\"node\"><title>20</title>\r\n",
       "<path fill=\"#e58139\" stroke=\"black\" d=\"M1134,-179.5C1134,-179.5 1061,-179.5 1061,-179.5 1055,-179.5 1049,-173.5 1049,-167.5 1049,-167.5 1049,-123.5 1049,-123.5 1049,-117.5 1055,-111.5 1061,-111.5 1061,-111.5 1134,-111.5 1134,-111.5 1140,-111.5 1146,-117.5 1146,-123.5 1146,-123.5 1146,-167.5 1146,-167.5 1146,-173.5 1140,-179.5 1134,-179.5\"/>\r\n",
       "<text text-anchor=\"start\" x=\"1068.5\" y=\"-164.3\" font-family=\"Helvetica,sans-Serif\" font-size=\"14.00\">gini = 0.0</text>\r\n",
       "<text text-anchor=\"start\" x=\"1058\" y=\"-149.3\" font-family=\"Helvetica,sans-Serif\" font-size=\"14.00\">samples = 2</text>\r\n",
       "<text text-anchor=\"start\" x=\"1057\" y=\"-134.3\" font-family=\"Helvetica,sans-Serif\" font-size=\"14.00\">value = [2, 0]</text>\r\n",
       "<text text-anchor=\"start\" x=\"1068.5\" y=\"-119.3\" font-family=\"Helvetica,sans-Serif\" font-size=\"14.00\">class = 1</text>\r\n",
       "</g>\r\n",
       "<!-- 18&#45;&gt;20 -->\r\n",
       "<g id=\"edge20\" class=\"edge\"><title>18&#45;&gt;20</title>\r\n",
       "<path fill=\"none\" stroke=\"black\" d=\"M1036.77,-222.907C1045.8,-211.542 1055.63,-199.178 1064.69,-187.774\"/>\r\n",
       "<polygon fill=\"black\" stroke=\"black\" points=\"1067.65,-189.673 1071.14,-179.667 1062.17,-185.317 1067.65,-189.673\"/>\r\n",
       "</g>\r\n",
       "<!-- 23 -->\r\n",
       "<g id=\"node24\" class=\"node\"><title>23</title>\r\n",
       "<path fill=\"#fdf8f3\" stroke=\"black\" d=\"M1367.5,-425C1367.5,-425 1243.5,-425 1243.5,-425 1237.5,-425 1231.5,-419 1231.5,-413 1231.5,-413 1231.5,-354 1231.5,-354 1231.5,-348 1237.5,-342 1243.5,-342 1243.5,-342 1367.5,-342 1367.5,-342 1373.5,-342 1379.5,-348 1379.5,-354 1379.5,-354 1379.5,-413 1379.5,-413 1379.5,-419 1373.5,-425 1367.5,-425\"/>\r\n",
       "<text text-anchor=\"start\" x=\"1239.5\" y=\"-409.8\" font-family=\"Helvetica,sans-Serif\" font-size=\"14.00\">Chloramines ≤ 1.392</text>\r\n",
       "<text text-anchor=\"start\" x=\"1276.5\" y=\"-394.8\" font-family=\"Helvetica,sans-Serif\" font-size=\"14.00\">gini = 0.5</text>\r\n",
       "<text text-anchor=\"start\" x=\"1258\" y=\"-379.8\" font-family=\"Helvetica,sans-Serif\" font-size=\"14.00\">samples = 200</text>\r\n",
       "<text text-anchor=\"start\" x=\"1252.5\" y=\"-364.8\" font-family=\"Helvetica,sans-Serif\" font-size=\"14.00\">value = [103, 97]</text>\r\n",
       "<text text-anchor=\"start\" x=\"1276.5\" y=\"-349.8\" font-family=\"Helvetica,sans-Serif\" font-size=\"14.00\">class = 1</text>\r\n",
       "</g>\r\n",
       "<!-- 22&#45;&gt;23 -->\r\n",
       "<g id=\"edge23\" class=\"edge\"><title>22&#45;&gt;23</title>\r\n",
       "<path fill=\"none\" stroke=\"black\" d=\"M1305.5,-460.907C1305.5,-452.649 1305.5,-443.864 1305.5,-435.302\"/>\r\n",
       "<polygon fill=\"black\" stroke=\"black\" points=\"1309,-435.021 1305.5,-425.021 1302,-435.021 1309,-435.021\"/>\r\n",
       "</g>\r\n",
       "<!-- 34 -->\r\n",
       "<g id=\"node35\" class=\"node\"><title>34</title>\r\n",
       "<path fill=\"#399de5\" stroke=\"black\" d=\"M1483,-417.5C1483,-417.5 1410,-417.5 1410,-417.5 1404,-417.5 1398,-411.5 1398,-405.5 1398,-405.5 1398,-361.5 1398,-361.5 1398,-355.5 1404,-349.5 1410,-349.5 1410,-349.5 1483,-349.5 1483,-349.5 1489,-349.5 1495,-355.5 1495,-361.5 1495,-361.5 1495,-405.5 1495,-405.5 1495,-411.5 1489,-417.5 1483,-417.5\"/>\r\n",
       "<text text-anchor=\"start\" x=\"1417.5\" y=\"-402.3\" font-family=\"Helvetica,sans-Serif\" font-size=\"14.00\">gini = 0.0</text>\r\n",
       "<text text-anchor=\"start\" x=\"1407\" y=\"-387.3\" font-family=\"Helvetica,sans-Serif\" font-size=\"14.00\">samples = 7</text>\r\n",
       "<text text-anchor=\"start\" x=\"1406\" y=\"-372.3\" font-family=\"Helvetica,sans-Serif\" font-size=\"14.00\">value = [0, 7]</text>\r\n",
       "<text text-anchor=\"start\" x=\"1417.5\" y=\"-357.3\" font-family=\"Helvetica,sans-Serif\" font-size=\"14.00\">class = 0</text>\r\n",
       "</g>\r\n",
       "<!-- 22&#45;&gt;34 -->\r\n",
       "<g id=\"edge34\" class=\"edge\"><title>22&#45;&gt;34</title>\r\n",
       "<path fill=\"none\" stroke=\"black\" d=\"M1354.42,-460.907C1368.78,-448.99 1384.47,-435.976 1398.75,-424.12\"/>\r\n",
       "<polygon fill=\"black\" stroke=\"black\" points=\"1401.07,-426.746 1406.53,-417.667 1396.6,-421.359 1401.07,-426.746\"/>\r\n",
       "</g>\r\n",
       "<!-- 24 -->\r\n",
       "<g id=\"node25\" class=\"node\"><title>24</title>\r\n",
       "<path fill=\"#52a9e8\" stroke=\"black\" d=\"M1357,-306C1357,-306 1254,-306 1254,-306 1248,-306 1242,-300 1242,-294 1242,-294 1242,-235 1242,-235 1242,-229 1248,-223 1254,-223 1254,-223 1357,-223 1357,-223 1363,-223 1369,-229 1369,-235 1369,-235 1369,-294 1369,-294 1369,-300 1363,-306 1357,-306\"/>\r\n",
       "<text text-anchor=\"start\" x=\"1250\" y=\"-290.8\" font-family=\"Helvetica,sans-Serif\" font-size=\"14.00\">Turbidity ≤ &#45;0.633</text>\r\n",
       "<text text-anchor=\"start\" x=\"1268\" y=\"-275.8\" font-family=\"Helvetica,sans-Serif\" font-size=\"14.00\">gini = 0.198</text>\r\n",
       "<text text-anchor=\"start\" x=\"1266\" y=\"-260.8\" font-family=\"Helvetica,sans-Serif\" font-size=\"14.00\">samples = 9</text>\r\n",
       "<text text-anchor=\"start\" x=\"1265\" y=\"-245.8\" font-family=\"Helvetica,sans-Serif\" font-size=\"14.00\">value = [1, 8]</text>\r\n",
       "<text text-anchor=\"start\" x=\"1276.5\" y=\"-230.8\" font-family=\"Helvetica,sans-Serif\" font-size=\"14.00\">class = 0</text>\r\n",
       "</g>\r\n",
       "<!-- 23&#45;&gt;24 -->\r\n",
       "<g id=\"edge24\" class=\"edge\"><title>23&#45;&gt;24</title>\r\n",
       "<path fill=\"none\" stroke=\"black\" d=\"M1305.5,-341.907C1305.5,-333.649 1305.5,-324.864 1305.5,-316.302\"/>\r\n",
       "<polygon fill=\"black\" stroke=\"black\" points=\"1309,-316.021 1305.5,-306.021 1302,-316.021 1309,-316.021\"/>\r\n",
       "</g>\r\n",
       "<!-- 29 -->\r\n",
       "<g id=\"node30\" class=\"node\"><title>29</title>\r\n",
       "<path fill=\"#fcefe6\" stroke=\"black\" d=\"M1519.5,-306C1519.5,-306 1421.5,-306 1421.5,-306 1415.5,-306 1409.5,-300 1409.5,-294 1409.5,-294 1409.5,-235 1409.5,-235 1409.5,-229 1415.5,-223 1421.5,-223 1421.5,-223 1519.5,-223 1519.5,-223 1525.5,-223 1531.5,-229 1531.5,-235 1531.5,-235 1531.5,-294 1531.5,-294 1531.5,-300 1525.5,-306 1519.5,-306\"/>\r\n",
       "<text text-anchor=\"start\" x=\"1417.5\" y=\"-290.8\" font-family=\"Helvetica,sans-Serif\" font-size=\"14.00\">Turbidity ≤ 1.986</text>\r\n",
       "<text text-anchor=\"start\" x=\"1433\" y=\"-275.8\" font-family=\"Helvetica,sans-Serif\" font-size=\"14.00\">gini = 0.498</text>\r\n",
       "<text text-anchor=\"start\" x=\"1423\" y=\"-260.8\" font-family=\"Helvetica,sans-Serif\" font-size=\"14.00\">samples = 191</text>\r\n",
       "<text text-anchor=\"start\" x=\"1417.5\" y=\"-245.8\" font-family=\"Helvetica,sans-Serif\" font-size=\"14.00\">value = [102, 89]</text>\r\n",
       "<text text-anchor=\"start\" x=\"1441.5\" y=\"-230.8\" font-family=\"Helvetica,sans-Serif\" font-size=\"14.00\">class = 1</text>\r\n",
       "</g>\r\n",
       "<!-- 23&#45;&gt;29 -->\r\n",
       "<g id=\"edge29\" class=\"edge\"><title>23&#45;&gt;29</title>\r\n",
       "<path fill=\"none\" stroke=\"black\" d=\"M1362.75,-341.907C1376.44,-332.197 1391.16,-321.758 1405.19,-311.811\"/>\r\n",
       "<polygon fill=\"black\" stroke=\"black\" points=\"1407.22,-314.66 1413.36,-306.021 1403.17,-308.95 1407.22,-314.66\"/>\r\n",
       "</g>\r\n",
       "<!-- 25 -->\r\n",
       "<g id=\"node26\" class=\"node\"><title>25</title>\r\n",
       "<path fill=\"#ffffff\" stroke=\"black\" d=\"M1260.5,-187C1260.5,-187 1176.5,-187 1176.5,-187 1170.5,-187 1164.5,-181 1164.5,-175 1164.5,-175 1164.5,-116 1164.5,-116 1164.5,-110 1170.5,-104 1176.5,-104 1176.5,-104 1260.5,-104 1260.5,-104 1266.5,-104 1272.5,-110 1272.5,-116 1272.5,-116 1272.5,-175 1272.5,-175 1272.5,-181 1266.5,-187 1260.5,-187\"/>\r\n",
       "<text text-anchor=\"start\" x=\"1172.5\" y=\"-171.8\" font-family=\"Helvetica,sans-Serif\" font-size=\"14.00\">Solids ≤ 0.148</text>\r\n",
       "<text text-anchor=\"start\" x=\"1189.5\" y=\"-156.8\" font-family=\"Helvetica,sans-Serif\" font-size=\"14.00\">gini = 0.5</text>\r\n",
       "<text text-anchor=\"start\" x=\"1179\" y=\"-141.8\" font-family=\"Helvetica,sans-Serif\" font-size=\"14.00\">samples = 2</text>\r\n",
       "<text text-anchor=\"start\" x=\"1178\" y=\"-126.8\" font-family=\"Helvetica,sans-Serif\" font-size=\"14.00\">value = [1, 1]</text>\r\n",
       "<text text-anchor=\"start\" x=\"1189.5\" y=\"-111.8\" font-family=\"Helvetica,sans-Serif\" font-size=\"14.00\">class = 1</text>\r\n",
       "</g>\r\n",
       "<!-- 24&#45;&gt;25 -->\r\n",
       "<g id=\"edge25\" class=\"edge\"><title>24&#45;&gt;25</title>\r\n",
       "<path fill=\"none\" stroke=\"black\" d=\"M1275.32,-222.907C1268.64,-213.923 1261.49,-204.315 1254.6,-195.05\"/>\r\n",
       "<polygon fill=\"black\" stroke=\"black\" points=\"1257.41,-192.957 1248.63,-187.021 1251.79,-197.134 1257.41,-192.957\"/>\r\n",
       "</g>\r\n",
       "<!-- 28 -->\r\n",
       "<g id=\"node29\" class=\"node\"><title>28</title>\r\n",
       "<path fill=\"#399de5\" stroke=\"black\" d=\"M1376,-179.5C1376,-179.5 1303,-179.5 1303,-179.5 1297,-179.5 1291,-173.5 1291,-167.5 1291,-167.5 1291,-123.5 1291,-123.5 1291,-117.5 1297,-111.5 1303,-111.5 1303,-111.5 1376,-111.5 1376,-111.5 1382,-111.5 1388,-117.5 1388,-123.5 1388,-123.5 1388,-167.5 1388,-167.5 1388,-173.5 1382,-179.5 1376,-179.5\"/>\r\n",
       "<text text-anchor=\"start\" x=\"1310.5\" y=\"-164.3\" font-family=\"Helvetica,sans-Serif\" font-size=\"14.00\">gini = 0.0</text>\r\n",
       "<text text-anchor=\"start\" x=\"1300\" y=\"-149.3\" font-family=\"Helvetica,sans-Serif\" font-size=\"14.00\">samples = 7</text>\r\n",
       "<text text-anchor=\"start\" x=\"1299\" y=\"-134.3\" font-family=\"Helvetica,sans-Serif\" font-size=\"14.00\">value = [0, 7]</text>\r\n",
       "<text text-anchor=\"start\" x=\"1310.5\" y=\"-119.3\" font-family=\"Helvetica,sans-Serif\" font-size=\"14.00\">class = 0</text>\r\n",
       "</g>\r\n",
       "<!-- 24&#45;&gt;28 -->\r\n",
       "<g id=\"edge28\" class=\"edge\"><title>24&#45;&gt;28</title>\r\n",
       "<path fill=\"none\" stroke=\"black\" d=\"M1317.3,-222.907C1320.44,-212.094 1323.84,-200.376 1327.02,-189.441\"/>\r\n",
       "<polygon fill=\"black\" stroke=\"black\" points=\"1330.43,-190.246 1329.86,-179.667 1323.71,-188.293 1330.43,-190.246\"/>\r\n",
       "</g>\r\n",
       "<!-- 26 -->\r\n",
       "<g id=\"node27\" class=\"node\"><title>26</title>\r\n",
       "<path fill=\"#e58139\" stroke=\"black\" d=\"M1198,-68C1198,-68 1125,-68 1125,-68 1119,-68 1113,-62 1113,-56 1113,-56 1113,-12 1113,-12 1113,-6 1119,-0 1125,-0 1125,-0 1198,-0 1198,-0 1204,-0 1210,-6 1210,-12 1210,-12 1210,-56 1210,-56 1210,-62 1204,-68 1198,-68\"/>\r\n",
       "<text text-anchor=\"start\" x=\"1132.5\" y=\"-52.8\" font-family=\"Helvetica,sans-Serif\" font-size=\"14.00\">gini = 0.0</text>\r\n",
       "<text text-anchor=\"start\" x=\"1122\" y=\"-37.8\" font-family=\"Helvetica,sans-Serif\" font-size=\"14.00\">samples = 1</text>\r\n",
       "<text text-anchor=\"start\" x=\"1121\" y=\"-22.8\" font-family=\"Helvetica,sans-Serif\" font-size=\"14.00\">value = [1, 0]</text>\r\n",
       "<text text-anchor=\"start\" x=\"1132.5\" y=\"-7.8\" font-family=\"Helvetica,sans-Serif\" font-size=\"14.00\">class = 1</text>\r\n",
       "</g>\r\n",
       "<!-- 25&#45;&gt;26 -->\r\n",
       "<g id=\"edge26\" class=\"edge\"><title>25&#45;&gt;26</title>\r\n",
       "<path fill=\"none\" stroke=\"black\" d=\"M1197.28,-103.726C1192.76,-95.0615 1187.99,-85.8962 1183.46,-77.1802\"/>\r\n",
       "<polygon fill=\"black\" stroke=\"black\" points=\"1186.56,-75.5537 1178.83,-68.2996 1180.35,-78.7859 1186.56,-75.5537\"/>\r\n",
       "</g>\r\n",
       "<!-- 27 -->\r\n",
       "<g id=\"node28\" class=\"node\"><title>27</title>\r\n",
       "<path fill=\"#399de5\" stroke=\"black\" d=\"M1313,-68C1313,-68 1240,-68 1240,-68 1234,-68 1228,-62 1228,-56 1228,-56 1228,-12 1228,-12 1228,-6 1234,-0 1240,-0 1240,-0 1313,-0 1313,-0 1319,-0 1325,-6 1325,-12 1325,-12 1325,-56 1325,-56 1325,-62 1319,-68 1313,-68\"/>\r\n",
       "<text text-anchor=\"start\" x=\"1247.5\" y=\"-52.8\" font-family=\"Helvetica,sans-Serif\" font-size=\"14.00\">gini = 0.0</text>\r\n",
       "<text text-anchor=\"start\" x=\"1237\" y=\"-37.8\" font-family=\"Helvetica,sans-Serif\" font-size=\"14.00\">samples = 1</text>\r\n",
       "<text text-anchor=\"start\" x=\"1236\" y=\"-22.8\" font-family=\"Helvetica,sans-Serif\" font-size=\"14.00\">value = [0, 1]</text>\r\n",
       "<text text-anchor=\"start\" x=\"1247.5\" y=\"-7.8\" font-family=\"Helvetica,sans-Serif\" font-size=\"14.00\">class = 0</text>\r\n",
       "</g>\r\n",
       "<!-- 25&#45;&gt;27 -->\r\n",
       "<g id=\"edge27\" class=\"edge\"><title>25&#45;&gt;27</title>\r\n",
       "<path fill=\"none\" stroke=\"black\" d=\"M1240.1,-103.726C1244.69,-95.0615 1249.54,-85.8962 1254.16,-77.1802\"/>\r\n",
       "<polygon fill=\"black\" stroke=\"black\" points=\"1257.27,-78.7748 1258.86,-68.2996 1251.09,-75.4982 1257.27,-78.7748\"/>\r\n",
       "</g>\r\n",
       "<!-- 30 -->\r\n",
       "<g id=\"node31\" class=\"node\"><title>30</title>\r\n",
       "<path fill=\"#fdf5ef\" stroke=\"black\" d=\"M1523,-187C1523,-187 1418,-187 1418,-187 1412,-187 1406,-181 1406,-175 1406,-175 1406,-116 1406,-116 1406,-110 1412,-104 1418,-104 1418,-104 1523,-104 1523,-104 1529,-104 1535,-110 1535,-116 1535,-116 1535,-175 1535,-175 1535,-181 1529,-187 1523,-187\"/>\r\n",
       "<text text-anchor=\"start\" x=\"1414\" y=\"-171.8\" font-family=\"Helvetica,sans-Serif\" font-size=\"14.00\">Hardness ≤ 1.193</text>\r\n",
       "<text text-anchor=\"start\" x=\"1433\" y=\"-156.8\" font-family=\"Helvetica,sans-Serif\" font-size=\"14.00\">gini = 0.499</text>\r\n",
       "<text text-anchor=\"start\" x=\"1423\" y=\"-141.8\" font-family=\"Helvetica,sans-Serif\" font-size=\"14.00\">samples = 186</text>\r\n",
       "<text text-anchor=\"start\" x=\"1422\" y=\"-126.8\" font-family=\"Helvetica,sans-Serif\" font-size=\"14.00\">value = [97, 89]</text>\r\n",
       "<text text-anchor=\"start\" x=\"1441.5\" y=\"-111.8\" font-family=\"Helvetica,sans-Serif\" font-size=\"14.00\">class = 1</text>\r\n",
       "</g>\r\n",
       "<!-- 29&#45;&gt;30 -->\r\n",
       "<g id=\"edge30\" class=\"edge\"><title>29&#45;&gt;30</title>\r\n",
       "<path fill=\"none\" stroke=\"black\" d=\"M1470.5,-222.907C1470.5,-214.649 1470.5,-205.864 1470.5,-197.302\"/>\r\n",
       "<polygon fill=\"black\" stroke=\"black\" points=\"1474,-197.021 1470.5,-187.021 1467,-197.021 1474,-197.021\"/>\r\n",
       "</g>\r\n",
       "<!-- 33 -->\r\n",
       "<g id=\"node34\" class=\"node\"><title>33</title>\r\n",
       "<path fill=\"#e58139\" stroke=\"black\" d=\"M1638,-179.5C1638,-179.5 1565,-179.5 1565,-179.5 1559,-179.5 1553,-173.5 1553,-167.5 1553,-167.5 1553,-123.5 1553,-123.5 1553,-117.5 1559,-111.5 1565,-111.5 1565,-111.5 1638,-111.5 1638,-111.5 1644,-111.5 1650,-117.5 1650,-123.5 1650,-123.5 1650,-167.5 1650,-167.5 1650,-173.5 1644,-179.5 1638,-179.5\"/>\r\n",
       "<text text-anchor=\"start\" x=\"1572.5\" y=\"-164.3\" font-family=\"Helvetica,sans-Serif\" font-size=\"14.00\">gini = 0.0</text>\r\n",
       "<text text-anchor=\"start\" x=\"1562\" y=\"-149.3\" font-family=\"Helvetica,sans-Serif\" font-size=\"14.00\">samples = 5</text>\r\n",
       "<text text-anchor=\"start\" x=\"1561\" y=\"-134.3\" font-family=\"Helvetica,sans-Serif\" font-size=\"14.00\">value = [5, 0]</text>\r\n",
       "<text text-anchor=\"start\" x=\"1572.5\" y=\"-119.3\" font-family=\"Helvetica,sans-Serif\" font-size=\"14.00\">class = 1</text>\r\n",
       "</g>\r\n",
       "<!-- 29&#45;&gt;33 -->\r\n",
       "<g id=\"edge33\" class=\"edge\"><title>29&#45;&gt;33</title>\r\n",
       "<path fill=\"none\" stroke=\"black\" d=\"M1515.95,-222.907C1529.17,-211.101 1543.6,-198.217 1556.77,-186.45\"/>\r\n",
       "<polygon fill=\"black\" stroke=\"black\" points=\"1559.24,-188.939 1564.36,-179.667 1554.57,-183.718 1559.24,-188.939\"/>\r\n",
       "</g>\r\n",
       "<!-- 31 -->\r\n",
       "<g id=\"node32\" class=\"node\"><title>31</title>\r\n",
       "<path fill=\"#f7fbfe\" stroke=\"black\" d=\"M1480,-68C1480,-68 1391,-68 1391,-68 1385,-68 1379,-62 1379,-56 1379,-56 1379,-12 1379,-12 1379,-6 1385,-0 1391,-0 1391,-0 1480,-0 1480,-0 1486,-0 1492,-6 1492,-12 1492,-12 1492,-56 1492,-56 1492,-62 1486,-68 1480,-68\"/>\r\n",
       "<text text-anchor=\"start\" x=\"1406.5\" y=\"-52.8\" font-family=\"Helvetica,sans-Serif\" font-size=\"14.00\">gini = 0.5</text>\r\n",
       "<text text-anchor=\"start\" x=\"1388\" y=\"-37.8\" font-family=\"Helvetica,sans-Serif\" font-size=\"14.00\">samples = 155</text>\r\n",
       "<text text-anchor=\"start\" x=\"1387\" y=\"-22.8\" font-family=\"Helvetica,sans-Serif\" font-size=\"14.00\">value = [76, 79]</text>\r\n",
       "<text text-anchor=\"start\" x=\"1406.5\" y=\"-7.8\" font-family=\"Helvetica,sans-Serif\" font-size=\"14.00\">class = 0</text>\r\n",
       "</g>\r\n",
       "<!-- 30&#45;&gt;31 -->\r\n",
       "<g id=\"edge31\" class=\"edge\"><title>30&#45;&gt;31</title>\r\n",
       "<path fill=\"none\" stroke=\"black\" d=\"M1457.47,-103.726C1454.79,-95.3351 1451.95,-86.4745 1449.25,-78.0072\"/>\r\n",
       "<polygon fill=\"black\" stroke=\"black\" points=\"1452.52,-76.7592 1446.14,-68.2996 1445.85,-78.8905 1452.52,-76.7592\"/>\r\n",
       "</g>\r\n",
       "<!-- 32 -->\r\n",
       "<g id=\"node33\" class=\"node\"><title>32</title>\r\n",
       "<path fill=\"#f1bd97\" stroke=\"black\" d=\"M1611,-68C1611,-68 1522,-68 1522,-68 1516,-68 1510,-62 1510,-56 1510,-56 1510,-12 1510,-12 1510,-6 1516,-0 1522,-0 1522,-0 1611,-0 1611,-0 1617,-0 1623,-6 1623,-12 1623,-12 1623,-56 1623,-56 1623,-62 1617,-68 1611,-68\"/>\r\n",
       "<text text-anchor=\"start\" x=\"1529\" y=\"-52.8\" font-family=\"Helvetica,sans-Serif\" font-size=\"14.00\">gini = 0.437</text>\r\n",
       "<text text-anchor=\"start\" x=\"1523\" y=\"-37.8\" font-family=\"Helvetica,sans-Serif\" font-size=\"14.00\">samples = 31</text>\r\n",
       "<text text-anchor=\"start\" x=\"1518\" y=\"-22.8\" font-family=\"Helvetica,sans-Serif\" font-size=\"14.00\">value = [21, 10]</text>\r\n",
       "<text text-anchor=\"start\" x=\"1537.5\" y=\"-7.8\" font-family=\"Helvetica,sans-Serif\" font-size=\"14.00\">class = 1</text>\r\n",
       "</g>\r\n",
       "<!-- 30&#45;&gt;32 -->\r\n",
       "<g id=\"edge32\" class=\"edge\"><title>30&#45;&gt;32</title>\r\n",
       "<path fill=\"none\" stroke=\"black\" d=\"M1506.25,-103.726C1514.16,-94.6966 1522.56,-85.1235 1530.48,-76.0816\"/>\r\n",
       "<polygon fill=\"black\" stroke=\"black\" points=\"1533.35,-78.1263 1537.31,-68.2996 1528.08,-73.5117 1533.35,-78.1263\"/>\r\n",
       "</g>\r\n",
       "</g>\r\n",
       "</svg>\r\n"
      ],
      "text/plain": [
       "<graphviz.files.Source at 0x2196b191400>"
      ]
     },
     "execution_count": 104,
     "metadata": {},
     "output_type": "execute_result"
    }
   ],
   "source": [
    "dot_data = export_graphviz(tr_clfD, out_file=None, \n",
    "                           feature_names=dataD_X_train.columns.tolist(), \n",
    "                           class_names=['1', '0'], \n",
    "                           filled=True, rounded=True, special_characters=True)  \n",
    "graph = graphviz.Source(dot_data)  \n",
    "graph"
   ]
  },
  {
   "cell_type": "code",
   "execution_count": 85,
   "metadata": {},
   "outputs": [],
   "source": [
    "def show_feature_importance(importance, col_names):\n",
    "    data = pd.DataFrame({'feature_names':np.array(col_names),'feature_importance':np.array(importance)})\n",
    "    data.sort_values(by=['feature_importance'], ascending=False,inplace=True)\n",
    "\n",
    "    plt.figure(figsize=(10,7))\n",
    "    sns.barplot(x=data['feature_importance'], y=data['feature_names'])\n",
    "    plt.title('Feature importance using DecisionTreeClassifier')\n",
    "    plt.xlabel('importance')\n",
    "    plt.ylabel('name')"
   ]
  },
  {
   "cell_type": "code",
   "execution_count": 86,
   "metadata": {},
   "outputs": [
    {
     "data": {
      "image/png": "[encoded data removed]",
      "text/plain": [
       "<Figure size 720x504 with 1 Axes>"
      ]
     },
     "metadata": {},
     "output_type": "display_data"
    }
   ],
   "source": [
    "show_feature_importance(tr_clfD.feature_importances_, dataD_X_train.columns.tolist())"
   ]
  },
  {
   "cell_type": "markdown",
   "metadata": {},
   "source": [
    "### 2. Не удален признак Organic_carbon"
   ]
  },
  {
   "cell_type": "code",
   "execution_count": 87,
   "metadata": {},
   "outputs": [
    {
     "name": "stdout",
     "output_type": "stream",
     "text": [
      "Подобранный параметр: {'max_depth': 5}\n",
      "Оценка при подобранном параметре: 0.5037487356585403\n"
     ]
    }
   ],
   "source": [
    "tree = get_optimum(DecisionTreeClassifier(random_state=RANDOM_STATE), Tree_param, 10, data_X_train, data_y_train)"
   ]
  },
  {
   "cell_type": "code",
   "execution_count": 88,
   "metadata": {},
   "outputs": [
    {
     "name": "stdout",
     "output_type": "stream",
     "text": [
      "Сбалансированная оценка: 0.5085109655869555\n"
     ]
    },
    {
     "data": {
      "image/png": "[encoded data removed]",
      "text/plain": [
       "<Figure size 432x288 with 1 Axes>"
      ]
     },
     "metadata": {},
     "output_type": "display_data"
    },
    {
     "name": "stdout",
     "output_type": "stream",
     "text": [
      "Матрица ошибок:\n",
      " [[501 109]\n",
      " [300  73]]\n",
      "              precision    recall  f1-score   support\n",
      "\n",
      "           1       0.63      0.82      0.71       610\n",
      "           0       0.40      0.20      0.26       373\n",
      "\n",
      "    accuracy                           0.58       983\n",
      "   macro avg       0.51      0.51      0.49       983\n",
      "weighted avg       0.54      0.58      0.54       983\n",
      "\n"
     ]
    }
   ],
   "source": [
    "DT = print_metrics(data_X_train, data_y_train, data_X_test, data_y_test, DecisionTreeClassifier(max_depth=tree[0], \\\n",
    "                                                                                               random_state=RANDOM_STATE))"
   ]
  },
  {
   "cell_type": "code",
   "execution_count": 89,
   "metadata": {},
   "outputs": [
    {
     "data": {
      "text/plain": [
       "DecisionTreeClassifier(max_depth=5, random_state=0)"
      ]
     },
     "execution_count": 89,
     "metadata": {},
     "output_type": "execute_result"
    }
   ],
   "source": [
    "tr_clf = DecisionTreeClassifier(max_depth=tree[0], random_state=RANDOM_STATE)\n",
    "tr_clf.fit(data_X_train, data_y_train)"
   ]
  },
  {
   "cell_type": "code",
   "execution_count": 91,
   "metadata": {
    "scrolled": true
   },
   "outputs": [
    {
     "data": {
      "image/svg+xml": [
       "<?xml version=\"1.0\" encoding=\"UTF-8\" standalone=\"no\"?>\r\n",
       "<!DOCTYPE svg PUBLIC \"-//W3C//DTD SVG 1.1//EN\"\r\n",
       " \"http://www.w3.org/Graphics/SVG/1.1/DTD/svg11.dtd\">\r\n",
       "<!-- Generated by graphviz version 2.38.0 (20140413.2041)\r\n",
       " -->\r\n",
       "<!-- Title: Tree Pages: 1 -->\r\n",
       "<svg width=\"1688pt\" height=\"671pt\"\r\n",
       " viewBox=\"0.00 0.00 1688.00 671.00\" xmlns=\"http://www.w3.org/2000/svg\" xmlns:xlink=\"http://www.w3.org/1999/xlink\">\r\n",
       "<g id=\"graph0\" class=\"graph\" transform=\"scale(1 1) rotate(0) translate(4 667)\">\r\n",
       "<title>Tree</title>\r\n",
       "<polygon fill=\"white\" stroke=\"none\" points=\"-4,4 -4,-667 1684,-667 1684,4 -4,4\"/>\r\n",
       "<!-- 0 -->\r\n",
       "<g id=\"node1\" class=\"node\"><title>0</title>\r\n",
       "<path fill=\"#f6d3ba\" stroke=\"black\" d=\"M1257.5,-663C1257.5,-663 1133.5,-663 1133.5,-663 1127.5,-663 1121.5,-657 1121.5,-651 1121.5,-651 1121.5,-592 1121.5,-592 1121.5,-586 1127.5,-580 1133.5,-580 1133.5,-580 1257.5,-580 1257.5,-580 1263.5,-580 1269.5,-586 1269.5,-592 1269.5,-592 1269.5,-651 1269.5,-651 1269.5,-657 1263.5,-663 1257.5,-663\"/>\r\n",
       "<text text-anchor=\"start\" x=\"1129.5\" y=\"-647.8\" font-family=\"Helvetica,sans-Serif\" font-size=\"14.00\">Chloramines ≤ 1.364</text>\r\n",
       "<text text-anchor=\"start\" x=\"1158\" y=\"-632.8\" font-family=\"Helvetica,sans-Serif\" font-size=\"14.00\">gini = 0.478</text>\r\n",
       "<text text-anchor=\"start\" x=\"1144\" y=\"-617.8\" font-family=\"Helvetica,sans-Serif\" font-size=\"14.00\">samples = 2293</text>\r\n",
       "<text text-anchor=\"start\" x=\"1134.5\" y=\"-602.8\" font-family=\"Helvetica,sans-Serif\" font-size=\"14.00\">value = [1388, 905]</text>\r\n",
       "<text text-anchor=\"start\" x=\"1166.5\" y=\"-587.8\" font-family=\"Helvetica,sans-Serif\" font-size=\"14.00\">class = 1</text>\r\n",
       "</g>\r\n",
       "<!-- 1 -->\r\n",
       "<g id=\"node2\" class=\"node\"><title>1</title>\r\n",
       "<path fill=\"#f5d0b4\" stroke=\"black\" d=\"M1137.5,-544C1137.5,-544 1023.5,-544 1023.5,-544 1017.5,-544 1011.5,-538 1011.5,-532 1011.5,-532 1011.5,-473 1011.5,-473 1011.5,-467 1017.5,-461 1023.5,-461 1023.5,-461 1137.5,-461 1137.5,-461 1143.5,-461 1149.5,-467 1149.5,-473 1149.5,-473 1149.5,-532 1149.5,-532 1149.5,-538 1143.5,-544 1137.5,-544\"/>\r\n",
       "<text text-anchor=\"start\" x=\"1024\" y=\"-528.8\" font-family=\"Helvetica,sans-Serif\" font-size=\"14.00\">Hardness ≤ 2.701</text>\r\n",
       "<text text-anchor=\"start\" x=\"1043\" y=\"-513.8\" font-family=\"Helvetica,sans-Serif\" font-size=\"14.00\">gini = 0.473</text>\r\n",
       "<text text-anchor=\"start\" x=\"1029\" y=\"-498.8\" font-family=\"Helvetica,sans-Serif\" font-size=\"14.00\">samples = 2086</text>\r\n",
       "<text text-anchor=\"start\" x=\"1019.5\" y=\"-483.8\" font-family=\"Helvetica,sans-Serif\" font-size=\"14.00\">value = [1285, 801]</text>\r\n",
       "<text text-anchor=\"start\" x=\"1051.5\" y=\"-468.8\" font-family=\"Helvetica,sans-Serif\" font-size=\"14.00\">class = 1</text>\r\n",
       "</g>\r\n",
       "<!-- 0&#45;&gt;1 -->\r\n",
       "<g id=\"edge1\" class=\"edge\"><title>0&#45;&gt;1</title>\r\n",
       "<path fill=\"none\" stroke=\"black\" d=\"M1155.6,-579.907C1146.5,-570.651 1136.75,-560.732 1127.39,-551.209\"/>\r\n",
       "<polygon fill=\"black\" stroke=\"black\" points=\"1129.83,-548.699 1120.33,-544.021 1124.84,-553.606 1129.83,-548.699\"/>\r\n",
       "<text text-anchor=\"middle\" x=\"1120.11\" y=\"-565.32\" font-family=\"Helvetica,sans-Serif\" font-size=\"14.00\">True</text>\r\n",
       "</g>\r\n",
       "<!-- 22 -->\r\n",
       "<g id=\"node23\" class=\"node\"><title>22</title>\r\n",
       "<path fill=\"#fdfeff\" stroke=\"black\" d=\"M1373.5,-544C1373.5,-544 1249.5,-544 1249.5,-544 1243.5,-544 1237.5,-538 1237.5,-532 1237.5,-532 1237.5,-473 1237.5,-473 1237.5,-467 1243.5,-461 1249.5,-461 1249.5,-461 1373.5,-461 1373.5,-461 1379.5,-461 1385.5,-467 1385.5,-473 1385.5,-473 1385.5,-532 1385.5,-532 1385.5,-538 1379.5,-544 1373.5,-544\"/>\r\n",
       "<text text-anchor=\"start\" x=\"1245.5\" y=\"-528.8\" font-family=\"Helvetica,sans-Serif\" font-size=\"14.00\">Chloramines ≤ 3.173</text>\r\n",
       "<text text-anchor=\"start\" x=\"1282.5\" y=\"-513.8\" font-family=\"Helvetica,sans-Serif\" font-size=\"14.00\">gini = 0.5</text>\r\n",
       "<text text-anchor=\"start\" x=\"1264\" y=\"-498.8\" font-family=\"Helvetica,sans-Serif\" font-size=\"14.00\">samples = 207</text>\r\n",
       "<text text-anchor=\"start\" x=\"1254.5\" y=\"-483.8\" font-family=\"Helvetica,sans-Serif\" font-size=\"14.00\">value = [103, 104]</text>\r\n",
       "<text text-anchor=\"start\" x=\"1282.5\" y=\"-468.8\" font-family=\"Helvetica,sans-Serif\" font-size=\"14.00\">class = 0</text>\r\n",
       "</g>\r\n",
       "<!-- 0&#45;&gt;22 -->\r\n",
       "<g id=\"edge22\" class=\"edge\"><title>0&#45;&gt;22</title>\r\n",
       "<path fill=\"none\" stroke=\"black\" d=\"M1235.75,-579.907C1244.92,-570.651 1254.76,-560.732 1264.2,-551.209\"/>\r\n",
       "<polygon fill=\"black\" stroke=\"black\" points=\"1266.77,-553.586 1271.33,-544.021 1261.8,-548.658 1266.77,-553.586\"/>\r\n",
       "<text text-anchor=\"middle\" x=\"1271.43\" y=\"-565.321\" font-family=\"Helvetica,sans-Serif\" font-size=\"14.00\">False</text>\r\n",
       "</g>\r\n",
       "<!-- 2 -->\r\n",
       "<g id=\"node3\" class=\"node\"><title>2</title>\r\n",
       "<path fill=\"#f5cfb3\" stroke=\"black\" d=\"M818.5,-425C818.5,-425 690.5,-425 690.5,-425 684.5,-425 678.5,-419 678.5,-413 678.5,-413 678.5,-354 678.5,-354 678.5,-348 684.5,-342 690.5,-342 690.5,-342 818.5,-342 818.5,-342 824.5,-342 830.5,-348 830.5,-354 830.5,-354 830.5,-413 830.5,-413 830.5,-419 824.5,-425 818.5,-425\"/>\r\n",
       "<text text-anchor=\"start\" x=\"686.5\" y=\"-409.8\" font-family=\"Helvetica,sans-Serif\" font-size=\"14.00\">Chloramines ≤ &#45;1.028</text>\r\n",
       "<text text-anchor=\"start\" x=\"717\" y=\"-394.8\" font-family=\"Helvetica,sans-Serif\" font-size=\"14.00\">gini = 0.472</text>\r\n",
       "<text text-anchor=\"start\" x=\"703\" y=\"-379.8\" font-family=\"Helvetica,sans-Serif\" font-size=\"14.00\">samples = 2074</text>\r\n",
       "<text text-anchor=\"start\" x=\"693.5\" y=\"-364.8\" font-family=\"Helvetica,sans-Serif\" font-size=\"14.00\">value = [1283, 791]</text>\r\n",
       "<text text-anchor=\"start\" x=\"725.5\" y=\"-349.8\" font-family=\"Helvetica,sans-Serif\" font-size=\"14.00\">class = 1</text>\r\n",
       "</g>\r\n",
       "<!-- 1&#45;&gt;2 -->\r\n",
       "<g id=\"edge2\" class=\"edge\"><title>1&#45;&gt;2</title>\r\n",
       "<path fill=\"none\" stroke=\"black\" d=\"M1011.36,-476.687C961.378,-458.748 893.527,-434.396 840.114,-415.226\"/>\r\n",
       "<polygon fill=\"black\" stroke=\"black\" points=\"841.251,-411.916 830.656,-411.832 838.886,-418.504 841.251,-411.916\"/>\r\n",
       "</g>\r\n",
       "<!-- 17 -->\r\n",
       "<g id=\"node18\" class=\"node\"><title>17</title>\r\n",
       "<path fill=\"#61b1ea\" stroke=\"black\" d=\"M1125,-425C1125,-425 1036,-425 1036,-425 1030,-425 1024,-419 1024,-413 1024,-413 1024,-354 1024,-354 1024,-348 1030,-342 1036,-342 1036,-342 1125,-342 1125,-342 1131,-342 1137,-348 1137,-354 1137,-354 1137,-413 1137,-413 1137,-419 1131,-425 1125,-425\"/>\r\n",
       "<text text-anchor=\"start\" x=\"1032\" y=\"-409.8\" font-family=\"Helvetica,sans-Serif\" font-size=\"14.00\">Solids ≤ &#45;0.001</text>\r\n",
       "<text text-anchor=\"start\" x=\"1043\" y=\"-394.8\" font-family=\"Helvetica,sans-Serif\" font-size=\"14.00\">gini = 0.278</text>\r\n",
       "<text text-anchor=\"start\" x=\"1037\" y=\"-379.8\" font-family=\"Helvetica,sans-Serif\" font-size=\"14.00\">samples = 12</text>\r\n",
       "<text text-anchor=\"start\" x=\"1036\" y=\"-364.8\" font-family=\"Helvetica,sans-Serif\" font-size=\"14.00\">value = [2, 10]</text>\r\n",
       "<text text-anchor=\"start\" x=\"1051.5\" y=\"-349.8\" font-family=\"Helvetica,sans-Serif\" font-size=\"14.00\">class = 0</text>\r\n",
       "</g>\r\n",
       "<!-- 1&#45;&gt;17 -->\r\n",
       "<g id=\"edge17\" class=\"edge\"><title>1&#45;&gt;17</title>\r\n",
       "<path fill=\"none\" stroke=\"black\" d=\"M1080.5,-460.907C1080.5,-452.649 1080.5,-443.864 1080.5,-435.302\"/>\r\n",
       "<polygon fill=\"black\" stroke=\"black\" points=\"1084,-435.021 1080.5,-425.021 1077,-435.021 1084,-435.021\"/>\r\n",
       "</g>\r\n",
       "<!-- 3 -->\r\n",
       "<g id=\"node4\" class=\"node\"><title>3</title>\r\n",
       "<path fill=\"#fbede3\" stroke=\"black\" d=\"M447.5,-306C447.5,-306 341.5,-306 341.5,-306 335.5,-306 329.5,-300 329.5,-294 329.5,-294 329.5,-235 329.5,-235 329.5,-229 335.5,-223 341.5,-223 341.5,-223 447.5,-223 447.5,-223 453.5,-223 459.5,-229 459.5,-235 459.5,-235 459.5,-294 459.5,-294 459.5,-300 453.5,-306 447.5,-306\"/>\r\n",
       "<text text-anchor=\"start\" x=\"346\" y=\"-290.8\" font-family=\"Helvetica,sans-Serif\" font-size=\"14.00\">Solids ≤ &#45;0.312</text>\r\n",
       "<text text-anchor=\"start\" x=\"357\" y=\"-275.8\" font-family=\"Helvetica,sans-Serif\" font-size=\"14.00\">gini = 0.497</text>\r\n",
       "<text text-anchor=\"start\" x=\"347\" y=\"-260.8\" font-family=\"Helvetica,sans-Serif\" font-size=\"14.00\">samples = 312</text>\r\n",
       "<text text-anchor=\"start\" x=\"337.5\" y=\"-245.8\" font-family=\"Helvetica,sans-Serif\" font-size=\"14.00\">value = [168, 144]</text>\r\n",
       "<text text-anchor=\"start\" x=\"365.5\" y=\"-230.8\" font-family=\"Helvetica,sans-Serif\" font-size=\"14.00\">class = 1</text>\r\n",
       "</g>\r\n",
       "<!-- 2&#45;&gt;3 -->\r\n",
       "<g id=\"edge3\" class=\"edge\"><title>2&#45;&gt;3</title>\r\n",
       "<path fill=\"none\" stroke=\"black\" d=\"M678.153,-357.687C616.538,-337.662 530.342,-309.649 469.177,-289.77\"/>\r\n",
       "<polygon fill=\"black\" stroke=\"black\" points=\"470.175,-286.414 459.583,-286.652 468.011,-293.071 470.175,-286.414\"/>\r\n",
       "</g>\r\n",
       "<!-- 10 -->\r\n",
       "<g id=\"node11\" class=\"node\"><title>10</title>\r\n",
       "<path fill=\"#f4caac\" stroke=\"black\" d=\"M811.5,-306C811.5,-306 697.5,-306 697.5,-306 691.5,-306 685.5,-300 685.5,-294 685.5,-294 685.5,-235 685.5,-235 685.5,-229 691.5,-223 697.5,-223 697.5,-223 811.5,-223 811.5,-223 817.5,-223 823.5,-229 823.5,-235 823.5,-235 823.5,-294 823.5,-294 823.5,-300 817.5,-306 811.5,-306\"/>\r\n",
       "<text text-anchor=\"start\" x=\"695.5\" y=\"-290.8\" font-family=\"Helvetica,sans-Serif\" font-size=\"14.00\">Hardness ≤ &#45;1.837</text>\r\n",
       "<text text-anchor=\"start\" x=\"717\" y=\"-275.8\" font-family=\"Helvetica,sans-Serif\" font-size=\"14.00\">gini = 0.465</text>\r\n",
       "<text text-anchor=\"start\" x=\"703\" y=\"-260.8\" font-family=\"Helvetica,sans-Serif\" font-size=\"14.00\">samples = 1762</text>\r\n",
       "<text text-anchor=\"start\" x=\"693.5\" y=\"-245.8\" font-family=\"Helvetica,sans-Serif\" font-size=\"14.00\">value = [1115, 647]</text>\r\n",
       "<text text-anchor=\"start\" x=\"725.5\" y=\"-230.8\" font-family=\"Helvetica,sans-Serif\" font-size=\"14.00\">class = 1</text>\r\n",
       "</g>\r\n",
       "<!-- 2&#45;&gt;10 -->\r\n",
       "<g id=\"edge10\" class=\"edge\"><title>2&#45;&gt;10</title>\r\n",
       "<path fill=\"none\" stroke=\"black\" d=\"M754.5,-341.907C754.5,-333.649 754.5,-324.864 754.5,-316.302\"/>\r\n",
       "<polygon fill=\"black\" stroke=\"black\" points=\"758,-316.021 754.5,-306.021 751,-316.021 758,-316.021\"/>\r\n",
       "</g>\r\n",
       "<!-- 4 -->\r\n",
       "<g id=\"node5\" class=\"node\"><title>4</title>\r\n",
       "<path fill=\"#f3c3a1\" stroke=\"black\" d=\"M240,-187C240,-187 127,-187 127,-187 121,-187 115,-181 115,-175 115,-175 115,-116 115,-116 115,-110 121,-104 127,-104 127,-104 240,-104 240,-104 246,-104 252,-110 252,-116 252,-116 252,-175 252,-175 252,-181 246,-187 240,-187\"/>\r\n",
       "<text text-anchor=\"start\" x=\"123\" y=\"-171.8\" font-family=\"Helvetica,sans-Serif\" font-size=\"14.00\">Conductivity ≤ 1.06</text>\r\n",
       "<text text-anchor=\"start\" x=\"146\" y=\"-156.8\" font-family=\"Helvetica,sans-Serif\" font-size=\"14.00\">gini = 0.452</text>\r\n",
       "<text text-anchor=\"start\" x=\"136\" y=\"-141.8\" font-family=\"Helvetica,sans-Serif\" font-size=\"14.00\">samples = 113</text>\r\n",
       "<text text-anchor=\"start\" x=\"135\" y=\"-126.8\" font-family=\"Helvetica,sans-Serif\" font-size=\"14.00\">value = [74, 39]</text>\r\n",
       "<text text-anchor=\"start\" x=\"154.5\" y=\"-111.8\" font-family=\"Helvetica,sans-Serif\" font-size=\"14.00\">class = 1</text>\r\n",
       "</g>\r\n",
       "<!-- 3&#45;&gt;4 -->\r\n",
       "<g id=\"edge4\" class=\"edge\"><title>3&#45;&gt;4</title>\r\n",
       "<path fill=\"none\" stroke=\"black\" d=\"M329.471,-227.441C307.878,-215.468 283.619,-202.016 261.17,-189.568\"/>\r\n",
       "<polygon fill=\"black\" stroke=\"black\" points=\"262.779,-186.458 252.336,-184.67 259.384,-192.58 262.779,-186.458\"/>\r\n",
       "</g>\r\n",
       "<!-- 7 -->\r\n",
       "<g id=\"node8\" class=\"node\"><title>7</title>\r\n",
       "<path fill=\"#eaf5fc\" stroke=\"black\" d=\"M467.5,-187C467.5,-187 321.5,-187 321.5,-187 315.5,-187 309.5,-181 309.5,-175 309.5,-175 309.5,-116 309.5,-116 309.5,-110 315.5,-104 321.5,-104 321.5,-104 467.5,-104 467.5,-104 473.5,-104 479.5,-110 479.5,-116 479.5,-116 479.5,-175 479.5,-175 479.5,-181 473.5,-187 467.5,-187\"/>\r\n",
       "<text text-anchor=\"start\" x=\"317.5\" y=\"-171.8\" font-family=\"Helvetica,sans-Serif\" font-size=\"14.00\">Trihalomethanes ≤ &#45;1.23</text>\r\n",
       "<text text-anchor=\"start\" x=\"357\" y=\"-156.8\" font-family=\"Helvetica,sans-Serif\" font-size=\"14.00\">gini = 0.498</text>\r\n",
       "<text text-anchor=\"start\" x=\"347\" y=\"-141.8\" font-family=\"Helvetica,sans-Serif\" font-size=\"14.00\">samples = 199</text>\r\n",
       "<text text-anchor=\"start\" x=\"341.5\" y=\"-126.8\" font-family=\"Helvetica,sans-Serif\" font-size=\"14.00\">value = [94, 105]</text>\r\n",
       "<text text-anchor=\"start\" x=\"365.5\" y=\"-111.8\" font-family=\"Helvetica,sans-Serif\" font-size=\"14.00\">class = 0</text>\r\n",
       "</g>\r\n",
       "<!-- 3&#45;&gt;7 -->\r\n",
       "<g id=\"edge7\" class=\"edge\"><title>3&#45;&gt;7</title>\r\n",
       "<path fill=\"none\" stroke=\"black\" d=\"M394.5,-222.907C394.5,-214.649 394.5,-205.864 394.5,-197.302\"/>\r\n",
       "<polygon fill=\"black\" stroke=\"black\" points=\"398,-197.021 394.5,-187.021 391,-197.021 398,-197.021\"/>\r\n",
       "</g>\r\n",
       "<!-- 5 -->\r\n",
       "<g id=\"node6\" class=\"node\"><title>5</title>\r\n",
       "<path fill=\"#efaf82\" stroke=\"black\" d=\"M101,-68C101,-68 12,-68 12,-68 6,-68 0,-62 0,-56 0,-56 0,-12 0,-12 0,-6 6,-0 12,-0 12,-0 101,-0 101,-0 107,-0 113,-6 113,-12 113,-12 113,-56 113,-56 113,-62 107,-68 101,-68\"/>\r\n",
       "<text text-anchor=\"start\" x=\"19\" y=\"-52.8\" font-family=\"Helvetica,sans-Serif\" font-size=\"14.00\">gini = 0.393</text>\r\n",
       "<text text-anchor=\"start\" x=\"13\" y=\"-37.8\" font-family=\"Helvetica,sans-Serif\" font-size=\"14.00\">samples = 93</text>\r\n",
       "<text text-anchor=\"start\" x=\"8\" y=\"-22.8\" font-family=\"Helvetica,sans-Serif\" font-size=\"14.00\">value = [68, 25]</text>\r\n",
       "<text text-anchor=\"start\" x=\"27.5\" y=\"-7.8\" font-family=\"Helvetica,sans-Serif\" font-size=\"14.00\">class = 1</text>\r\n",
       "</g>\r\n",
       "<!-- 4&#45;&gt;5 -->\r\n",
       "<g id=\"edge5\" class=\"edge\"><title>4&#45;&gt;5</title>\r\n",
       "<path fill=\"none\" stroke=\"black\" d=\"M136.21,-103.726C125.314,-94.3318 113.736,-84.349 102.879,-74.9883\"/>\r\n",
       "<polygon fill=\"black\" stroke=\"black\" points=\"104.981,-72.1789 95.1215,-68.2996 100.41,-77.4804 104.981,-72.1789\"/>\r\n",
       "</g>\r\n",
       "<!-- 6 -->\r\n",
       "<g id=\"node7\" class=\"node\"><title>6</title>\r\n",
       "<path fill=\"#8ec7f0\" stroke=\"black\" d=\"M224,-68C224,-68 143,-68 143,-68 137,-68 131,-62 131,-56 131,-56 131,-12 131,-12 131,-6 137,-0 143,-0 143,-0 224,-0 224,-0 230,-0 236,-6 236,-12 236,-12 236,-56 236,-56 236,-62 230,-68 224,-68\"/>\r\n",
       "<text text-anchor=\"start\" x=\"150\" y=\"-52.8\" font-family=\"Helvetica,sans-Serif\" font-size=\"14.00\">gini = 0.42</text>\r\n",
       "<text text-anchor=\"start\" x=\"140\" y=\"-37.8\" font-family=\"Helvetica,sans-Serif\" font-size=\"14.00\">samples = 20</text>\r\n",
       "<text text-anchor=\"start\" x=\"139\" y=\"-22.8\" font-family=\"Helvetica,sans-Serif\" font-size=\"14.00\">value = [6, 14]</text>\r\n",
       "<text text-anchor=\"start\" x=\"154.5\" y=\"-7.8\" font-family=\"Helvetica,sans-Serif\" font-size=\"14.00\">class = 0</text>\r\n",
       "</g>\r\n",
       "<!-- 4&#45;&gt;6 -->\r\n",
       "<g id=\"edge6\" class=\"edge\"><title>4&#45;&gt;6</title>\r\n",
       "<path fill=\"none\" stroke=\"black\" d=\"M183.5,-103.726C183.5,-95.5175 183.5,-86.8595 183.5,-78.56\"/>\r\n",
       "<polygon fill=\"black\" stroke=\"black\" points=\"187,-78.2996 183.5,-68.2996 180,-78.2996 187,-78.2996\"/>\r\n",
       "</g>\r\n",
       "<!-- 8 -->\r\n",
       "<g id=\"node9\" class=\"node\"><title>8</title>\r\n",
       "<path fill=\"#eeab7b\" stroke=\"black\" d=\"M347,-68C347,-68 266,-68 266,-68 260,-68 254,-62 254,-56 254,-56 254,-12 254,-12 254,-6 260,-0 266,-0 266,-0 347,-0 347,-0 353,-0 359,-6 359,-12 359,-12 359,-56 359,-56 359,-62 353,-68 347,-68\"/>\r\n",
       "<text text-anchor=\"start\" x=\"269\" y=\"-52.8\" font-family=\"Helvetica,sans-Serif\" font-size=\"14.00\">gini = 0.375</text>\r\n",
       "<text text-anchor=\"start\" x=\"263\" y=\"-37.8\" font-family=\"Helvetica,sans-Serif\" font-size=\"14.00\">samples = 24</text>\r\n",
       "<text text-anchor=\"start\" x=\"262\" y=\"-22.8\" font-family=\"Helvetica,sans-Serif\" font-size=\"14.00\">value = [18, 6]</text>\r\n",
       "<text text-anchor=\"start\" x=\"277.5\" y=\"-7.8\" font-family=\"Helvetica,sans-Serif\" font-size=\"14.00\">class = 1</text>\r\n",
       "</g>\r\n",
       "<!-- 7&#45;&gt;8 -->\r\n",
       "<g id=\"edge8\" class=\"edge\"><title>7&#45;&gt;8</title>\r\n",
       "<path fill=\"none\" stroke=\"black\" d=\"M361.732,-103.726C354.549,-94.7878 346.937,-85.3168 339.736,-76.3558\"/>\r\n",
       "<polygon fill=\"black\" stroke=\"black\" points=\"342.254,-73.9019 333.261,-68.2996 336.797,-78.2869 342.254,-73.9019\"/>\r\n",
       "</g>\r\n",
       "<!-- 9 -->\r\n",
       "<g id=\"node10\" class=\"node\"><title>9</title>\r\n",
       "<path fill=\"#d1e8f9\" stroke=\"black\" d=\"M478,-68C478,-68 389,-68 389,-68 383,-68 377,-62 377,-56 377,-56 377,-12 377,-12 377,-6 383,-0 389,-0 389,-0 478,-0 478,-0 484,-0 490,-6 490,-12 490,-12 490,-56 490,-56 490,-62 484,-68 478,-68\"/>\r\n",
       "<text text-anchor=\"start\" x=\"396\" y=\"-52.8\" font-family=\"Helvetica,sans-Serif\" font-size=\"14.00\">gini = 0.491</text>\r\n",
       "<text text-anchor=\"start\" x=\"386\" y=\"-37.8\" font-family=\"Helvetica,sans-Serif\" font-size=\"14.00\">samples = 175</text>\r\n",
       "<text text-anchor=\"start\" x=\"385\" y=\"-22.8\" font-family=\"Helvetica,sans-Serif\" font-size=\"14.00\">value = [76, 99]</text>\r\n",
       "<text text-anchor=\"start\" x=\"404.5\" y=\"-7.8\" font-family=\"Helvetica,sans-Serif\" font-size=\"14.00\">class = 0</text>\r\n",
       "</g>\r\n",
       "<!-- 7&#45;&gt;9 -->\r\n",
       "<g id=\"edge9\" class=\"edge\"><title>7&#45;&gt;9</title>\r\n",
       "<path fill=\"none\" stroke=\"black\" d=\"M409.022,-103.726C412.043,-95.2439 415.235,-86.2819 418.281,-77.7312\"/>\r\n",
       "<polygon fill=\"black\" stroke=\"black\" points=\"421.582,-78.8943 421.64,-68.2996 414.987,-76.5456 421.582,-78.8943\"/>\r\n",
       "</g>\r\n",
       "<!-- 11 -->\r\n",
       "<g id=\"node12\" class=\"node\"><title>11</title>\r\n",
       "<path fill=\"#cae5f8\" stroke=\"black\" d=\"M707,-187C707,-187 578,-187 578,-187 572,-187 566,-181 566,-175 566,-175 566,-116 566,-116 566,-110 572,-104 578,-104 578,-104 707,-104 707,-104 713,-104 719,-110 719,-116 719,-116 719,-175 719,-175 719,-181 713,-187 707,-187\"/>\r\n",
       "<text text-anchor=\"start\" x=\"574\" y=\"-171.8\" font-family=\"Helvetica,sans-Serif\" font-size=\"14.00\">Organic_carbon ≤ 0.7</text>\r\n",
       "<text text-anchor=\"start\" x=\"605\" y=\"-156.8\" font-family=\"Helvetica,sans-Serif\" font-size=\"14.00\">gini = 0.488</text>\r\n",
       "<text text-anchor=\"start\" x=\"599\" y=\"-141.8\" font-family=\"Helvetica,sans-Serif\" font-size=\"14.00\">samples = 45</text>\r\n",
       "<text text-anchor=\"start\" x=\"594\" y=\"-126.8\" font-family=\"Helvetica,sans-Serif\" font-size=\"14.00\">value = [19, 26]</text>\r\n",
       "<text text-anchor=\"start\" x=\"613.5\" y=\"-111.8\" font-family=\"Helvetica,sans-Serif\" font-size=\"14.00\">class = 0</text>\r\n",
       "</g>\r\n",
       "<!-- 10&#45;&gt;11 -->\r\n",
       "<g id=\"edge11\" class=\"edge\"><title>10&#45;&gt;11</title>\r\n",
       "<path fill=\"none\" stroke=\"black\" d=\"M715.642,-222.907C706.868,-213.742 697.472,-203.927 688.438,-194.489\"/>\r\n",
       "<polygon fill=\"black\" stroke=\"black\" points=\"690.733,-191.824 681.289,-187.021 685.676,-196.665 690.733,-191.824\"/>\r\n",
       "</g>\r\n",
       "<!-- 14 -->\r\n",
       "<g id=\"node15\" class=\"node\"><title>14</title>\r\n",
       "<path fill=\"#f4c8a9\" stroke=\"black\" d=\"M898,-187C898,-187 749,-187 749,-187 743,-187 737,-181 737,-175 737,-175 737,-116 737,-116 737,-110 743,-104 749,-104 749,-104 898,-104 898,-104 904,-104 910,-110 910,-116 910,-116 910,-175 910,-175 910,-181 904,-187 898,-187\"/>\r\n",
       "<text text-anchor=\"start\" x=\"745\" y=\"-171.8\" font-family=\"Helvetica,sans-Serif\" font-size=\"14.00\">Trihalomethanes ≤ 1.723</text>\r\n",
       "<text text-anchor=\"start\" x=\"786\" y=\"-156.8\" font-family=\"Helvetica,sans-Serif\" font-size=\"14.00\">gini = 0.462</text>\r\n",
       "<text text-anchor=\"start\" x=\"772\" y=\"-141.8\" font-family=\"Helvetica,sans-Serif\" font-size=\"14.00\">samples = 1717</text>\r\n",
       "<text text-anchor=\"start\" x=\"762.5\" y=\"-126.8\" font-family=\"Helvetica,sans-Serif\" font-size=\"14.00\">value = [1096, 621]</text>\r\n",
       "<text text-anchor=\"start\" x=\"794.5\" y=\"-111.8\" font-family=\"Helvetica,sans-Serif\" font-size=\"14.00\">class = 1</text>\r\n",
       "</g>\r\n",
       "<!-- 10&#45;&gt;14 -->\r\n",
       "<g id=\"edge14\" class=\"edge\"><title>10&#45;&gt;14</title>\r\n",
       "<path fill=\"none\" stroke=\"black\" d=\"M778.439,-222.907C783.577,-214.195 789.061,-204.897 794.371,-195.893\"/>\r\n",
       "<polygon fill=\"black\" stroke=\"black\" points=\"797.538,-197.412 799.603,-187.021 791.508,-193.857 797.538,-197.412\"/>\r\n",
       "</g>\r\n",
       "<!-- 12 -->\r\n",
       "<g id=\"node13\" class=\"node\"><title>12</title>\r\n",
       "<path fill=\"#9ccef2\" stroke=\"black\" d=\"M609,-68C609,-68 520,-68 520,-68 514,-68 508,-62 508,-56 508,-56 508,-12 508,-12 508,-6 514,-0 520,-0 520,-0 609,-0 609,-0 615,-0 621,-6 621,-12 621,-12 621,-56 621,-56 621,-62 615,-68 609,-68\"/>\r\n",
       "<text text-anchor=\"start\" x=\"527\" y=\"-52.8\" font-family=\"Helvetica,sans-Serif\" font-size=\"14.00\">gini = 0.444</text>\r\n",
       "<text text-anchor=\"start\" x=\"521\" y=\"-37.8\" font-family=\"Helvetica,sans-Serif\" font-size=\"14.00\">samples = 36</text>\r\n",
       "<text text-anchor=\"start\" x=\"516\" y=\"-22.8\" font-family=\"Helvetica,sans-Serif\" font-size=\"14.00\">value = [12, 24]</text>\r\n",
       "<text text-anchor=\"start\" x=\"535.5\" y=\"-7.8\" font-family=\"Helvetica,sans-Serif\" font-size=\"14.00\">class = 0</text>\r\n",
       "</g>\r\n",
       "<!-- 11&#45;&gt;12 -->\r\n",
       "<g id=\"edge12\" class=\"edge\"><title>11&#45;&gt;12</title>\r\n",
       "<path fill=\"none\" stroke=\"black\" d=\"M613.456,-103.726C607.154,-94.879 600.48,-85.51 594.154,-76.6303\"/>\r\n",
       "<polygon fill=\"black\" stroke=\"black\" points=\"596.873,-74.4138 588.22,-68.2996 591.171,-78.4751 596.873,-74.4138\"/>\r\n",
       "</g>\r\n",
       "<!-- 13 -->\r\n",
       "<g id=\"node14\" class=\"node\"><title>13</title>\r\n",
       "<path fill=\"#eca572\" stroke=\"black\" d=\"M724,-68C724,-68 651,-68 651,-68 645,-68 639,-62 639,-56 639,-56 639,-12 639,-12 639,-6 645,-0 651,-0 651,-0 724,-0 724,-0 730,-0 736,-6 736,-12 736,-12 736,-56 736,-56 736,-62 730,-68 724,-68\"/>\r\n",
       "<text text-anchor=\"start\" x=\"650\" y=\"-52.8\" font-family=\"Helvetica,sans-Serif\" font-size=\"14.00\">gini = 0.346</text>\r\n",
       "<text text-anchor=\"start\" x=\"648\" y=\"-37.8\" font-family=\"Helvetica,sans-Serif\" font-size=\"14.00\">samples = 9</text>\r\n",
       "<text text-anchor=\"start\" x=\"647\" y=\"-22.8\" font-family=\"Helvetica,sans-Serif\" font-size=\"14.00\">value = [7, 2]</text>\r\n",
       "<text text-anchor=\"start\" x=\"658.5\" y=\"-7.8\" font-family=\"Helvetica,sans-Serif\" font-size=\"14.00\">class = 1</text>\r\n",
       "</g>\r\n",
       "<!-- 11&#45;&gt;13 -->\r\n",
       "<g id=\"edge13\" class=\"edge\"><title>11&#45;&gt;13</title>\r\n",
       "<path fill=\"none\" stroke=\"black\" d=\"M659.256,-103.726C662.742,-95.2439 666.425,-86.2819 669.939,-77.7312\"/>\r\n",
       "<polygon fill=\"black\" stroke=\"black\" points=\"673.251,-78.8794 673.815,-68.2996 666.777,-76.2186 673.251,-78.8794\"/>\r\n",
       "</g>\r\n",
       "<!-- 15 -->\r\n",
       "<g id=\"node16\" class=\"node\"><title>15</title>\r\n",
       "<path fill=\"#f3c7a6\" stroke=\"black\" d=\"M880.5,-68C880.5,-68 766.5,-68 766.5,-68 760.5,-68 754.5,-62 754.5,-56 754.5,-56 754.5,-12 754.5,-12 754.5,-6 760.5,-0 766.5,-0 766.5,-0 880.5,-0 880.5,-0 886.5,-0 892.5,-6 892.5,-12 892.5,-12 892.5,-56 892.5,-56 892.5,-62 886.5,-68 880.5,-68\"/>\r\n",
       "<text text-anchor=\"start\" x=\"786\" y=\"-52.8\" font-family=\"Helvetica,sans-Serif\" font-size=\"14.00\">gini = 0.458</text>\r\n",
       "<text text-anchor=\"start\" x=\"772\" y=\"-37.8\" font-family=\"Helvetica,sans-Serif\" font-size=\"14.00\">samples = 1647</text>\r\n",
       "<text text-anchor=\"start\" x=\"762.5\" y=\"-22.8\" font-family=\"Helvetica,sans-Serif\" font-size=\"14.00\">value = [1061, 586]</text>\r\n",
       "<text text-anchor=\"start\" x=\"794.5\" y=\"-7.8\" font-family=\"Helvetica,sans-Serif\" font-size=\"14.00\">class = 1</text>\r\n",
       "</g>\r\n",
       "<!-- 14&#45;&gt;15 -->\r\n",
       "<g id=\"edge15\" class=\"edge\"><title>14&#45;&gt;15</title>\r\n",
       "<path fill=\"none\" stroke=\"black\" d=\"M823.5,-103.726C823.5,-95.5175 823.5,-86.8595 823.5,-78.56\"/>\r\n",
       "<polygon fill=\"black\" stroke=\"black\" points=\"827,-78.2996 823.5,-68.2996 820,-78.2996 827,-78.2996\"/>\r\n",
       "</g>\r\n",
       "<!-- 16 -->\r\n",
       "<g id=\"node17\" class=\"node\"><title>16</title>\r\n",
       "<path fill=\"#ffffff\" stroke=\"black\" d=\"M1012,-68C1012,-68 923,-68 923,-68 917,-68 911,-62 911,-56 911,-56 911,-12 911,-12 911,-6 917,-0 923,-0 923,-0 1012,-0 1012,-0 1018,-0 1024,-6 1024,-12 1024,-12 1024,-56 1024,-56 1024,-62 1018,-68 1012,-68\"/>\r\n",
       "<text text-anchor=\"start\" x=\"938.5\" y=\"-52.8\" font-family=\"Helvetica,sans-Serif\" font-size=\"14.00\">gini = 0.5</text>\r\n",
       "<text text-anchor=\"start\" x=\"924\" y=\"-37.8\" font-family=\"Helvetica,sans-Serif\" font-size=\"14.00\">samples = 70</text>\r\n",
       "<text text-anchor=\"start\" x=\"919\" y=\"-22.8\" font-family=\"Helvetica,sans-Serif\" font-size=\"14.00\">value = [35, 35]</text>\r\n",
       "<text text-anchor=\"start\" x=\"938.5\" y=\"-7.8\" font-family=\"Helvetica,sans-Serif\" font-size=\"14.00\">class = 1</text>\r\n",
       "</g>\r\n",
       "<!-- 14&#45;&gt;16 -->\r\n",
       "<g id=\"edge16\" class=\"edge\"><title>14&#45;&gt;16</title>\r\n",
       "<path fill=\"none\" stroke=\"black\" d=\"M877.12,-103.726C889.715,-94.1494 903.113,-83.9611 915.629,-74.4438\"/>\r\n",
       "<polygon fill=\"black\" stroke=\"black\" points=\"917.867,-77.1386 923.709,-68.2996 913.63,-71.5666 917.867,-77.1386\"/>\r\n",
       "</g>\r\n",
       "<!-- 18 -->\r\n",
       "<g id=\"node19\" class=\"node\"><title>18</title>\r\n",
       "<path fill=\"#ffffff\" stroke=\"black\" d=\"M1086.5,-306C1086.5,-306 932.5,-306 932.5,-306 926.5,-306 920.5,-300 920.5,-294 920.5,-294 920.5,-235 920.5,-235 920.5,-229 926.5,-223 932.5,-223 932.5,-223 1086.5,-223 1086.5,-223 1092.5,-223 1098.5,-229 1098.5,-235 1098.5,-235 1098.5,-294 1098.5,-294 1098.5,-300 1092.5,-306 1086.5,-306\"/>\r\n",
       "<text text-anchor=\"start\" x=\"928.5\" y=\"-290.8\" font-family=\"Helvetica,sans-Serif\" font-size=\"14.00\">Trihalomethanes ≤ &#45;0.263</text>\r\n",
       "<text text-anchor=\"start\" x=\"980.5\" y=\"-275.8\" font-family=\"Helvetica,sans-Serif\" font-size=\"14.00\">gini = 0.5</text>\r\n",
       "<text text-anchor=\"start\" x=\"970\" y=\"-260.8\" font-family=\"Helvetica,sans-Serif\" font-size=\"14.00\">samples = 4</text>\r\n",
       "<text text-anchor=\"start\" x=\"969\" y=\"-245.8\" font-family=\"Helvetica,sans-Serif\" font-size=\"14.00\">value = [2, 2]</text>\r\n",
       "<text text-anchor=\"start\" x=\"980.5\" y=\"-230.8\" font-family=\"Helvetica,sans-Serif\" font-size=\"14.00\">class = 1</text>\r\n",
       "</g>\r\n",
       "<!-- 17&#45;&gt;18 -->\r\n",
       "<g id=\"edge18\" class=\"edge\"><title>17&#45;&gt;18</title>\r\n",
       "<path fill=\"none\" stroke=\"black\" d=\"M1055.87,-341.907C1050.53,-333.105 1044.82,-323.703 1039.3,-314.612\"/>\r\n",
       "<polygon fill=\"black\" stroke=\"black\" points=\"1042.27,-312.754 1034.09,-306.021 1036.29,-316.386 1042.27,-312.754\"/>\r\n",
       "</g>\r\n",
       "<!-- 21 -->\r\n",
       "<g id=\"node22\" class=\"node\"><title>21</title>\r\n",
       "<path fill=\"#399de5\" stroke=\"black\" d=\"M1202,-298.5C1202,-298.5 1129,-298.5 1129,-298.5 1123,-298.5 1117,-292.5 1117,-286.5 1117,-286.5 1117,-242.5 1117,-242.5 1117,-236.5 1123,-230.5 1129,-230.5 1129,-230.5 1202,-230.5 1202,-230.5 1208,-230.5 1214,-236.5 1214,-242.5 1214,-242.5 1214,-286.5 1214,-286.5 1214,-292.5 1208,-298.5 1202,-298.5\"/>\r\n",
       "<text text-anchor=\"start\" x=\"1136.5\" y=\"-283.3\" font-family=\"Helvetica,sans-Serif\" font-size=\"14.00\">gini = 0.0</text>\r\n",
       "<text text-anchor=\"start\" x=\"1126\" y=\"-268.3\" font-family=\"Helvetica,sans-Serif\" font-size=\"14.00\">samples = 8</text>\r\n",
       "<text text-anchor=\"start\" x=\"1125\" y=\"-253.3\" font-family=\"Helvetica,sans-Serif\" font-size=\"14.00\">value = [0, 8]</text>\r\n",
       "<text text-anchor=\"start\" x=\"1136.5\" y=\"-238.3\" font-family=\"Helvetica,sans-Serif\" font-size=\"14.00\">class = 0</text>\r\n",
       "</g>\r\n",
       "<!-- 17&#45;&gt;21 -->\r\n",
       "<g id=\"edge21\" class=\"edge\"><title>17&#45;&gt;21</title>\r\n",
       "<path fill=\"none\" stroke=\"black\" d=\"M1109.99,-341.907C1118.25,-330.542 1127.23,-318.178 1135.51,-306.774\"/>\r\n",
       "<polygon fill=\"black\" stroke=\"black\" points=\"1138.36,-308.814 1141.4,-298.667 1132.7,-304.7 1138.36,-308.814\"/>\r\n",
       "</g>\r\n",
       "<!-- 19 -->\r\n",
       "<g id=\"node20\" class=\"node\"><title>19</title>\r\n",
       "<path fill=\"#399de5\" stroke=\"black\" d=\"M1013,-179.5C1013,-179.5 940,-179.5 940,-179.5 934,-179.5 928,-173.5 928,-167.5 928,-167.5 928,-123.5 928,-123.5 928,-117.5 934,-111.5 940,-111.5 940,-111.5 1013,-111.5 1013,-111.5 1019,-111.5 1025,-117.5 1025,-123.5 1025,-123.5 1025,-167.5 1025,-167.5 1025,-173.5 1019,-179.5 1013,-179.5\"/>\r\n",
       "<text text-anchor=\"start\" x=\"947.5\" y=\"-164.3\" font-family=\"Helvetica,sans-Serif\" font-size=\"14.00\">gini = 0.0</text>\r\n",
       "<text text-anchor=\"start\" x=\"937\" y=\"-149.3\" font-family=\"Helvetica,sans-Serif\" font-size=\"14.00\">samples = 2</text>\r\n",
       "<text text-anchor=\"start\" x=\"936\" y=\"-134.3\" font-family=\"Helvetica,sans-Serif\" font-size=\"14.00\">value = [0, 2]</text>\r\n",
       "<text text-anchor=\"start\" x=\"947.5\" y=\"-119.3\" font-family=\"Helvetica,sans-Serif\" font-size=\"14.00\">class = 0</text>\r\n",
       "</g>\r\n",
       "<!-- 18&#45;&gt;19 -->\r\n",
       "<g id=\"edge19\" class=\"edge\"><title>18&#45;&gt;19</title>\r\n",
       "<path fill=\"none\" stroke=\"black\" d=\"M998.051,-222.907C995.001,-212.094 991.696,-200.376 988.612,-189.441\"/>\r\n",
       "<polygon fill=\"black\" stroke=\"black\" points=\"991.938,-188.341 985.855,-179.667 985.201,-190.242 991.938,-188.341\"/>\r\n",
       "</g>\r\n",
       "<!-- 20 -->\r\n",
       "<g id=\"node21\" class=\"node\"><title>20</title>\r\n",
       "<path fill=\"#e58139\" stroke=\"black\" d=\"M1128,-179.5C1128,-179.5 1055,-179.5 1055,-179.5 1049,-179.5 1043,-173.5 1043,-167.5 1043,-167.5 1043,-123.5 1043,-123.5 1043,-117.5 1049,-111.5 1055,-111.5 1055,-111.5 1128,-111.5 1128,-111.5 1134,-111.5 1140,-117.5 1140,-123.5 1140,-123.5 1140,-167.5 1140,-167.5 1140,-173.5 1134,-179.5 1128,-179.5\"/>\r\n",
       "<text text-anchor=\"start\" x=\"1062.5\" y=\"-164.3\" font-family=\"Helvetica,sans-Serif\" font-size=\"14.00\">gini = 0.0</text>\r\n",
       "<text text-anchor=\"start\" x=\"1052\" y=\"-149.3\" font-family=\"Helvetica,sans-Serif\" font-size=\"14.00\">samples = 2</text>\r\n",
       "<text text-anchor=\"start\" x=\"1051\" y=\"-134.3\" font-family=\"Helvetica,sans-Serif\" font-size=\"14.00\">value = [2, 0]</text>\r\n",
       "<text text-anchor=\"start\" x=\"1062.5\" y=\"-119.3\" font-family=\"Helvetica,sans-Serif\" font-size=\"14.00\">class = 1</text>\r\n",
       "</g>\r\n",
       "<!-- 18&#45;&gt;20 -->\r\n",
       "<g id=\"edge20\" class=\"edge\"><title>18&#45;&gt;20</title>\r\n",
       "<path fill=\"none\" stroke=\"black\" d=\"M1037.95,-222.907C1045.84,-211.652 1054.41,-199.418 1062.34,-188.106\"/>\r\n",
       "<polygon fill=\"black\" stroke=\"black\" points=\"1065.38,-189.865 1068.25,-179.667 1059.65,-185.847 1065.38,-189.865\"/>\r\n",
       "</g>\r\n",
       "<!-- 23 -->\r\n",
       "<g id=\"node24\" class=\"node\"><title>23</title>\r\n",
       "<path fill=\"#fdf8f3\" stroke=\"black\" d=\"M1373.5,-425C1373.5,-425 1249.5,-425 1249.5,-425 1243.5,-425 1237.5,-419 1237.5,-413 1237.5,-413 1237.5,-354 1237.5,-354 1237.5,-348 1243.5,-342 1249.5,-342 1249.5,-342 1373.5,-342 1373.5,-342 1379.5,-342 1385.5,-348 1385.5,-354 1385.5,-354 1385.5,-413 1385.5,-413 1385.5,-419 1379.5,-425 1373.5,-425\"/>\r\n",
       "<text text-anchor=\"start\" x=\"1245.5\" y=\"-409.8\" font-family=\"Helvetica,sans-Serif\" font-size=\"14.00\">Chloramines ≤ 1.392</text>\r\n",
       "<text text-anchor=\"start\" x=\"1282.5\" y=\"-394.8\" font-family=\"Helvetica,sans-Serif\" font-size=\"14.00\">gini = 0.5</text>\r\n",
       "<text text-anchor=\"start\" x=\"1264\" y=\"-379.8\" font-family=\"Helvetica,sans-Serif\" font-size=\"14.00\">samples = 200</text>\r\n",
       "<text text-anchor=\"start\" x=\"1258.5\" y=\"-364.8\" font-family=\"Helvetica,sans-Serif\" font-size=\"14.00\">value = [103, 97]</text>\r\n",
       "<text text-anchor=\"start\" x=\"1282.5\" y=\"-349.8\" font-family=\"Helvetica,sans-Serif\" font-size=\"14.00\">class = 1</text>\r\n",
       "</g>\r\n",
       "<!-- 22&#45;&gt;23 -->\r\n",
       "<g id=\"edge23\" class=\"edge\"><title>22&#45;&gt;23</title>\r\n",
       "<path fill=\"none\" stroke=\"black\" d=\"M1311.5,-460.907C1311.5,-452.649 1311.5,-443.864 1311.5,-435.302\"/>\r\n",
       "<polygon fill=\"black\" stroke=\"black\" points=\"1315,-435.021 1311.5,-425.021 1308,-435.021 1315,-435.021\"/>\r\n",
       "</g>\r\n",
       "<!-- 34 -->\r\n",
       "<g id=\"node35\" class=\"node\"><title>34</title>\r\n",
       "<path fill=\"#399de5\" stroke=\"black\" d=\"M1489,-417.5C1489,-417.5 1416,-417.5 1416,-417.5 1410,-417.5 1404,-411.5 1404,-405.5 1404,-405.5 1404,-361.5 1404,-361.5 1404,-355.5 1410,-349.5 1416,-349.5 1416,-349.5 1489,-349.5 1489,-349.5 1495,-349.5 1501,-355.5 1501,-361.5 1501,-361.5 1501,-405.5 1501,-405.5 1501,-411.5 1495,-417.5 1489,-417.5\"/>\r\n",
       "<text text-anchor=\"start\" x=\"1423.5\" y=\"-402.3\" font-family=\"Helvetica,sans-Serif\" font-size=\"14.00\">gini = 0.0</text>\r\n",
       "<text text-anchor=\"start\" x=\"1413\" y=\"-387.3\" font-family=\"Helvetica,sans-Serif\" font-size=\"14.00\">samples = 7</text>\r\n",
       "<text text-anchor=\"start\" x=\"1412\" y=\"-372.3\" font-family=\"Helvetica,sans-Serif\" font-size=\"14.00\">value = [0, 7]</text>\r\n",
       "<text text-anchor=\"start\" x=\"1423.5\" y=\"-357.3\" font-family=\"Helvetica,sans-Serif\" font-size=\"14.00\">class = 0</text>\r\n",
       "</g>\r\n",
       "<!-- 22&#45;&gt;34 -->\r\n",
       "<g id=\"edge34\" class=\"edge\"><title>22&#45;&gt;34</title>\r\n",
       "<path fill=\"none\" stroke=\"black\" d=\"M1360.42,-460.907C1374.78,-448.99 1390.47,-435.976 1404.75,-424.12\"/>\r\n",
       "<polygon fill=\"black\" stroke=\"black\" points=\"1407.07,-426.746 1412.53,-417.667 1402.6,-421.359 1407.07,-426.746\"/>\r\n",
       "</g>\r\n",
       "<!-- 24 -->\r\n",
       "<g id=\"node25\" class=\"node\"><title>24</title>\r\n",
       "<path fill=\"#52a9e8\" stroke=\"black\" d=\"M1364,-306C1364,-306 1259,-306 1259,-306 1253,-306 1247,-300 1247,-294 1247,-294 1247,-235 1247,-235 1247,-229 1253,-223 1259,-223 1259,-223 1364,-223 1364,-223 1370,-223 1376,-229 1376,-235 1376,-235 1376,-294 1376,-294 1376,-300 1370,-306 1364,-306\"/>\r\n",
       "<text text-anchor=\"start\" x=\"1255\" y=\"-290.8\" font-family=\"Helvetica,sans-Serif\" font-size=\"14.00\">Hardness ≤ 0.391</text>\r\n",
       "<text text-anchor=\"start\" x=\"1274\" y=\"-275.8\" font-family=\"Helvetica,sans-Serif\" font-size=\"14.00\">gini = 0.198</text>\r\n",
       "<text text-anchor=\"start\" x=\"1272\" y=\"-260.8\" font-family=\"Helvetica,sans-Serif\" font-size=\"14.00\">samples = 9</text>\r\n",
       "<text text-anchor=\"start\" x=\"1271\" y=\"-245.8\" font-family=\"Helvetica,sans-Serif\" font-size=\"14.00\">value = [1, 8]</text>\r\n",
       "<text text-anchor=\"start\" x=\"1282.5\" y=\"-230.8\" font-family=\"Helvetica,sans-Serif\" font-size=\"14.00\">class = 0</text>\r\n",
       "</g>\r\n",
       "<!-- 23&#45;&gt;24 -->\r\n",
       "<g id=\"edge24\" class=\"edge\"><title>23&#45;&gt;24</title>\r\n",
       "<path fill=\"none\" stroke=\"black\" d=\"M1311.5,-341.907C1311.5,-333.649 1311.5,-324.864 1311.5,-316.302\"/>\r\n",
       "<polygon fill=\"black\" stroke=\"black\" points=\"1315,-316.021 1311.5,-306.021 1308,-316.021 1315,-316.021\"/>\r\n",
       "</g>\r\n",
       "<!-- 29 -->\r\n",
       "<g id=\"node30\" class=\"node\"><title>29</title>\r\n",
       "<path fill=\"#fcefe6\" stroke=\"black\" d=\"M1549.5,-306C1549.5,-306 1451.5,-306 1451.5,-306 1445.5,-306 1439.5,-300 1439.5,-294 1439.5,-294 1439.5,-235 1439.5,-235 1439.5,-229 1445.5,-223 1451.5,-223 1451.5,-223 1549.5,-223 1549.5,-223 1555.5,-223 1561.5,-229 1561.5,-235 1561.5,-235 1561.5,-294 1561.5,-294 1561.5,-300 1555.5,-306 1549.5,-306\"/>\r\n",
       "<text text-anchor=\"start\" x=\"1447.5\" y=\"-290.8\" font-family=\"Helvetica,sans-Serif\" font-size=\"14.00\">Turbidity ≤ 1.986</text>\r\n",
       "<text text-anchor=\"start\" x=\"1463\" y=\"-275.8\" font-family=\"Helvetica,sans-Serif\" font-size=\"14.00\">gini = 0.498</text>\r\n",
       "<text text-anchor=\"start\" x=\"1453\" y=\"-260.8\" font-family=\"Helvetica,sans-Serif\" font-size=\"14.00\">samples = 191</text>\r\n",
       "<text text-anchor=\"start\" x=\"1447.5\" y=\"-245.8\" font-family=\"Helvetica,sans-Serif\" font-size=\"14.00\">value = [102, 89]</text>\r\n",
       "<text text-anchor=\"start\" x=\"1471.5\" y=\"-230.8\" font-family=\"Helvetica,sans-Serif\" font-size=\"14.00\">class = 1</text>\r\n",
       "</g>\r\n",
       "<!-- 23&#45;&gt;29 -->\r\n",
       "<g id=\"edge29\" class=\"edge\"><title>23&#45;&gt;29</title>\r\n",
       "<path fill=\"none\" stroke=\"black\" d=\"M1377.07,-341.907C1394.48,-331.131 1413.34,-319.457 1430.95,-308.554\"/>\r\n",
       "<polygon fill=\"black\" stroke=\"black\" points=\"1432.83,-311.51 1439.49,-303.271 1429.14,-305.558 1432.83,-311.51\"/>\r\n",
       "</g>\r\n",
       "<!-- 25 -->\r\n",
       "<g id=\"node26\" class=\"node\"><title>25</title>\r\n",
       "<path fill=\"#399de5\" stroke=\"black\" d=\"M1243,-179.5C1243,-179.5 1170,-179.5 1170,-179.5 1164,-179.5 1158,-173.5 1158,-167.5 1158,-167.5 1158,-123.5 1158,-123.5 1158,-117.5 1164,-111.5 1170,-111.5 1170,-111.5 1243,-111.5 1243,-111.5 1249,-111.5 1255,-117.5 1255,-123.5 1255,-123.5 1255,-167.5 1255,-167.5 1255,-173.5 1249,-179.5 1243,-179.5\"/>\r\n",
       "<text text-anchor=\"start\" x=\"1177.5\" y=\"-164.3\" font-family=\"Helvetica,sans-Serif\" font-size=\"14.00\">gini = 0.0</text>\r\n",
       "<text text-anchor=\"start\" x=\"1167\" y=\"-149.3\" font-family=\"Helvetica,sans-Serif\" font-size=\"14.00\">samples = 7</text>\r\n",
       "<text text-anchor=\"start\" x=\"1166\" y=\"-134.3\" font-family=\"Helvetica,sans-Serif\" font-size=\"14.00\">value = [0, 7]</text>\r\n",
       "<text text-anchor=\"start\" x=\"1177.5\" y=\"-119.3\" font-family=\"Helvetica,sans-Serif\" font-size=\"14.00\">class = 0</text>\r\n",
       "</g>\r\n",
       "<!-- 24&#45;&gt;25 -->\r\n",
       "<g id=\"edge25\" class=\"edge\"><title>24&#45;&gt;25</title>\r\n",
       "<path fill=\"none\" stroke=\"black\" d=\"M1275.07,-222.907C1264.67,-211.321 1253.34,-198.698 1242.95,-187.111\"/>\r\n",
       "<polygon fill=\"black\" stroke=\"black\" points=\"1245.55,-184.772 1236.27,-179.667 1240.34,-189.447 1245.55,-184.772\"/>\r\n",
       "</g>\r\n",
       "<!-- 26 -->\r\n",
       "<g id=\"node27\" class=\"node\"><title>26</title>\r\n",
       "<path fill=\"#ffffff\" stroke=\"black\" d=\"M1406,-187C1406,-187 1285,-187 1285,-187 1279,-187 1273,-181 1273,-175 1273,-175 1273,-116 1273,-116 1273,-110 1279,-104 1285,-104 1285,-104 1406,-104 1406,-104 1412,-104 1418,-110 1418,-116 1418,-116 1418,-175 1418,-175 1418,-181 1412,-187 1406,-187\"/>\r\n",
       "<text text-anchor=\"start\" x=\"1281\" y=\"-171.8\" font-family=\"Helvetica,sans-Serif\" font-size=\"14.00\">Conductivity ≤ 0.046</text>\r\n",
       "<text text-anchor=\"start\" x=\"1316.5\" y=\"-156.8\" font-family=\"Helvetica,sans-Serif\" font-size=\"14.00\">gini = 0.5</text>\r\n",
       "<text text-anchor=\"start\" x=\"1306\" y=\"-141.8\" font-family=\"Helvetica,sans-Serif\" font-size=\"14.00\">samples = 2</text>\r\n",
       "<text text-anchor=\"start\" x=\"1305\" y=\"-126.8\" font-family=\"Helvetica,sans-Serif\" font-size=\"14.00\">value = [1, 1]</text>\r\n",
       "<text text-anchor=\"start\" x=\"1316.5\" y=\"-111.8\" font-family=\"Helvetica,sans-Serif\" font-size=\"14.00\">class = 1</text>\r\n",
       "</g>\r\n",
       "<!-- 24&#45;&gt;26 -->\r\n",
       "<g id=\"edge26\" class=\"edge\"><title>24&#45;&gt;26</title>\r\n",
       "<path fill=\"none\" stroke=\"black\" d=\"M1323.3,-222.907C1325.75,-214.468 1328.36,-205.477 1330.9,-196.738\"/>\r\n",
       "<polygon fill=\"black\" stroke=\"black\" points=\"1334.3,-197.6 1333.72,-187.021 1327.57,-195.647 1334.3,-197.6\"/>\r\n",
       "</g>\r\n",
       "<!-- 27 -->\r\n",
       "<g id=\"node28\" class=\"node\"><title>27</title>\r\n",
       "<path fill=\"#399de5\" stroke=\"black\" d=\"M1275,-68C1275,-68 1202,-68 1202,-68 1196,-68 1190,-62 1190,-56 1190,-56 1190,-12 1190,-12 1190,-6 1196,-0 1202,-0 1202,-0 1275,-0 1275,-0 1281,-0 1287,-6 1287,-12 1287,-12 1287,-56 1287,-56 1287,-62 1281,-68 1275,-68\"/>\r\n",
       "<text text-anchor=\"start\" x=\"1209.5\" y=\"-52.8\" font-family=\"Helvetica,sans-Serif\" font-size=\"14.00\">gini = 0.0</text>\r\n",
       "<text text-anchor=\"start\" x=\"1199\" y=\"-37.8\" font-family=\"Helvetica,sans-Serif\" font-size=\"14.00\">samples = 1</text>\r\n",
       "<text text-anchor=\"start\" x=\"1198\" y=\"-22.8\" font-family=\"Helvetica,sans-Serif\" font-size=\"14.00\">value = [0, 1]</text>\r\n",
       "<text text-anchor=\"start\" x=\"1209.5\" y=\"-7.8\" font-family=\"Helvetica,sans-Serif\" font-size=\"14.00\">class = 0</text>\r\n",
       "</g>\r\n",
       "<!-- 26&#45;&gt;27 -->\r\n",
       "<g id=\"edge27\" class=\"edge\"><title>26&#45;&gt;27</title>\r\n",
       "<path fill=\"none\" stroke=\"black\" d=\"M1305.66,-103.726C1296.66,-94.5142 1287.1,-84.7364 1278.11,-75.5343\"/>\r\n",
       "<polygon fill=\"black\" stroke=\"black\" points=\"1280.53,-73.0057 1271.04,-68.2996 1275.53,-77.898 1280.53,-73.0057\"/>\r\n",
       "</g>\r\n",
       "<!-- 28 -->\r\n",
       "<g id=\"node29\" class=\"node\"><title>28</title>\r\n",
       "<path fill=\"#e58139\" stroke=\"black\" d=\"M1390,-68C1390,-68 1317,-68 1317,-68 1311,-68 1305,-62 1305,-56 1305,-56 1305,-12 1305,-12 1305,-6 1311,-0 1317,-0 1317,-0 1390,-0 1390,-0 1396,-0 1402,-6 1402,-12 1402,-12 1402,-56 1402,-56 1402,-62 1396,-68 1390,-68\"/>\r\n",
       "<text text-anchor=\"start\" x=\"1324.5\" y=\"-52.8\" font-family=\"Helvetica,sans-Serif\" font-size=\"14.00\">gini = 0.0</text>\r\n",
       "<text text-anchor=\"start\" x=\"1314\" y=\"-37.8\" font-family=\"Helvetica,sans-Serif\" font-size=\"14.00\">samples = 1</text>\r\n",
       "<text text-anchor=\"start\" x=\"1313\" y=\"-22.8\" font-family=\"Helvetica,sans-Serif\" font-size=\"14.00\">value = [1, 0]</text>\r\n",
       "<text text-anchor=\"start\" x=\"1324.5\" y=\"-7.8\" font-family=\"Helvetica,sans-Serif\" font-size=\"14.00\">class = 1</text>\r\n",
       "</g>\r\n",
       "<!-- 26&#45;&gt;28 -->\r\n",
       "<g id=\"edge28\" class=\"edge\"><title>26&#45;&gt;28</title>\r\n",
       "<path fill=\"none\" stroke=\"black\" d=\"M1348.48,-103.726C1349.09,-95.4263 1349.73,-86.6671 1350.34,-78.2834\"/>\r\n",
       "<polygon fill=\"black\" stroke=\"black\" points=\"1353.83,-78.5281 1351.07,-68.2996 1346.85,-78.018 1353.83,-78.5281\"/>\r\n",
       "</g>\r\n",
       "<!-- 30 -->\r\n",
       "<g id=\"node31\" class=\"node\"><title>30</title>\r\n",
       "<path fill=\"#fdf5ef\" stroke=\"black\" d=\"M1553,-187C1553,-187 1448,-187 1448,-187 1442,-187 1436,-181 1436,-175 1436,-175 1436,-116 1436,-116 1436,-110 1442,-104 1448,-104 1448,-104 1553,-104 1553,-104 1559,-104 1565,-110 1565,-116 1565,-116 1565,-175 1565,-175 1565,-181 1559,-187 1553,-187\"/>\r\n",
       "<text text-anchor=\"start\" x=\"1444\" y=\"-171.8\" font-family=\"Helvetica,sans-Serif\" font-size=\"14.00\">Hardness ≤ 1.193</text>\r\n",
       "<text text-anchor=\"start\" x=\"1463\" y=\"-156.8\" font-family=\"Helvetica,sans-Serif\" font-size=\"14.00\">gini = 0.499</text>\r\n",
       "<text text-anchor=\"start\" x=\"1453\" y=\"-141.8\" font-family=\"Helvetica,sans-Serif\" font-size=\"14.00\">samples = 186</text>\r\n",
       "<text text-anchor=\"start\" x=\"1452\" y=\"-126.8\" font-family=\"Helvetica,sans-Serif\" font-size=\"14.00\">value = [97, 89]</text>\r\n",
       "<text text-anchor=\"start\" x=\"1471.5\" y=\"-111.8\" font-family=\"Helvetica,sans-Serif\" font-size=\"14.00\">class = 1</text>\r\n",
       "</g>\r\n",
       "<!-- 29&#45;&gt;30 -->\r\n",
       "<g id=\"edge30\" class=\"edge\"><title>29&#45;&gt;30</title>\r\n",
       "<path fill=\"none\" stroke=\"black\" d=\"M1500.5,-222.907C1500.5,-214.649 1500.5,-205.864 1500.5,-197.302\"/>\r\n",
       "<polygon fill=\"black\" stroke=\"black\" points=\"1504,-197.021 1500.5,-187.021 1497,-197.021 1504,-197.021\"/>\r\n",
       "</g>\r\n",
       "<!-- 33 -->\r\n",
       "<g id=\"node34\" class=\"node\"><title>33</title>\r\n",
       "<path fill=\"#e58139\" stroke=\"black\" d=\"M1668,-179.5C1668,-179.5 1595,-179.5 1595,-179.5 1589,-179.5 1583,-173.5 1583,-167.5 1583,-167.5 1583,-123.5 1583,-123.5 1583,-117.5 1589,-111.5 1595,-111.5 1595,-111.5 1668,-111.5 1668,-111.5 1674,-111.5 1680,-117.5 1680,-123.5 1680,-123.5 1680,-167.5 1680,-167.5 1680,-173.5 1674,-179.5 1668,-179.5\"/>\r\n",
       "<text text-anchor=\"start\" x=\"1602.5\" y=\"-164.3\" font-family=\"Helvetica,sans-Serif\" font-size=\"14.00\">gini = 0.0</text>\r\n",
       "<text text-anchor=\"start\" x=\"1592\" y=\"-149.3\" font-family=\"Helvetica,sans-Serif\" font-size=\"14.00\">samples = 5</text>\r\n",
       "<text text-anchor=\"start\" x=\"1591\" y=\"-134.3\" font-family=\"Helvetica,sans-Serif\" font-size=\"14.00\">value = [5, 0]</text>\r\n",
       "<text text-anchor=\"start\" x=\"1602.5\" y=\"-119.3\" font-family=\"Helvetica,sans-Serif\" font-size=\"14.00\">class = 1</text>\r\n",
       "</g>\r\n",
       "<!-- 29&#45;&gt;33 -->\r\n",
       "<g id=\"edge33\" class=\"edge\"><title>29&#45;&gt;33</title>\r\n",
       "<path fill=\"none\" stroke=\"black\" d=\"M1545.95,-222.907C1559.17,-211.101 1573.6,-198.217 1586.77,-186.45\"/>\r\n",
       "<polygon fill=\"black\" stroke=\"black\" points=\"1589.24,-188.939 1594.36,-179.667 1584.57,-183.718 1589.24,-188.939\"/>\r\n",
       "</g>\r\n",
       "<!-- 31 -->\r\n",
       "<g id=\"node32\" class=\"node\"><title>31</title>\r\n",
       "<path fill=\"#f7fbfe\" stroke=\"black\" d=\"M1537,-68C1537,-68 1448,-68 1448,-68 1442,-68 1436,-62 1436,-56 1436,-56 1436,-12 1436,-12 1436,-6 1442,-0 1448,-0 1448,-0 1537,-0 1537,-0 1543,-0 1549,-6 1549,-12 1549,-12 1549,-56 1549,-56 1549,-62 1543,-68 1537,-68\"/>\r\n",
       "<text text-anchor=\"start\" x=\"1463.5\" y=\"-52.8\" font-family=\"Helvetica,sans-Serif\" font-size=\"14.00\">gini = 0.5</text>\r\n",
       "<text text-anchor=\"start\" x=\"1445\" y=\"-37.8\" font-family=\"Helvetica,sans-Serif\" font-size=\"14.00\">samples = 155</text>\r\n",
       "<text text-anchor=\"start\" x=\"1444\" y=\"-22.8\" font-family=\"Helvetica,sans-Serif\" font-size=\"14.00\">value = [76, 79]</text>\r\n",
       "<text text-anchor=\"start\" x=\"1463.5\" y=\"-7.8\" font-family=\"Helvetica,sans-Serif\" font-size=\"14.00\">class = 0</text>\r\n",
       "</g>\r\n",
       "<!-- 30&#45;&gt;31 -->\r\n",
       "<g id=\"edge31\" class=\"edge\"><title>30&#45;&gt;31</title>\r\n",
       "<path fill=\"none\" stroke=\"black\" d=\"M1497.52,-103.726C1496.91,-95.4263 1496.27,-86.6671 1495.66,-78.2834\"/>\r\n",
       "<polygon fill=\"black\" stroke=\"black\" points=\"1499.15,-78.018 1494.93,-68.2996 1492.17,-78.5281 1499.15,-78.018\"/>\r\n",
       "</g>\r\n",
       "<!-- 32 -->\r\n",
       "<g id=\"node33\" class=\"node\"><title>32</title>\r\n",
       "<path fill=\"#f1bd97\" stroke=\"black\" d=\"M1668,-68C1668,-68 1579,-68 1579,-68 1573,-68 1567,-62 1567,-56 1567,-56 1567,-12 1567,-12 1567,-6 1573,-0 1579,-0 1579,-0 1668,-0 1668,-0 1674,-0 1680,-6 1680,-12 1680,-12 1680,-56 1680,-56 1680,-62 1674,-68 1668,-68\"/>\r\n",
       "<text text-anchor=\"start\" x=\"1586\" y=\"-52.8\" font-family=\"Helvetica,sans-Serif\" font-size=\"14.00\">gini = 0.437</text>\r\n",
       "<text text-anchor=\"start\" x=\"1580\" y=\"-37.8\" font-family=\"Helvetica,sans-Serif\" font-size=\"14.00\">samples = 31</text>\r\n",
       "<text text-anchor=\"start\" x=\"1575\" y=\"-22.8\" font-family=\"Helvetica,sans-Serif\" font-size=\"14.00\">value = [21, 10]</text>\r\n",
       "<text text-anchor=\"start\" x=\"1594.5\" y=\"-7.8\" font-family=\"Helvetica,sans-Serif\" font-size=\"14.00\">class = 1</text>\r\n",
       "</g>\r\n",
       "<!-- 30&#45;&gt;32 -->\r\n",
       "<g id=\"edge32\" class=\"edge\"><title>30&#45;&gt;32</title>\r\n",
       "<path fill=\"none\" stroke=\"black\" d=\"M1546.3,-103.726C1556.85,-94.3318 1568.07,-84.349 1578.58,-74.9883\"/>\r\n",
       "<polygon fill=\"black\" stroke=\"black\" points=\"1580.95,-77.5631 1586.09,-68.2996 1576.3,-72.3347 1580.95,-77.5631\"/>\r\n",
       "</g>\r\n",
       "</g>\r\n",
       "</svg>\r\n"
      ],
      "text/plain": [
       "<graphviz.files.Source at 0x2196b09e8e0>"
      ]
     },
     "execution_count": 91,
     "metadata": {},
     "output_type": "execute_result"
    }
   ],
   "source": [
    "dot_data = export_graphviz(tr_clf, out_file=None, \n",
    "                           feature_names=data_X_train.columns.tolist(), \n",
    "                           class_names=['1', '0'], \n",
    "                           filled=True, rounded=True, special_characters=True)  \n",
    "graph = graphviz.Source(dot_data)  \n",
    "graph"
   ]
  },
  {
   "cell_type": "code",
   "execution_count": 92,
   "metadata": {},
   "outputs": [
    {
     "data": {
      "image/png": "[encoded data removed]",
      "text/plain": [
       "<Figure size 720x504 with 1 Axes>"
      ]
     },
     "metadata": {},
     "output_type": "display_data"
    }
   ],
   "source": [
    "show_feature_importance(tr_clf.feature_importances_, data_X_train.columns.tolist())"
   ]
  },
  {
   "cell_type": "markdown",
   "metadata": {},
   "source": [
    "## Итоги"
   ]
  },
  {
   "cell_type": "code",
   "execution_count": 94,
   "metadata": {},
   "outputs": [],
   "source": [
    "lst_label_cv = ['LR', 'SVM', 'DT']\n",
    "dc_score = {'Удален признак Organic_carbon':[LRd, SVMd, DTd],\\\n",
    "           'Не удален признак Organic_carbon':[LR, SVM, DT]}"
   ]
  },
  {
   "cell_type": "markdown",
   "metadata": {},
   "source": [
    "### 1. Метрика balanced_accuracy"
   ]
  },
  {
   "cell_type": "code",
   "execution_count": 95,
   "metadata": {},
   "outputs": [
    {
     "data": {
      "text/html": [
       "<div>\n",
       "<style scoped>\n",
       "    .dataframe tbody tr th:only-of-type {\n",
       "        vertical-align: middle;\n",
       "    }\n",
       "\n",
       "    .dataframe tbody tr th {\n",
       "        vertical-align: top;\n",
       "    }\n",
       "\n",
       "    .dataframe thead th {\n",
       "        text-align: right;\n",
       "    }\n",
       "</style>\n",
       "<table border=\"1\" class=\"dataframe\">\n",
       "  <thead>\n",
       "    <tr style=\"text-align: right;\">\n",
       "      <th></th>\n",
       "      <th>Удален признак Organic_carbon</th>\n",
       "      <th>Не удален признак Organic_carbon</th>\n",
       "    </tr>\n",
       "  </thead>\n",
       "  <tbody>\n",
       "    <tr>\n",
       "      <th>LR</th>\n",
       "      <td>0.500000</td>\n",
       "      <td>0.500000</td>\n",
       "    </tr>\n",
       "    <tr>\n",
       "      <th>SVM</th>\n",
       "      <td>0.535235</td>\n",
       "      <td>0.529633</td>\n",
       "    </tr>\n",
       "    <tr>\n",
       "      <th>DT</th>\n",
       "      <td>0.514923</td>\n",
       "      <td>0.508511</td>\n",
       "    </tr>\n",
       "  </tbody>\n",
       "</table>\n",
       "</div>"
      ],
      "text/plain": [
       "     Удален признак Organic_carbon  Не удален признак Organic_carbon\n",
       "LR                        0.500000                          0.500000\n",
       "SVM                       0.535235                          0.529633\n",
       "DT                        0.514923                          0.508511"
      ]
     },
     "execution_count": 95,
     "metadata": {},
     "output_type": "execute_result"
    }
   ],
   "source": [
    "pd.DataFrame(dc_score, index=lst_label_cv)"
   ]
  },
  {
   "cell_type": "markdown",
   "metadata": {},
   "source": [
    "### 2. Метрика ROC_CURVE"
   ]
  },
  {
   "cell_type": "markdown",
   "metadata": {},
   "source": [
    "###  Удален признак Organic_carbon"
   ]
  },
  {
   "cell_type": "markdown",
   "metadata": {},
   "source": [
    "#### LR"
   ]
  },
  {
   "cell_type": "code",
   "execution_count": 96,
   "metadata": {},
   "outputs": [
    {
     "data": {
      "text/plain": [
       "<sklearn.metrics._plot.roc_curve.RocCurveDisplay at 0x2196b20afa0>"
      ]
     },
     "execution_count": 96,
     "metadata": {},
     "output_type": "execute_result"
    },
    {
     "data": {
      "image/png": "[encoded data removed]",
      "text/plain": [
       "<Figure size 432x288 with 1 Axes>"
      ]
     },
     "metadata": {},
     "output_type": "display_data"
    }
   ],
   "source": [
    "plot_roc_curve(LogisticRegression(C=linearD[0], max_iter=10000).fit(dataD_X_train, dataD_y_train), \\\n",
    "               dataD_X_test, dataD_y_test)"
   ]
  },
  {
   "cell_type": "markdown",
   "metadata": {},
   "source": [
    "#### SVM"
   ]
  },
  {
   "cell_type": "code",
   "execution_count": 97,
   "metadata": {},
   "outputs": [
    {
     "data": {
      "text/plain": [
       "<sklearn.metrics._plot.roc_curve.RocCurveDisplay at 0x2196b090d30>"
      ]
     },
     "execution_count": 97,
     "metadata": {},
     "output_type": "execute_result"
    },
    {
     "data": {
      "image/png": "[encoded data removed]",
      "text/plain": [
       "<Figure size 432x288 with 1 Axes>"
      ]
     },
     "metadata": {},
     "output_type": "display_data"
    }
   ],
   "source": [
    "plot_roc_curve(SVC(random_state=RANDOM_STATE, C=svmD[0]).fit(dataD_X_train, dataD_y_train), \\\n",
    "               dataD_X_test, dataD_y_test)"
   ]
  },
  {
   "cell_type": "markdown",
   "metadata": {},
   "source": [
    "#### DT"
   ]
  },
  {
   "cell_type": "code",
   "execution_count": 99,
   "metadata": {},
   "outputs": [
    {
     "data": {
      "text/plain": [
       "<sklearn.metrics._plot.roc_curve.RocCurveDisplay at 0x2196b0d9c10>"
      ]
     },
     "execution_count": 99,
     "metadata": {},
     "output_type": "execute_result"
    },
    {
     "data": {
      "image/png": "[encoded data removed]",
      "text/plain": [
       "<Figure size 432x288 with 1 Axes>"
      ]
     },
     "metadata": {},
     "output_type": "display_data"
    }
   ],
   "source": [
    "plot_roc_curve(DecisionTreeClassifier(max_depth=treeD[0], random_state=RANDOM_STATE).fit(dataD_X_train, \\\n",
    "               dataD_y_train), dataD_X_test, dataD_y_test)"
   ]
  },
  {
   "cell_type": "markdown",
   "metadata": {},
   "source": [
    "###  Не удален признак Organic_carbon"
   ]
  },
  {
   "cell_type": "markdown",
   "metadata": {},
   "source": [
    "#### LR"
   ]
  },
  {
   "cell_type": "code",
   "execution_count": 100,
   "metadata": {},
   "outputs": [
    {
     "data": {
      "text/plain": [
       "<sklearn.metrics._plot.roc_curve.RocCurveDisplay at 0x2196b07b0d0>"
      ]
     },
     "execution_count": 100,
     "metadata": {},
     "output_type": "execute_result"
    },
    {
     "data": {
      "image/png": "[encoded data removed]",
      "text/plain": [
       "<Figure size 432x288 with 1 Axes>"
      ]
     },
     "metadata": {},
     "output_type": "display_data"
    }
   ],
   "source": [
    "plot_roc_curve(LogisticRegression(C=linear[0], max_iter=10000).fit(data_X_train, data_y_train), \\\n",
    "               data_X_test, data_y_test)"
   ]
  },
  {
   "cell_type": "markdown",
   "metadata": {},
   "source": [
    "#### SVM"
   ]
  },
  {
   "cell_type": "code",
   "execution_count": 101,
   "metadata": {},
   "outputs": [
    {
     "data": {
      "text/plain": [
       "<sklearn.metrics._plot.roc_curve.RocCurveDisplay at 0x2196afbaf70>"
      ]
     },
     "execution_count": 101,
     "metadata": {},
     "output_type": "execute_result"
    },
    {
     "data": {
      "image/png": "[encoded data removed]",
      "text/plain": [
       "<Figure size 432x288 with 1 Axes>"
      ]
     },
     "metadata": {},
     "output_type": "display_data"
    }
   ],
   "source": [
    "plot_roc_curve(SVC(random_state=RANDOM_STATE, C=svm[0]).fit(data_X_train, data_y_train), data_X_test, data_y_test)"
   ]
  },
  {
   "cell_type": "markdown",
   "metadata": {},
   "source": [
    "#### DT"
   ]
  },
  {
   "cell_type": "code",
   "execution_count": 102,
   "metadata": {},
   "outputs": [
    {
     "data": {
      "text/plain": [
       "<sklearn.metrics._plot.roc_curve.RocCurveDisplay at 0x2196b50d5e0>"
      ]
     },
     "execution_count": 102,
     "metadata": {},
     "output_type": "execute_result"
    },
    {
     "data": {
      "image/png": "[encoded data removed]",
      "text/plain": [
       "<Figure size 432x288 with 1 Axes>"
      ]
     },
     "metadata": {},
     "output_type": "display_data"
    }
   ],
   "source": [
    "plot_roc_curve(DecisionTreeClassifier(max_depth=tree[0], random_state=RANDOM_STATE).fit(data_X_train, \\\n",
    "               data_y_train), data_X_test, data_y_test)"
   ]
  }
 ],
 "metadata": {
  "kernelspec": {
   "display_name": "Python 3",
   "language": "python",
   "name": "python3"
  },
  "language_info": {
   "codemirror_mode": {
    "name": "ipython",
    "version": 3
   },
   "file_extension": ".py",
   "mimetype": "text/x-python",
   "name": "python",
   "nbconvert_exporter": "python",
   "pygments_lexer": "ipython3",
   "version": "3.8.5"
  }
 },
 "nbformat": 4,
 "nbformat_minor": 4
}
